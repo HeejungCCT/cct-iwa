{
 "cells": [
  {
   "cell_type": "code",
   "execution_count": 17,
   "metadata": {
    "slideshow": {
     "slide_type": "skip"
    }
   },
   "outputs": [
    {
     "data": {
      "text/html": [
       "<style type=\"text/css\">\n",
       ".CodeMirror {width: 100vw}\n",
       ".container {width: 95% !important}\n",
       ".rendered_html {font-size:0.8em}\n",
       ".rendered_html table, .rendered_html th, .rendered_html tr, .rendered_html td {font-size: 100%}\n",
       "table td, table th {\n",
       "border: 1px  black solid !important;\n",
       "color: black !important;\n",
       "background-color: white;\n",
       "font-size:2.4em;\n",
       "}\n",
       "</style>\n"
      ],
      "text/plain": [
       "<IPython.core.display.HTML object>"
      ]
     },
     "metadata": {},
     "output_type": "display_data"
    }
   ],
   "source": [
    "%%HTML\n",
    "<style type=\"text/css\">\n",
    ".CodeMirror {width: 100vw}\n",
    ".container {width: 95% !important}\n",
    ".rendered_html {font-size:0.8em}\n",
    ".rendered_html table, .rendered_html th, .rendered_html tr, .rendered_html td {font-size: 100%}\n",
    "table td, table th {\n",
    "border: 1px  black solid !important;\n",
    "color: black !important;\n",
    "background-color: white;\n",
    "font-size:2.4em;\n",
    "}\n",
    "</style>"
   ]
  },
  {
   "cell_type": "markdown",
   "metadata": {
    "slideshow": {
     "slide_type": "slide"
    }
   },
   "source": [
    "# XPath <img src=\"https://img.icons8.com/dotty/80/000000/code--v2.png\" style=\"display:inline-block;vertical-align:middle;\">"
   ]
  },
  {
   "cell_type": "markdown",
   "metadata": {
    "slideshow": {
     "slide_type": ""
    }
   },
   "source": [
    "* Press `Space` to navigate through the slides\n",
    "* Use `Shift+Space` to go back"
   ]
  },
  {
   "cell_type": "markdown",
   "metadata": {
    "slideshow": {
     "slide_type": "slide"
    }
   },
   "source": [
    "# Introduction to XPath <img src=\"https://img.icons8.com/material/xml-transformer/80\" style=\"display:inline-block;vertical-align:middle;\">"
   ]
  },
  {
   "cell_type": "markdown",
   "metadata": {
    "slideshow": {
     "slide_type": "fragment"
    }
   },
   "source": [
    "* **XPath** is a syntax for defining parts of an XML document\n",
    "* **XPath** uses path expressions to navigate in XML documents\n",
    "* **XPath** contains a library of standard functions\n",
    "* **XPath** is a major element used in **XSL**"
   ]
  },
  {
   "cell_type": "markdown",
   "metadata": {
    "slideshow": {
     "slide_type": "slide"
    }
   },
   "source": [
    "# What is XPath?\n",
    "* Language for addressing parts of an XML document\n",
    " * Used in **XSLT**, **XQuery**\n",
    "\n",
    "* A dedicated and powerful expression language for forming queries based on the tree structure of an XML document.\n",
    "* It is used to:\n",
    " * Locate nodes in a tree\n",
    " * Extract information\n",
    " * Provide basic operations over data: e.g., manipulation of strings, numbers and booleans\n",
    "\n",
    "* Compact, non-XML syntax for use within URIs and XML attribute values\n",
    "* Operates on the abstract, logical structure of the XML document"
   ]
  },
  {
   "cell_type": "markdown",
   "metadata": {
    "slideshow": {
     "slide_type": "slide"
    }
   },
   "source": [
    "# XPath versions\n",
    "* **W3C Recommendation**\n",
    " * XPATH 1.0 - (1999)\n",
    " * XPATH 2.0  – (2010) – backwards compatible\n",
    "\n",
    "* **XPath 1.0**\n",
    " * considers a single XML document as a tree of nodes\n",
    " * Nodes have identity\n",
    " * Set of nodes  * unordered collection of nodes\n",
    "\n",
    "* **XPath 2.0**\n",
    " *  More complex, is a superset of XPath 1.0\n",
    " *  More elaborate data model\n",
    " *  More functions\n",
    " *  It does not considers on a single document tree, but on arbitrary data sets\n",
    " *  These can be arranged in sequences of items – ordered sets"
   ]
  },
  {
   "cell_type": "markdown",
   "metadata": {
    "slideshow": {
     "slide_type": "slide"
    }
   },
   "source": [
    "XPath defines 7 node types\n",
    "\n",
    "|Root/Document Node |The root of the tree representing the entire document contents, represented by the \"/\" |\n",
    "|:--|:--|\n",
    "|Element |Element nodes are defined by pairs of start <title> and end tags </title> |\n",
    "|Text |A character sequence in an element, comment, processing instruction, or namespace |\n",
    "|Attribute |The name and value of an attribute in an element |\n",
    "|Comment |Comments in an XML source document, such as <!-- model diagram --> |\n",
    "|Processing Instruction |An instruction in the source document, such as the <?xml-stylesheet href=“book.xsl“ type=\"text/xsl\"?> |\n",
    "|Namespace |A namespace declaration |\n"
   ]
  },
  {
   "cell_type": "markdown",
   "metadata": {
    "slideshow": {
     "slide_type": "slide"
    }
   },
   "source": [
    "# Basic Concepts\n",
    "* **Node Types**\n",
    " * XML documents are treated as trees of nodes\n",
    " * The topmost element of the tree is called the root (or\n",
    "document) node\n",
    " * XPath defines seven node types\n",
    "\n",
    "* **Context Node**\n",
    " * Provides the starting point (current node) that is basis of path\n",
    "navigation and evaluation\n",
    " * Default is the root (document)\n",
    "\n",
    "* **Location Steps**\n",
    " *  Provides the directions\n",
    " *  Sequences the nodes\n",
    " *  The evaluation of each node provides the current context\n",
    " *  Example: `/node1/node2/node3`"
   ]
  },
  {
   "cell_type": "code",
   "execution_count": 15,
   "metadata": {
    "cell_style": "center",
    "slideshow": {
     "slide_type": "skip"
    }
   },
   "outputs": [
    {
     "name": "stdout",
     "output_type": "stream",
     "text": [
      "Writing diagrams/diagram1.blockdiag\n"
     ]
    }
   ],
   "source": [
    "%%file diagrams/diagram1.blockdiag\n",
    "blockdiag {\n",
    "  default_fontsize = 20;\n",
    "  node_width = 200;\n",
    "  class attribute [style = dashed];\n",
    "  class text [style = dotted];\n",
    "  orientation = portrait;\n",
    "  name [class = \"attribute\"];\n",
    "  name2 [class = \"attribute\"];\n",
    "  theCourse [class = \"attribute\"];\n",
    "  75 [class = \"text\"];\n",
    "  name2 [label = \"name\"];\n",
    "  mark2 [label = \"MARK\"];\n",
    "  takenBy [class = \"attribute\"];\n",
    "  ASSESMENTS -> STUDENT -> MARK  [label = \"element\"];\n",
    "  ASSESMENTS -> COURSE -> mark2 [label = \"element\"];\n",
    "  COURSE -> name2 [label = \"attribute\"];\n",
    "  COURSE -> takenBy [label = \"attribute\"];\n",
    "  COURSE -> mark2 [label = \"element\"];\n",
    "  STUDENT -> name [label = \"attribute\"];\n",
    "  MARK -> 75 [label = \"text\"];\n",
    "  MARK -> theCourse [label = \"attribute\"];\n",
    "}"
   ]
  },
  {
   "cell_type": "code",
   "execution_count": 16,
   "metadata": {
    "cell_style": "center",
    "slideshow": {
     "slide_type": "skip"
    }
   },
   "outputs": [
    {
     "data": {
      "image/png": "[encoded data removed]",
      "text/plain": [
       "<IPython.core.display.Image object>"
      ]
     },
     "execution_count": 16,
     "metadata": {},
     "output_type": "execute_result"
    }
   ],
   "source": [
    "!blockdiag diagrams/diagram1.blockdiag\n",
    "from IPython.display import Image\n",
    "Image(\"diagrams/diagram1.png\")"
   ]
  },
  {
   "cell_type": "markdown",
   "metadata": {
    "slideshow": {
     "slide_type": "slide"
    }
   },
   "source": [
    "# Example Document\n",
    "\n",
    "```XML\n",
    "<ASSESSMENTS>\n",
    "    <STUDENT name=\"Smith\">\n",
    "        <MARK theCourse=\"4BA1\">75</MARK>\n",
    "        <MARK theCourse=\"4BA5\">99</MARK>\n",
    "    </STUDENT>\n",
    "    ...\n",
    "    <COURSE name=\"4BA1\" takenBy=\"Smith, Jones, ... \">\n",
    "        <MARK>60</MARK>\n",
    "    </COURSE>\n",
    "...\n",
    "</ASSESSMENTS>\n",
    "```\n",
    "<img src=\"diagrams/diagram1.png\">"
   ]
  },
  {
   "cell_type": "markdown",
   "metadata": {
    "slideshow": {
     "slide_type": "slide"
    }
   },
   "source": [
    "# Useful Properties of a Node\n",
    "* **Name** (Except root, text and comment nodes)\n",
    " * Qualified by the namespace, such as <xm:term> -\"xm\" is the\n",
    "namespace, \"term\" is the local part. They can be accessed by\n",
    "using the functions name(), namespace-uri(), local-name().\n",
    "* **String-value**\n",
    " * E.g. text if text node, comment text if comment node,\n",
    "attribute value if attribute node.\n",
    " * It can be accessed by the string() function.\n",
    "\n",
    "* **Child**: list of child nodes\n",
    "\n",
    "* **Parent**: every node except root\n",
    "\n",
    "* **Has-attribute**: list of attribute nodes associated with element node\n",
    "\n",
    "* **Has-namespace**: list of namespace nodes associated with element node"
   ]
  },
  {
   "cell_type": "markdown",
   "metadata": {
    "slideshow": {
     "slide_type": "slide"
    }
   },
   "source": [
    "# Data Types\n",
    "* **XPath 1.0**\n",
    " * number : stored as a floating point\n",
    " * string : a sequence of characters\n",
    " * boolean : a true or false value\n",
    " * node set : an unordered collection of unique nodes\n",
    "\n",
    "* **XPath 2.0**\n",
    " * Data types in XPATH 1.0 are pretty primitive\n",
    " * Supports data types taken from XML Schema\n",
    " * XPath 2.0 defines five additional datatypes:\n",
    "    * anyAtomicType, untyped, untypedAtomic, dayTimeDuration and yearMonthDuration."
   ]
  },
  {
   "cell_type": "markdown",
   "metadata": {
    "slideshow": {
     "slide_type": "slide"
    }
   },
   "source": [
    "# Location Paths\n",
    "* A location path (or path expression) identifies a set of\n",
    "nodes within an XML document\n",
    "* A location path consists of a series of steps\n",
    "* Simple path descriptors are sequences of location\n",
    "steps separated by slashes `/`\n",
    " * `bookstore/book`\n",
    "\n",
    "* By default trying to match any child nodes from\n",
    "current location\n",
    "* Document Root:\n",
    " * A forward slash `/` at the start of a location path indicates\n",
    "that the starting position for the context node is the\n",
    "document `root` node"
   ]
  },
  {
   "cell_type": "markdown",
   "metadata": {
    "slideshow": {
     "slide_type": "slide"
    }
   },
   "source": [
    "# Absolute & Relative Paths\n",
    "* A location path can be absolute or relative.\n",
    "* If the location path starts with the root node (/) then\n",
    "you are using an absolute location path\n",
    "For example\n",
    " * `/root/node1/node2`\n",
    " * `/html/body/h3`\n",
    "\n",
    "* If the location path begins with the name of a\n",
    "descendant, you're using a relative location path.\n",
    "For example,\n",
    " * `node1/node2`\n",
    " * `//node1/node2` (anywhere in document)"
   ]
  },
  {
   "cell_type": "markdown",
   "metadata": {
    "slideshow": {
     "slide_type": "slide"
    }
   },
   "source": [
    "# XML Document Navigation\n",
    "* The XPath data model treats an XML document as a\n",
    "tree of nodes, based on DOM\n",
    "* Formally, a tree is a connected, acyclic, undirected\n",
    "graph\n",
    "\n",
    "<center><img src=\"diagrams/diagram2.jpg\" width=\"700px\"></center>"
   ]
  },
  {
   "cell_type": "code",
   "execution_count": 232,
   "metadata": {
    "slideshow": {
     "slide_type": "skip"
    }
   },
   "outputs": [],
   "source": [
    "from io import StringIO\n",
    "from lxml import etree\n",
    "xml=StringIO('<ASSESSMENTS><STUDENT name=\"Smith\"><MARK theCourse=\"4BA1\">75</MARK><MARK theCourse=\"4BA5\">99</MARK></STUDENT><COURSE name=\"4BA1\" takenBy=\"Smith, Jones\"><MARK>60</MARK></COURSE></ASSESSMENTS>')\n",
    "tree = etree.parse(xml)"
   ]
  },
  {
   "cell_type": "markdown",
   "metadata": {
    "cell_style": "center",
    "slideshow": {
     "slide_type": "slide"
    }
   },
   "source": [
    "# Example: <span style=\"color:blue\">/ASSESSMENTS/STUDENT/MARK</span>\n",
    "```XML\n",
    "<ASSESSMENTS>\n",
    "    <STUDENT name=\"Smith\">\n",
    "        <MARK theCourse=\"4BA1\">75</MARK>\n",
    "        <MARK theCourse=\"4BA5\">99</MARK>\n",
    "    </STUDENT>\n",
    "    ...\n",
    "    <COURSE name=\"4BA1\" takenBy=\"Smith, Jones, ... \">\n",
    "        <MARK>60</MARK>\n",
    "    </COURSE>\n",
    "...\n",
    "</ASSESSMENTS>\n",
    "```\n",
    "\n",
    "* Describes the set with two **MARK** element nodes in **STUDENT** as well as any other **MARK** elements nodes for any other **STUDENT**"
   ]
  },
  {
   "cell_type": "code",
   "execution_count": 397,
   "metadata": {
    "cell_style": "center",
    "slideshow": {
     "slide_type": "fragment"
    }
   },
   "outputs": [
    {
     "name": "stdout",
     "output_type": "stream",
     "text": [
      "[<Element MARK at 0x112e72b08>, <Element MARK at 0x112e72b48>]\n"
     ]
    }
   ],
   "source": [
    "r = tree.xpath('/ASSESSMENTS/STUDENT/MARK')\n",
    "root = tree.getroot()\n",
    "print(r)"
   ]
  },
  {
   "cell_type": "markdown",
   "metadata": {
    "slideshow": {
     "slide_type": "slide"
    }
   },
   "source": [
    "# Namespaces\n",
    "* Any path expression can use a QNAME (prefix:localname),\n",
    " * For example `//foo:book`\n",
    " * Selects all `book` elements in the document that belong to the\n",
    "`foo` namespace\n",
    "\n",
    "* Matching is based on the local name and the\n",
    "namespace name (and not the prefix)\n",
    "\n",
    "* A path expression without a prefix will only match\n",
    "elements without an associated namespace\n"
   ]
  },
  {
   "cell_type": "markdown",
   "metadata": {
    "slideshow": {
     "slide_type": "slide"
    }
   },
   "source": [
    "# Skipping Levels\n",
    "* A double forward slash `//` matches any\n",
    "descendent nodes below the current location\n",
    "* For example:\n",
    " * `/section//cite`\n",
    "      * will match all ’cite’ elements that are descendants of ’section’\n",
    " * `//author`\n",
    "      * will match all ’author’ elements in the document"
   ]
  },
  {
   "cell_type": "markdown",
   "metadata": {
    "slideshow": {
     "slide_type": "slide"
    }
   },
   "source": [
    "# Example: <span style=\"color:blue\">//MARK</span>\n",
    "\n",
    "```XML\n",
    "<ASSESSMENTS>\n",
    "    <STUDENT name=\"Smith\">\n",
    "        <MARK theCourse=\"4BA1\">75</MARK>\n",
    "        <MARK theCourse=\"4BA5\">99</MARK>\n",
    "    </STUDENT>\n",
    "    ...\n",
    "    <COURSE name=\"4BA1\" takenBy=\"Smith, Jones, ... \">\n",
    "        <MARK>60</MARK>\n",
    "    </COURSE>\n",
    "...\n",
    "</ASSESSMENTS>\n",
    "```\n",
    "\n",
    "* Still returns nodes from the document with a node named **MARK** but this time not just those noted in student assessment statements e.g. a mark allocated to a course by an external examiner"
   ]
  },
  {
   "cell_type": "code",
   "execution_count": 399,
   "metadata": {
    "slideshow": {
     "slide_type": "fragment"
    }
   },
   "outputs": [
    {
     "name": "stdout",
     "output_type": "stream",
     "text": [
      "[<Element MARK at 0x112e72b08>, <Element MARK at 0x112e72b48>, <Element MARK at 0x112e21588>]\n"
     ]
    }
   ],
   "source": [
    "r = tree.xpath('//MARK')\n",
    "print(r)"
   ]
  },
  {
   "cell_type": "markdown",
   "metadata": {
    "slideshow": {
     "slide_type": "slide"
    }
   },
   "source": [
    "# Select Parent and Ancestors\n",
    "* From the context node you can access your\n",
    "parent and ancestors\n",
    "* `..` matches the parent of the current context node\n",
    " * `../section`\n",
    "\n",
    "* Navigate just like directories\n",
    "* You can go back many levels\n",
    " * `../../../body`"
   ]
  },
  {
   "cell_type": "markdown",
   "metadata": {
    "slideshow": {
     "slide_type": "slide"
    }
   },
   "source": [
    "# Select Unknown Elements (*)\n",
    "* XPath wildcard `*` put in place in a tag represents\n",
    "any one tag\n",
    "* Example `/*/*/MARK` will return any MARK object\n",
    "appearing at the third level of nesting in the\n",
    "document"
   ]
  },
  {
   "cell_type": "markdown",
   "metadata": {
    "slideshow": {
     "slide_type": "slide"
    }
   },
   "source": [
    "# Example:  <span style=\"color:blue\">/ASSESSMENTS/*</span>\n",
    "```XML\n",
    "<ASSESSMENTS>\n",
    "    <STUDENT name=\"Smith\">\n",
    "        <MARK theCourse=\"4BA1\">75</MARK>\n",
    "        <MARK theCourse=\"4BA5\">99</MARK>\n",
    "    </STUDENT>\n",
    "    ...\n",
    "    <COURSE name=\"4BA1\" takenBy=\"Smith, Jones, ... \">\n",
    "        <MARK>60</MARK>\n",
    "    </COURSE>\n",
    "...\n",
    "</ASSESSMENTS>\n",
    "```\n",
    "* Return all nodes at first level of nesting in the document"
   ]
  },
  {
   "cell_type": "code",
   "execution_count": 420,
   "metadata": {
    "slideshow": {
     "slide_type": "fragment"
    }
   },
   "outputs": [
    {
     "name": "stdout",
     "output_type": "stream",
     "text": [
      "[<Element STUDENT at 0x112e7fa88>, <Element COURSE at 0x112eab948>]\n"
     ]
    }
   ],
   "source": [
    "r = tree.xpath('/ASSESSMENTS/*')\n",
    "print(r)"
   ]
  },
  {
   "cell_type": "markdown",
   "metadata": {
    "slideshow": {
     "slide_type": "slide"
    }
   },
   "source": [
    "# Select Attribute @\n",
    "* Attributes are referred to by putting\n",
    "ampersand `@` before the name\n",
    "* Appear in the path as if nested within the tag\n",
    "* For example\n",
    "`/book/@lang`\n",
    " * Select the ‘lang’ attribute of books"
   ]
  },
  {
   "cell_type": "markdown",
   "metadata": {
    "slideshow": {
     "slide_type": "slide"
    }
   },
   "source": [
    "# Example: <span style=\"color:blue\">/ASSESSMENTS/*/@name</span>\n",
    "```XML\n",
    "<ASSESSMENTS>\n",
    "    <STUDENT name=\"Smith\">\n",
    "        <MARK theCourse=\"4BA1\">75</MARK>\n",
    "        <MARK theCourse=\"4BA5\">99</MARK>\n",
    "    </STUDENT>\n",
    "    ...\n",
    "    <COURSE name=\"4BA1\" takenBy=\"Smith, Jones, ... \">\n",
    "        <MARK>60</MARK>\n",
    "    </COURSE>\n",
    "...\n",
    "</ASSESSMENTS>\n",
    "```\n",
    "* Select all `name` attributes appearing at first level of nesting"
   ]
  },
  {
   "cell_type": "code",
   "execution_count": 402,
   "metadata": {
    "slideshow": {
     "slide_type": "fragment"
    }
   },
   "outputs": [
    {
     "name": "stdout",
     "output_type": "stream",
     "text": [
      "['Smith', '4BA1']\n"
     ]
    }
   ],
   "source": [
    "r = tree.xpath('/ASSESSMENTS/*/@name')\n",
    "print(r)"
   ]
  },
  {
   "cell_type": "markdown",
   "metadata": {
    "slideshow": {
     "slide_type": "slide"
    }
   },
   "source": [
    "# Select Several Paths (|)\n",
    "* By using the union `|` operator in an XPath\n",
    "expression you can select several paths\n",
    "* For example\n",
    "`//book/title | //book/price`\n",
    " * Selects all the **title** elements AND the **price**\n",
    "elements within the **book** elements"
   ]
  },
  {
   "cell_type": "markdown",
   "metadata": {
    "slideshow": {
     "slide_type": "slide"
    }
   },
   "source": [
    "# Predicates – Conditional Matching\n",
    "* A tag in a path that is followed by a condition\n",
    "`[..]` will ensure that only nodes that satisfy the\n",
    "condition are included in the resultant set\n",
    "* Example\n",
    "`/bookstore/book[price>35.00]`\n",
    " * Selects the **books** elements of a **bookstore** where\n",
    "the ‘price’ element has a value greater then 35.00"
   ]
  },
  {
   "cell_type": "markdown",
   "metadata": {
    "slideshow": {
     "slide_type": "slide"
    }
   },
   "source": [
    "# Example: <span style=\"color:blue\">/ASSESSMENTS/STUDENT[MARK > 80]</span>\n",
    "```XML\n",
    "<ASSESSMENTS>\n",
    "    <STUDENT name=\"Smith\">\n",
    "        <MARK theCourse=\"4BA1\">75</MARK>\n",
    "        <MARK theCourse=\"4BA5\">99</MARK>\n",
    "    </STUDENT>\n",
    "    ...\n",
    "    <COURSE name=\"4BA1\" takenBy=\"Smith, Jones, ... \">\n",
    "        <MARK>60</MARK>\n",
    "    </COURSE>\n",
    "...\n",
    "</ASSESSMENTS>\n",
    "```\n",
    "* The parent element of **MARK** valued 99 is returned as it satisfies the condition"
   ]
  },
  {
   "cell_type": "code",
   "execution_count": 403,
   "metadata": {
    "slideshow": {
     "slide_type": "fragment"
    }
   },
   "outputs": [
    {
     "name": "stdout",
     "output_type": "stream",
     "text": [
      "[<Element STUDENT at 0x112e7fa88>]\n"
     ]
    }
   ],
   "source": [
    "r = tree.xpath('/ASSESSMENTS/STUDENT[MARK > 80]')\n",
    "print(r)"
   ]
  },
  {
   "cell_type": "markdown",
   "metadata": {
    "slideshow": {
     "slide_type": "slide"
    }
   },
   "source": [
    "# Example:\n",
    "## <span style=\"color:blue\">/ASSESSMENTS/STUDENT/MARK[@theCourse = \"4BA1\"]</span>\n",
    "```XML\n",
    "<ASSESSMENTS>\n",
    "    <STUDENT name=\"Smith\">\n",
    "        <MARK theCourse=\"4BA1\">75</MARK>\n",
    "        <MARK theCourse=\"4BA5\">99</MARK>\n",
    "    </STUDENT>\n",
    "    ...\n",
    "    <COURSE name=\"4BA1\" takenBy=\"Smith, Jones, ... \">\n",
    "        <MARK>60</MARK>\n",
    "    </COURSE>\n",
    "...\n",
    "</ASSESSMENTS>\n",
    "```\n",
    "* Any student mark objects for **4BA1**"
   ]
  },
  {
   "cell_type": "code",
   "execution_count": 408,
   "metadata": {
    "slideshow": {
     "slide_type": "fragment"
    }
   },
   "outputs": [
    {
     "name": "stdout",
     "output_type": "stream",
     "text": [
      "[<Element MARK at 0x112e72b08>]\n"
     ]
    }
   ],
   "source": [
    "r = tree.xpath('/ASSESSMENTS/STUDENT/MARK[@theCourse=\"4BA1\"]')\n",
    "print(r)\n",
    "# print(r[0].text)"
   ]
  },
  {
   "cell_type": "markdown",
   "metadata": {
    "cell_style": "center",
    "slideshow": {
     "slide_type": "slide"
    }
   },
   "source": [
    "# Anatomy of a Location Step\n",
    "* A step in an XPath expression consists of three parts:\n",
    " * an axis\n",
    "     * Specifies direction to go in document tree\n",
    " * a node test\n",
    "     * Tests whether nodes encountered should be selected\n",
    " * zero or more predicate tests\n",
    "     * Filters nodes selected by the node test\n",
    "\n",
    "```\n",
    "Child::Student[name=\"Smith\"]\n",
    "```"
   ]
  },
  {
   "cell_type": "markdown",
   "metadata": {
    "slideshow": {
     "slide_type": "slide"
    }
   },
   "source": [
    "# Axis\n",
    "* An axis defines the nodes selected relative to\n",
    "the current node. In XPath there are 13 axes\n",
    "defined:\n",
    " * **ancestor**\n",
    " * **ancestor-or-self**\n",
    " * **attribute**\n",
    " * **child**\n",
    " * **descendant**\n",
    " * **descendant-or-self**\n",
    " * **following**\n",
    " * **following-sibling**\n",
    " * **namespace**\n",
    " * **parent**\n",
    " * **preceding**\n",
    " * **preceding-sibling**\n",
    " * **self****"
   ]
  },
  {
   "cell_type": "markdown",
   "metadata": {
    "slideshow": {
     "slide_type": "slide"
    }
   },
   "source": [
    "# Axis ancestor::\n",
    "* **ancestor**\n",
    " * Selects all the nodes that\n",
    "are ancestors of the origin\n",
    "\n",
    "* Syntax\n",
    " * `ancestor::node`\n",
    "\n",
    "<center><img src=\"diagrams/diagram3.png\" width=\"700px\"></center>"
   ]
  },
  {
   "cell_type": "markdown",
   "metadata": {
    "slideshow": {
     "slide_type": "slide"
    }
   },
   "source": [
    "# Axis ancestor-or-self::\n",
    "* **ancestor-or-self**\n",
    " * Selects the same nodes as\n",
    "the ancestor axis, but\n",
    "starting with the origin\n",
    "node\n",
    "\n",
    "* Syntax\n",
    " * `ancestor-or-self::node`\n",
    "\n",
    "<center><img src=\"diagrams/diagram4.png\" width=\"700px\"></center>"
   ]
  },
  {
   "cell_type": "markdown",
   "metadata": {
    "slideshow": {
     "slide_type": "slide"
    }
   },
   "source": [
    "# Axis attribute::\n",
    "* **attribute**\n",
    " * If the origin node is an element, this axis selects all its attribute nodes.\n",
    " * Otherwise, it selects nothing(an empty sequence).\n",
    " * The order for attributes is arbitrary.\n",
    "\n",
    "* Syntax\n",
    " * `attribute::lang`\n",
    " * `@lang`"
   ]
  },
  {
   "cell_type": "markdown",
   "metadata": {
    "slideshow": {
     "slide_type": "slide"
    }
   },
   "source": [
    "# Axis child::\n",
    "* **child**\n",
    " * Selects all the children of the origin node, in document order.\n",
    "\n",
    "* Syntax\n",
    " * `child::node`\n",
    " * `/node`\n",
    "\n",
    "<center><img src=\"diagrams/diagram5.png\" width=\"700px\"></center>"
   ]
  },
  {
   "cell_type": "markdown",
   "metadata": {
    "slideshow": {
     "slide_type": "slide"
    }
   },
   "source": [
    "# Axis descendant::\n",
    "* **descendant**\n",
    " * Selects all the children of the origin node, and their children, and so on recursively. The resulting nodes are in document order.\n",
    "\n",
    "* Syntax\n",
    " * `descendant::node`\n",
    "\n",
    "<center><img src=\"diagrams/diagram6.png\" width=\"700px\"></center>"
   ]
  },
  {
   "cell_type": "markdown",
   "metadata": {
    "slideshow": {
     "slide_type": "slide"
    }
   },
   "source": [
    "# Axis descendant-or-self::\n",
    "* **descendant-or-self**\n",
    " * This is the same as the descendant axis, except that the first node selected is the origin node itself.\n",
    "\n",
    "* Syntax\n",
    " 1. `Descendant-orself::node`\n",
    " 2. `//`\n",
    "\n",
    "<center><img src=\"diagrams/diagram7.png\" width=\"700px\"></center>"
   ]
  },
  {
   "cell_type": "markdown",
   "metadata": {
    "slideshow": {
     "slide_type": "slide"
    }
   },
   "source": [
    "# Axis following::\n",
    "* **following**\n",
    " * This selects all the nodes\n",
    "that appear after the origin\n",
    "node in document order,\n",
    "excluding the descendants\n",
    "of the origin node\n",
    "\n",
    "* Syntax\n",
    " * `following::node`\n",
    "\n",
    "<center><img src=\"diagrams/diagram8.png\" width=\"700px\"></center>"
   ]
  },
  {
   "cell_type": "markdown",
   "metadata": {
    "slideshow": {
     "slide_type": "slide"
    }
   },
   "source": [
    "# Axis following-sibling::\n",
    "* **following-sibling**\n",
    " * This selects all the nodes\n",
    "that follow the origin node\n",
    "in document order, and\n",
    "that are children of the\n",
    "same parent node.\n",
    "\n",
    "* Syntax\n",
    " * `following-sibling::node`\n",
    "\n",
    "\n",
    "<center><img src=\"diagrams/diagram9.png\" width=\"700px\"></center>"
   ]
  },
  {
   "cell_type": "markdown",
   "metadata": {
    "slideshow": {
     "slide_type": "slide"
    }
   },
   "source": [
    "# Axis namespace::\n",
    "* **namespace**\n",
    " * If the origin node is an\n",
    "element, this axis selects\n",
    "all the namespace nodes\n",
    "that are in scope for that\n",
    "element; otherwise, it is\n",
    "empty. The order of the\n",
    "namespace nodes is\n",
    "undefined\n",
    "\n",
    "* Syntax\n",
    " * `namespace::node`"
   ]
  },
  {
   "cell_type": "markdown",
   "metadata": {
    "slideshow": {
     "slide_type": "slide"
    }
   },
   "source": [
    "# Axis parent::\n",
    "* **parent**\n",
    " * This axis selects a\n",
    "single node, the parent\n",
    "of the origin\n",
    "* Syntax\n",
    " 1. `parent::node`\n",
    " 2. `..`\n",
    "\n",
    "<center><img src=\"diagrams/diagram10.png\" width=\"700px\"></center>"
   ]
  },
  {
   "cell_type": "markdown",
   "metadata": {
    "slideshow": {
     "slide_type": "slide"
    }
   },
   "source": [
    "# Axis proceding::\n",
    "* **proceding**\n",
    " * This selects all the nodes\n",
    "that appear before the\n",
    "origin node, excluding the\n",
    "ancestors of the origin\n",
    "node.\n",
    "\n",
    "* Syntax\n",
    " * `proceding::node`\n",
    "\n",
    "<center><img src=\"diagrams/diagram11.png\" width=\"700px\"></center>"
   ]
  },
  {
   "cell_type": "markdown",
   "metadata": {},
   "source": [
    "# Axis proceding-siblings::\n",
    "* proceding-siblings\n",
    " * This selects all the nodes\n",
    "that precede the origin\n",
    "node, and that are children\n",
    "of the same parent node\n",
    "* Syntax\n",
    " * proceding-siblings::node\n",
    " \n",
    "<center><img src=\"diagrams/diagram12.png\" width=\"700px\"></center>"
   ]
  },
  {
   "cell_type": "markdown",
   "metadata": {
    "slideshow": {
     "slide_type": "slide"
    }
   },
   "source": [
    "# Axis self::\n",
    "* **self**\n",
    " * This selects a single node,\n",
    "the origin node itself. This\n",
    "axis will never be empty.\n",
    "\n",
    "Syntax\n",
    " 1. `self::node`\n",
    " 2. `.`\n",
    "\n",
    "<center><img src=\"diagrams/diagram13.png\" width=\"700px\"></center>"
   ]
  },
  {
   "cell_type": "markdown",
   "metadata": {
    "cell_style": "split",
    "slideshow": {
     "slide_type": "slide"
    }
   },
   "source": [
    "# Axes example (1)\n",
    "```XML\n",
    "<root>\n",
    "    <aunt />\n",
    "    <parent>\n",
    "        <sister />\n",
    "        <self>\n",
    "            <son>\n",
    "                <grandchild />\n",
    "            </son>\n",
    "            <child />\n",
    "            <daughter>\n",
    "                <grandchild />\n",
    "            </daughter>\n",
    "        </self>\n",
    "        <brother />\n",
    "    </parent>\n",
    "    <uncle />\n",
    "</root>\n",
    "```"
   ]
  },
  {
   "cell_type": "markdown",
   "metadata": {
    "cell_style": "split"
   },
   "source": [
    "<img src=\"diagrams/diagram-axis1.png\">"
   ]
  },
  {
   "cell_type": "markdown",
   "metadata": {
    "cell_style": "split",
    "slideshow": {
     "slide_type": "slide"
    }
   },
   "source": [
    "# Axes example (2)\n",
    "```XML\n",
    "<root>\n",
    "    <aunt />\n",
    "    <parent>\n",
    "        <sister />\n",
    "        <self>\n",
    "            <son>\n",
    "                <grandchild />\n",
    "            </son>\n",
    "            <child />\n",
    "            <daughter>\n",
    "                <grandchild />\n",
    "            </daughter>\n",
    "        </self>\n",
    "        <brother />\n",
    "    </parent>\n",
    "    <uncle />\n",
    "</root>\n",
    "```"
   ]
  },
  {
   "cell_type": "markdown",
   "metadata": {
    "cell_style": "split"
   },
   "source": [
    "<img src=\"diagrams/diagram-axis2.png\">"
   ]
  },
  {
   "cell_type": "markdown",
   "metadata": {
    "slideshow": {
     "slide_type": "slide"
    }
   },
   "source": [
    "# Node Tests\n",
    "* A node test defines the nodes to select.\n",
    "* Test the node in the tree document\n",
    " * **By name of node:** test the node to see if it has an\n",
    "element name the same as that specified.\n",
    " * E.g.`child::Student` would test if the child node has an\n",
    "element named **Student**\n",
    " * **By kind/type of node:** test the node if is a text,\n",
    "comment, or processing instruction node.\n",
    " * E.g. `text()`\n",
    " * **By the schema defined type**\n"
   ]
  },
  {
   "cell_type": "markdown",
   "metadata": {
    "slideshow": {
     "slide_type": "slide"
    }
   },
   "source": [
    "# Node Tests: By Name\n",
    "* Selects nodes based on the node name\n",
    "\n",
    "| *      | <span style=\"font-weight:normal\">Match all elements</span>       |\n",
    "|--------|------------------------------------------------------------------|\n",
    "| @*     | Select all the attributes                                        |\n",
    "| xm:*() | Matches all element nodes in the namespace with the \"xm\" prefix  |\n",
    "| *:term | Any name matching the local name \"term\", regardless of namespace |\n"
   ]
  },
  {
   "cell_type": "markdown",
   "metadata": {
    "slideshow": {
     "slide_type": "slide"
    }
   },
   "source": [
    "# Node Tests: by Type\n",
    "* Selects nodes based strictly upon their node type\n",
    "* In XPath 1.0\n",
    "\n",
    "|<span style=\"font-weight:normal\">node()</span> \t|<span style=\"font-weight:normal\">True for a node of any type.</span>       |\n",
    "|--------|------------------------------------------------------------------|\n",
    "|text() \t|True for a text node. \n",
    "|comment() \t|True for a comment node. \n",
    "|processing-instruction() \t|True for a processing instruction node."
   ]
  },
  {
   "cell_type": "markdown",
   "metadata": {
    "slideshow": {
     "slide_type": "slide"
    }
   },
   "source": [
    "# Node Tests: by Schema type\n",
    "|<span style=\"font-weight:normal\">element(*, xs:date)</span>|<span style=\"font-weight:normal\">Any element of (simple) type xs:date</span>|\n",
    "|---|---|\n",
    "|element (*, caption)|Matches any element node whose (schema) type is “ caption ” (or a type derived from “ caption ”) User defined type.|"
   ]
  },
  {
   "cell_type": "markdown",
   "metadata": {
    "slideshow": {
     "slide_type": "slide"
    }
   },
   "source": [
    "# Predicates\n",
    "* A predicate refers to the expressions (conditions)\n",
    "written in square brackets `[]`. They restrict/filter the\n",
    "selected nodes in a node set.\n",
    " * Attribute Tests: `@` indicates attribute\n",
    " * Boolean Tests (Functions): boolean, true, false, not, …\n",
    " * Node Set Tests (Functions): count, id, position, last, …\n",
    " * Number Tests (Functions): ceiling, floor, round, sum, …\n",
    " * String Tests (Functions): concat, contains, string-length,\n",
    " * substring, translate, …\n",
    "*  There is no limit to the number of predicates in a step\n",
    " * Keywords (and, or), consecutive predicates `[][]`"
   ]
  },
  {
   "cell_type": "markdown",
   "metadata": {
    "slideshow": {
     "slide_type": "slide"
    }
   },
   "source": [
    "# Path Operators and Special Characters\n",
    "* XPath expressions are constructed using the following\n",
    "operators and special characters\n",
    "\n",
    "| <span style=\"font-weight:normal\">/</span>  | <span style=\"font-weight:normal\">Child operator, selects immediate children</span>                        |\n",
    "|----|--------------------------------------------------------------------|\n",
    "| // | Recursive descent, searches for the specified element at any depth |\n",
    "| .  | Indicates the current context (node)                               |\n",
    "| .. | The parent of the current context node                             |\n",
    "| *  | Wildcard, selects all elements regardless of the element name      |\n",
    "| @  | Attribute, prefix for an attribute name                            |\n",
    "| @* | Attribute wildcard, selects all attributes regardless of name      |\n",
    "| :  | Namespace separator                                                |\n",
    "| () | Groups operations to explicitly establish precedence               |\n",
    "| [] | Applies a filter pattern                                           |"
   ]
  },
  {
   "cell_type": "markdown",
   "metadata": {
    "slideshow": {
     "slide_type": "slide"
    }
   },
   "source": [
    "# Operators\n",
    "* An XPath 1.0 expression returns either a node-set, a string, a Boolean, or a number.\n",
    "\n",
    "| <span style=\"font-weight:normal\">\"&#124;\"</span>                                 | <span style=\"font-weight:normal\">union operator, forms the union of two node-sets</span> |\n",
    "|:------------------------------------|--------------------------------------------------|\n",
    "| \"+\", \"-\", \"*\",\"div\" (divide), \"mod\" | Arithmetic operators                             |\n",
    "| \"and\", \"or\", \"not() \"               | Boolean operators                                |\n",
    "| \"=\", \"!=\", \"<\", \">\", \"<=\", \">=\"     | Comparison operators                             |"
   ]
  },
  {
   "cell_type": "markdown",
   "metadata": {
    "slideshow": {
     "slide_type": "slide"
    }
   },
   "source": [
    "# XPath Functions\n",
    "* Functions to manipulate strings:\n",
    " * concat(), substring(), contains(), substring-before(),\n",
    "substring-after(), translate(), normalize-space(), stringlength()\n",
    "\n",
    "* Functions to manipulate numbers:\n",
    " * sum(), round(), floor(), ceiling()\n",
    "\n",
    "* Functions to get properties of nodes:\n",
    " * name(), local-name(), namespace-uri()\n",
    "\n",
    "* Functions to get information about the processing\n",
    "context:\n",
    " * position(), last()\n",
    "\n",
    "* Type conversion functions:\n",
    " * string(), number(), boolean()"
   ]
  },
  {
   "cell_type": "markdown",
   "metadata": {
    "cell_style": "split",
    "slideshow": {
     "slide_type": "slide"
    }
   },
   "source": [
    "# XPath Examples\n",
    "```XML\n",
    "<doc type=\"book\" isbn=\"1-56592-796-9\">\n",
    "    <title>A Guide to XML</title>\n",
    "    <author>Norman Walsh</author>\n",
    "    <chapter>[...]</chapter>\n",
    "    <chapter>\n",
    "        <title>What Do XML Documents Look Like?</title>\n",
    "        <paragraph>If you are [...]</paragraph>\n",
    "        <paragraph>A few things [...]</paragraph>\n",
    "        <ol>\n",
    "            <item>\n",
    "                <paragraph>The document begins [...]</paragraph>\n",
    "            </item>\n",
    "            <item>\n",
    "                <paragraph type=\"warning\">There's no document [...]</paragraph>\n",
    "            </item>\n",
    "            <item>\n",
    "                <paragraph>Empty elements have [...]</paragraph>\n",
    "                <paragraph>In a very[...]</paragraph>\n",
    "            </item>\n",
    "        </ol>\n",
    "        <paragraph>XML documents are [...]</paragraph>\n",
    "        <section>[...]</section>\n",
    "        [...]\n",
    "    </chapter>\n",
    "</doc>\n",
    "```\n",
    "\n",
    "**<span style=\"color:blue\">//ol//paragraph[@type=‘‘warning’’]</span>**\n",
    "```XML\n",
    "<paragraph type=\"warning\">There's no document [...]</paragraph>\n",
    "```"
   ]
  },
  {
   "cell_type": "markdown",
   "metadata": {
    "cell_style": "split"
   },
   "source": [
    "**<span style=\"color:blue\">//paragraph</span>**\n",
    "```XML\n",
    "<paragraph>If you are [...]</paragraph>\n",
    "<paragraph>A few things [...]</paragraph>\n",
    "<paragraph>The document begins [...]</paragraph>\n",
    "<paragraph type=\"warning\">There's no document [...]</paragraph>\n",
    "<paragraph>Empty elements have [...]</paragraph>\n",
    "<paragraph>In a very [...]</paragraph>\n",
    "<paragraph>XML documents are [...]</paragraph>\n",
    "```\n",
    "\n",
    "\n",
    "**<span style=\"color:blue\">/doc/chapter[2]/ol/ittem[position()=last()]</span>**\n",
    "```XML\n",
    "<item>\n",
    "  <paragraph>Empty elements have [...]</paragraph>\n",
    "  <paragraph>In a very [...]</paragraph>\n",
    "</item>\n",
    "```"
   ]
  },
  {
   "cell_type": "markdown",
   "metadata": {
    "slideshow": {
     "slide_type": "slide"
    }
   },
   "source": [
    "# Summary<img src=\"https://img.icons8.com/summary-list/80\" style=\"display:inline-block;vertical-align:middle;\">\n",
    "* Selects (a set of) ELEMENTs within an XML\n",
    "document based on\n",
    " * Conditions\n",
    " * Hierarchy\n",
    "\n",
    "* Usage\n",
    " * Retrieving info from a single XML document\n",
    " * Applying XSL style sheet rules\n",
    " * Making XQuerys"
   ]
  },
  {
   "cell_type": "markdown",
   "metadata": {
    "slideshow": {
     "slide_type": "slide"
    }
   },
   "source": [
    "# Tutorial <img src=\"https://img.icons8.com/e-learning/80\" style=\"display:inline-block;vertical-align:middle;\">\n",
    "\n",
    "## http://learn.onion.net/language=en/35426/w3c-xpath"
   ]
  }
 ],
 "metadata": {
  "celltoolbar": "Slideshow",
  "kernelspec": {
   "display_name": "Python 3",
   "language": "python",
   "name": "python3"
  },
  "language_info": {
   "codemirror_mode": {
    "name": "ipython",
    "version": 3
   },
   "file_extension": ".py",
   "mimetype": "text/x-python",
   "name": "python",
   "nbconvert_exporter": "python",
   "pygments_lexer": "ipython3",
   "version": "3.7.4"
  },
  "rise": {
   "autolaunch": true,
   "backgroundTransition": "slide",
   "controls": true,
   "enable_chalkboard": true,
   "overlay": "<div class='line top'></div><div class='line bottom'></div><div class='line left'></div><div class='line right'></div>",
   "showSlideNumber": "speaker",
   "slideNumber": true,
   "theme": "white",
   "transition": "slide"
  }
 },
 "nbformat": 4,
 "nbformat_minor": 2
}
