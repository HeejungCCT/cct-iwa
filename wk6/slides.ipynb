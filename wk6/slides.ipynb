{
 "cells": [
  {
   "cell_type": "code",
   "execution_count": 67,
   "metadata": {
    "hideCode": true,
    "hideOutput": true,
    "hidePrompt": true,
    "init_cell": true,
    "slideshow": {
     "slide_type": "skip"
    }
   },
   "outputs": [
    {
     "data": {
      "text/html": [
       "<style type=\"text/css\">\n",
       ".CodeMirror {width: 100vw}\n",
       ".container {width: 90% !important}\n",
       ".rendered_html {font-size:0.8em}\n",
       ".rendered_html table, .rendered_html th, .rendered_html tr, .rendered_html td {font-size: 90%}\n",
       "table td, table th {\n",
       "border: 1px  black solid !important;\n",
       "color: black !important;\n",
       "background-color: white;\n",
       "font-size:2.4em;\n",
       "}\n",
       "hr {\n",
       "    border: 0;\n",
       "    height: 1px;\n",
       "    background: #333;\n",
       "    background-image: linear-gradient(to right, #ccc, #333, #ccc);}\n",
       "/*.prompt{display:none}\n",
       ".prompt_container{width: 0px; min-width: 0px; visibility: collapse}\n",
       ".output_prompt{width: 0px; min-width: 0px; visibility: collapse}\n",
       ".output_result{width: 100%; height:100%}*/   \n",
       "</style>\n"
      ],
      "text/plain": [
       "<IPython.core.display.HTML object>"
      ]
     },
     "metadata": {},
     "output_type": "display_data"
    }
   ],
   "source": [
    "%%HTML\n",
    "<style type=\"text/css\">\n",
    ".CodeMirror {width: 100vw}\n",
    ".container {width: 90% !important}\n",
    ".rendered_html {font-size:0.8em}\n",
    ".rendered_html table, .rendered_html th, .rendered_html tr, .rendered_html td {font-size: 90%}\n",
    "table td, table th {\n",
    "border: 1px  black solid !important;\n",
    "color: black !important;\n",
    "background-color: white;\n",
    "font-size:2.4em;\n",
    "}\n",
    "hr {\n",
    "    border: 0;\n",
    "    height: 1px;\n",
    "    background: #333;\n",
    "    background-image: linear-gradient(to right, #ccc, #333, #ccc);}\n",
    "/*.prompt{display:none}\n",
    ".prompt_container{width: 0px; min-width: 0px; visibility: collapse}\n",
    ".output_prompt{width: 0px; min-width: 0px; visibility: collapse}\n",
    ".output_result{width: 100%; height:100%}*/   \n",
    "</style>"
   ]
  },
  {
   "cell_type": "markdown",
   "metadata": {
    "hideCode": true,
    "hidePrompt": true
   },
   "source": [
    "# XSL Tutorial <img src=\"https://img.icons8.com/e-learning/80\" style=\"display:inline-block;vertical-align:middle;\">\n",
    "\n",
    "* Create an XML file based on the XSD provided:\n",
    "```XML\n",
    "<?xml version=\"1.0\"?>\n",
    "<xsd:schema xmlns:xsd=\"http://www.w3.org/2001/XMLSchema\">\n",
    "    <xsd:simpleType name=\"numeric\">\n",
    "        <xsd:restriction base=\"xsd:string\">\n",
    "            <xsd:pattern value=\"[0--9]\" />\n",
    "        </xsd:restriction>\n",
    "    </xsd:simpleType>\n",
    "    <xsd:simpleType name=\"character\">\n",
    "        <xsd:restriction base=\"xsd:string\">\n",
    "            <xsd:pattern value=\"[A--Z]\" />\n",
    "        </xsd:restriction>\n",
    "    </xsd:simpleType>\n",
    "    <xsd:element name=\"car\" type=\"character\" />\n",
    "    <xsd:element name=\"num\" type=\"numeric\" />\n",
    "    <xsd:element name=\"exercise\" type=\"Texercise\" />\n",
    "    <xsd:complexType name=\"Texercise\">\n",
    "        <xsd:sequence>\n",
    "            <xsd:element ref=\"car\" minOccurs=\"6\" maxOccurs=\"6\" />\n",
    "            <xsd:element ref=\"num\" minOccurs=\"2\" maxOccurs=\"2\" />\n",
    "            <xsd:element ref=\"car\" />\n",
    "            <xsd:element ref=\"num\" minOccurs=\"2\" maxOccurs=\"2\" />\n",
    "            <xsd:element ref=\"car\" />\n",
    "            <xsd:element ref=\"num\" minOccurs=\"3\" maxOccurs=\"3\" />\n",
    "            <xsd:element ref=\"car\" />\n",
    "        </xsd:sequence>\n",
    "    </xsd:complexType>\n",
    "</xsd:schema>\n",
    "```\n",
    "* Validate that your XML file conforms to that XSD with the use of online tools:\n",
    "    * **[XML-XSD Validator](http://www.freeformatter.com/xml-validator-xsd.html)**"
   ]
  },
  {
   "cell_type": "markdown",
   "metadata": {
    "hideCode": true,
    "hidePrompt": true,
    "slideshow": {
     "slide_type": "slide"
    }
   },
   "source": [
    "```XML\n",
    "<?xml version=\"1.0\"?>\n",
    "<exercise xmlns:xsi=\"http://www.w3.org/2001/XMLSchema-instance\" xsi:noNamespaceSchemaLocation=\"excercise.xsd\">\n",
    "    <car>X</car>\n",
    "    <car>X</car>\n",
    "    <car>X</car>\n",
    "    <car>Y</car>\n",
    "    <car>Y</car>\n",
    "    <car>Y</car>\n",
    "    <num>1</num>\n",
    "    <num>1</num>\n",
    "    <car>Z</car>\n",
    "    <num>2</num>\n",
    "    <num>2</num>\n",
    "    <car>H</car>\n",
    "    <num>3</num>\n",
    "    <num>3</num>\n",
    "    <num>3</num>\n",
    "    <car>K</car>\n",
    "</exercise>\n",
    "```"
   ]
  },
  {
   "cell_type": "markdown",
   "metadata": {
    "hideCode": true,
    "hideOutput": true,
    "hidePrompt": true,
    "slideshow": {
     "slide_type": "slide"
    }
   },
   "source": [
    "# JSON <img src=\"https://img.icons8.com/ios-filled/json/80\" style=\"display:inline-block;vertical-align:middle;padding:0 0 10px 10px\">"
   ]
  },
  {
   "cell_type": "markdown",
   "metadata": {
    "hideCode": true,
    "hidePrompt": true,
    "slideshow": {
     "slide_type": ""
    }
   },
   "source": [
    "* Press `Space` to navigate through the slides\n",
    "* Use `Shift+Space` to go back"
   ]
  },
  {
   "cell_type": "markdown",
   "metadata": {
    "cell_style": "center",
    "hideCode": true,
    "hidePrompt": true,
    "slideshow": {
     "slide_type": "slide"
    }
   },
   "source": [
    "# What is JSON?\n",
    "* **J**ava**S**cript **O**bject **N**otation\n",
    "\n",
    "    * A **lightweight** text-data interchange format\n",
    "    \n",
    "    * That is **self-describing** and **easy to understand**\n",
    "    * Which uses **JavaScript syntax**\n",
    "    \n",
    "* Not strictly a language, but a **notation**\n",
    "\n",
    "    * Exists to describe **data objects**\n",
    "    \n",
    "    * It is easy for humans to read and write"
   ]
  },
  {
   "cell_type": "markdown",
   "metadata": {
    "slideshow": {
     "slide_type": "slide"
    }
   },
   "source": [
    "# What is JSON?\n",
    "* **JSON** was based on a subset of the **JavaScript** scripting language and is commonly used with **Javascript**, but it is a language-independent data format.\n",
    "\n",
    "* Code for parsing and generating **JSON** data is readily available in many programming languages.\n",
    "\n",
    "* **[JSON's website](http://json.org)** lists **JSON** libraries by language."
   ]
  },
  {
   "cell_type": "markdown",
   "metadata": {
    "slideshow": {
     "slide_type": "slide"
    }
   },
   "source": [
    "## Basic Introduction\n",
    "* **JSON** is quite easy to use when you get your head around it, it’s nothing more than simple text structured in a certain way. \n",
    "\n",
    "* Here is what it can look like:\n",
    "\n",
    "```JSON\n",
    "{\n",
    "\t\"Module\": \"Interactive Web Applications\",\n",
    "\t\"Lecture\": \"JSON\",\n",
    "\t\"Week\": 6\n",
    "}\n",
    "```\n",
    "* It is a simple **text**, formatted with **quotations**, separated by **colons** and **commas** and completely wrapped in some **braces**."
   ]
  },
  {
   "cell_type": "markdown",
   "metadata": {
    "slideshow": {
     "slide_type": "slide"
    }
   },
   "source": [
    "## Why use JSON?\n",
    "\n",
    "* **Standard Structure**\n",
    "    * **JSON** objects are having a standard structure that makes developers job easy to read and write code\n",
    "\n",
    "* **Light weight**\n",
    "    * When working with **AJAX**, it is important to load the data quickly and asynchronously without requesting the page re-load.\n",
    "\n",
    "* **Scalable**\n",
    "    * **JSON** is language independent, which means it can work well with most of the modern programming language."
   ]
  },
  {
   "cell_type": "markdown",
   "metadata": {
    "cell_style": "split",
    "hideCode": true,
    "hidePrompt": true,
    "slideshow": {
     "slide_type": "slide"
    }
   },
   "source": [
    "#### JSON Example\n",
    "```JSON\n",
    "{\n",
    "\t\"persons\": {\n",
    "\t\t\"person\": {\n",
    "\t\t\t\"firstName\": \"John\",\n",
    "\t\t\t\"lastName\": \"Smith\",\n",
    "\t\t\t\"age\": \"25\",\n",
    "\t\t\t\"address\": {\n",
    "\t\t\t\t\"streetAddress\": \"21 2nd Street\",\n",
    "\t\t\t\t\"city\": \"New York\",\n",
    "\t\t\t\t\"state\": \"NY\",\n",
    "\t\t\t\t\"postalCode\": \"10021\"\n",
    "\t\t\t},\n",
    "\t\t\t\"phoneNumbers\": {\n",
    "\t\t\t\t\"phoneNumber\": [\n",
    "\t\t\t\t\t{\n",
    "\t\t\t\t\t\t\"number\": \"212 555-1234\",\n",
    "\t\t\t\t\t\t\"type\": \"home\"\n",
    "\t\t\t\t\t},\n",
    "\t\t\t\t\t{\n",
    "\t\t\t\t\t\t\"number\": \"646 555-4567\",\n",
    "\t\t\t\t\t\t\"type\": \"fax\"\n",
    "\t\t\t\t\t}\n",
    "\t\t\t\t]\n",
    "\t\t\t}\n",
    "\t\t}\n",
    "\t}\n",
    "}\n",
    "```"
   ]
  },
  {
   "cell_type": "markdown",
   "metadata": {
    "cell_style": "split",
    "hideCode": true,
    "hidePrompt": true
   },
   "source": [
    "#### XML Example\n",
    "```XML\n",
    "<?xml version=\"1.0\" encoding=\"UTF-8\"?>\n",
    "<persons>\n",
    "    <person>\n",
    "        <firstName>John</firstName>\n",
    "        <lastName>Smith</lastName>\n",
    "        <age>25</age>\n",
    "        <address>\n",
    "            <streetAddress>21 2nd Street</streetAddress>\n",
    "            <city>New York</city>\n",
    "            <state>NY</state>\n",
    "            <postalCode>10021</postalCode>\n",
    "        </address>\n",
    "        <phoneNumbers>\n",
    "            <phoneNumber>\n",
    "                <number>212 555-1234</number>\n",
    "                <type>home</type>\n",
    "            </phoneNumber>\n",
    "            <phoneNumber>\n",
    "                <number>646 555-4567</number>\n",
    "                <type>fax</type>\n",
    "            </phoneNumber>\n",
    "        </phoneNumbers>\n",
    "    </person>\n",
    "</persons>\n",
    "```"
   ]
  },
  {
   "cell_type": "markdown",
   "metadata": {
    "cell_style": "center",
    "hideCode": true,
    "hidePrompt": true,
    "slideshow": {
     "slide_type": "slide"
    }
   },
   "source": [
    "## JSON vs XML\n",
    "\n",
    "* **JSON** example has **326** characters, while **XML** example has **549** characters\n",
    "\n",
    "* **JSON** has is **40%** smaller than **XML** in this specific example\n",
    "\n",
    "* **JSON** is lighter and faster than **XML** as on-the-wire data format\n",
    "\n",
    "* Overall, **JSON** and **XML** can be used interchangeably, as they both serve the same purpose"
   ]
  },
  {
   "cell_type": "markdown",
   "metadata": {
    "slideshow": {
     "slide_type": "subslide"
    }
   },
   "source": [
    "## JSON vs XML\n",
    "* __Favor XML over JSON when any of these is true:__\n",
    "    * You need message validation\n",
    "    * You're using **XSLT**\n",
    "    * Your messages include a lot of marked-up text\n",
    "    * You need to interoperate with environments that don't support **JSON**\n",
    "* __Favor JSON over XML when all of these are true:__\n",
    "    * Messages don't need to be validated\n",
    "    * You're not transforming messages\n",
    "    * Your messages are mostly data, not marked-up text\n",
    "    * The messaging end-points have good **JSON** tools"
   ]
  },
  {
   "cell_type": "markdown",
   "metadata": {
    "slideshow": {
     "slide_type": "subslide"
    }
   },
   "source": [
    "## JSON vs XML\n",
    "* For **AJAX** applications, **JSON** is faster and easier than **XML**:\n",
    "  * __Using XML:__\n",
    "    * Fetch an XML document\n",
    "    * Use the XML DOM to loop through the document\n",
    "    * Extract values and store invariables\n",
    "  * __Using JSON:__\n",
    "    * Fetch a JSON string\n",
    "    * eval() the JSON string"
   ]
  },
  {
   "cell_type": "markdown",
   "metadata": {
    "cell_style": "center",
    "hideCode": true,
    "hidePrompt": true,
    "slideshow": {
     "slide_type": "slide"
    }
   },
   "source": [
    "## JSON Values\n",
    "* **JSON** objects are typed while **XML** data is ***typeless***:\n",
    "\n",
    "    * **JSON** values can be:\n",
    "\n",
    "        * A **number** (integer or floating point)\n",
    "        * A **string** (in double quotes)\n",
    "        * A **boolean** (true or false)\n",
    "        * An **array** (in square brackets)\n",
    "        * An **object** (in curly brackets)\n",
    "        * **null**\n",
    "    \n",
    "    * **XML** data is all made of **strings**\n",
    "\n"
   ]
  },
  {
   "cell_type": "markdown",
   "metadata": {
    "slideshow": {
     "slide_type": "subslide"
    }
   },
   "source": [
    "* **Number**\n",
    "```JSON\n",
    "{\n",
    "\t\"NumberDataType\": 1\n",
    "}\n",
    "```\n",
    "* **String**\n",
    "```JSON\n",
    "{\n",
    "\t\"StringDataType\": \"String\"\n",
    "}\n",
    "```"
   ]
  },
  {
   "cell_type": "markdown",
   "metadata": {
    "slideshow": {
     "slide_type": "subslide"
    }
   },
   "source": [
    "* **Boolean**\n",
    "```JSON\n",
    "{\n",
    "\t\"BooleanTrueDataType\": true,\n",
    "\t\"BooleanFalseDataType\": false\n",
    "}\n",
    "```\n",
    "* **Array**\n",
    "```JSON\n",
    "{\n",
    "\t\"ArrayDataType\": [1, 2, 3, 4]\n",
    "}\n",
    "```"
   ]
  },
  {
   "cell_type": "markdown",
   "metadata": {
    "slideshow": {
     "slide_type": "subslide"
    }
   },
   "source": [
    "* **Object**\n",
    "```JSON\n",
    "{\n",
    "\t\"ObjectDataType\": {\n",
    "\t\t\"myObj\": \"ObjectData\"\n",
    "\t}\n",
    "}\n",
    "```"
   ]
  },
  {
   "cell_type": "markdown",
   "metadata": {
    "slideshow": {
     "slide_type": "slide"
    }
   },
   "source": [
    "## JSON Formatting\n",
    "\n",
    "There are some strict rules when it comes to formatting **JavaScript Object Notation** and if not adhered too, expect your code to fall over.\n",
    "\n",
    "### Rule #1. Key/Identifier & Value\n",
    "\n",
    "* **JSON** consists of 2 main elements, a key, and a value.\n",
    "* No matter the data type, it needs to be in this format.\n",
    "* The key you specify will ultimately be used to access the value later on within your application or on the alternative consumer end.\n",
    "\n",
    "<center><img src=\"https://www.codewall.co.uk/wp-content/uploads/2018/08/key-value-json.jpg\"></center>"
   ]
  },
  {
   "cell_type": "markdown",
   "metadata": {
    "slideshow": {
     "slide_type": "slide"
    }
   },
   "source": [
    "### Rule #2. Key/Identifier Double Quoted\n",
    "\n",
    "* Every identifier or key you specify in a **JSON** object must be double-quoted, essentially making it a `String` type.\n",
    "\n",
    "* It may be hard to rid habits of not having to do this, but it soon falls into place.\n",
    "\n",
    "<center><img src=\"https://www.codewall.co.uk/wp-content/uploads/2018/08/double-quote-json.jpg\"></center>"
   ]
  },
  {
   "cell_type": "markdown",
   "metadata": {
    "slideshow": {
     "slide_type": "slide"
    }
   },
   "source": [
    "### **Rule #3. Wrap Objects In Curly Braces**\n",
    "\n",
    "* Whether you have one object or fifty in your **JSON** code, each object needs to be wrapped inside curly braces, specifying the start and the end of each object inside.\n",
    "\n",
    "* This is extremely important, especially to interpreters.\n",
    "\n",
    "<center><img src=\"https://www.codewall.co.uk/wp-content/uploads/2018/08/object-curly-braces.jpg\"></center>"
   ]
  },
  {
   "cell_type": "markdown",
   "metadata": {
    "slideshow": {
     "slide_type": "slide"
    }
   },
   "source": [
    "### **Rule #4. Separate Key/Value by Colons**\n",
    "\n",
    "* Data within **JSON** must be separated out, to do this, a simple colon is sufficient, it goes straight after the key or identifier statement and just before the value.\n",
    "\n",
    "<center><img src=\"https://www.codewall.co.uk/wp-content/uploads/2018/08/key-value-separator.jpg\"></center>"
   ]
  },
  {
   "cell_type": "markdown",
   "metadata": {
    "slideshow": {
     "slide_type": "slide"
    }
   },
   "source": [
    "### **Rule #5. Arrays Are To Be Treated Like Arrays**\n",
    "\n",
    "* When using arrays within **JSON**, treat them exactly the same as you would do in normal **JavaScript** syntax.\n",
    "\n",
    "* Whether that be a string or numeric array, the same rules apply.\n",
    "\n",
    "<center><img src=\"https://www.codewall.co.uk/wp-content/uploads/2018/08/json-array-data-type-example.jpg\"></center>"
   ]
  },
  {
   "cell_type": "markdown",
   "metadata": {
    "slideshow": {
     "slide_type": "slide"
    }
   },
   "source": [
    "### **Rule #6. Encapsulate Objects With Square Brackets (Array)**\n",
    "\n",
    "* Multiple objects must sit in an array, giving you what is called an **Array Of Objects**, this will be used when you have advanced data that you need to communicate to the front-end or the back-end.\n",
    "* Notice the bracket-syntax highlighted in blue within the image below.\n",
    "\n",
    "<center><img src=\"https://www.codewall.co.uk/wp-content/uploads/2018/08/object-array-example.jpg\"></center>"
   ]
  },
  {
   "cell_type": "markdown",
   "metadata": {
    "slideshow": {
     "slide_type": "slide"
    }
   },
   "source": [
    "### **Rule #7. Objects & Data Separated By Commas**\n",
    "\n",
    "* You will end up working with multiple object **JSON**, they must be separated correctly, with a simple comma each time.\n",
    "* Similarly, data must be separated out with commas too, let’s see this in action with a bit more of an advanced **JSON** snippet.\n",
    "* The important syntax is highlighted in blue for visual understanding.\n",
    "\n",
    "<center><img src=\"https://www.codewall.co.uk/wp-content/uploads/2018/08/comma-separation-example.jpg\"></center>"
   ]
  },
  {
   "cell_type": "markdown",
   "metadata": {
    "slideshow": {
     "slide_type": "slide"
    }
   },
   "source": [
    "### Basic Example\n",
    "\n",
    "* Now that we’ve gone through the main rules of **JSON**, it’s time for an example with a range of data types.\n",
    "\n",
    "* In this example, these four data-types are present:\n",
    "    *   **String**\n",
    "    *   **Integer**\n",
    "    *   **Decimal**\n",
    "    *   **Boolean**"
   ]
  },
  {
   "cell_type": "markdown",
   "metadata": {
    "slideshow": {
     "slide_type": "subslide"
    }
   },
   "source": [
    "```JSON\n",
    "    {\n",
    "    \t\"Article\": \"Tutorial\",\n",
    "    \t\"Author\": \"Dan Englishby\",\n",
    "    \t\"YearPublished\": 2018,\n",
    "    \t\"IsPublished\": true,\n",
    "    \t\"AverageWordsPerSentce\": 20.3\n",
    "    }\n",
    "```"
   ]
  },
  {
   "cell_type": "markdown",
   "metadata": {
    "slideshow": {
     "slide_type": "slide"
    }
   },
   "source": [
    "## JSON Nesting: How do we nest objects?\n",
    "\n",
    "* Nesting objects are achieved by creating an **array-of-objects** within a **JSON** property.\n",
    "* See the following example:\n",
    "\n",
    "```JSON\n",
    "    {\n",
    "    \t\"OuterObject\": [{\n",
    "    \t\t\"NestedObjects\": [{\n",
    "    \t\t\t\t\"SomeName\": \"SomeValue\"\n",
    "    \t\t\t},\n",
    "    \t\t\t{\n",
    "    \t\t\t\t\"SomeName\": \"SomeValue\"\n",
    "    \t\t\t},\n",
    "    \t\t\t{\n",
    "    \t\t\t\t\"SomeName\": \"SomeValue\"\n",
    "    \t\t\t},\n",
    "                {\n",
    "                    \"SomeName\": \"SomeValue\"\n",
    "                }\n",
    "    \t\t]\n",
    "    \t}]\n",
    "    }\n",
    "```"
   ]
  },
  {
   "cell_type": "markdown",
   "metadata": {
    "slideshow": {
     "slide_type": "slide"
    }
   },
   "source": [
    "## JSON Nesting: How do we nest arrays?\n",
    "\n",
    "* Similarly, we can nest **arrays**.\n",
    "* The only problem with doing it – you lose the ability to specify the array’s data with identifier or keys.\n",
    "* This is because the nested array will be identified with a numeric index rather than a key-value pair.\n",
    "\n",
    "```JSON\n",
    "    {\n",
    "    \t\"OuterObject\": [{\n",
    "    \t\t\"NestedArray\": [\n",
    "    \t\t\t[\n",
    "    \t\t\t\t\"SomeValue\"\n",
    "    \t\t\t],\n",
    "    \t\t\t[\n",
    "    \t\t\t\t\"SomeValue\"\n",
    "    \t\t\t],\n",
    "    \t\t\t[\n",
    "    \t\t\t\t\"SomeValue\"\n",
    "    \t\t\t]\n",
    "    \t\t]\n",
    "    \t}]\n",
    "    }\n",
    "```"
   ]
  },
  {
   "cell_type": "markdown",
   "metadata": {
    "slideshow": {
     "slide_type": "slide"
    }
   },
   "source": [
    "## Advanced Examples\n",
    "\n",
    "* See the following examples that use nested concepts to section out data.\n",
    "* The property **Articles** holds a nested set of article names, in addition, it holds the next nested set of data, **Shared On**, which again nests social network names.\n",
    "\n",
    "### Advanced Example #1\n",
    "```JSON\n",
    "    {\n",
    "    \t\"Category\": \"Tutorials\",\n",
    "    \t\"Articles\": [{\n",
    "    \t\t\t\"Name\": \"ChartJS Lesson 1\",\n",
    "    \t\t\t\"Shared On\": [{\n",
    "    \t\t\t\t\t\"SocialNetwork\": \"Facebook\"\n",
    "    \t\t\t\t},\n",
    "    \t\t\t\t{\n",
    "    \t\t\t\t\t\"SocialNetwork\": \"Twitter\"\n",
    "    \t\t\t\t},\n",
    "    \t\t\t\t{\n",
    "    \t\t\t\t\t\"SocialNetwork\": \"Google+\"\n",
    "    \t\t\t\t}\n",
    "    \t\t\t]\n",
    "    \t\t},\n",
    "    \t\t{\n",
    "    \t\t\t\"Name\": \"ChartJS Lesson 2\",\n",
    "    \t\t\t\"Shared On\": [{\n",
    "    \t\t\t\t\t\"SocialNetwork\": \"Facebook\"\n",
    "    \t\t\t\t},\n",
    "    \t\t\t\t{\n",
    "    \t\t\t\t\t\"SocialNetwork\": \"Twitter\"\n",
    "    \t\t\t\t},\n",
    "    \t\t\t\t{\n",
    "    \t\t\t\t\t\"SocialNetwork\": \"Google+\"\n",
    "    \t\t\t\t}\n",
    "    \t\t\t]\n",
    "    \n",
    "    \t\t},\n",
    "    \t\t{\n",
    "    \t\t\t\"Name\": \"ChartJS Lesson 3\",\n",
    "    \t\t\t\"Shared On\": [{\n",
    "    \t\t\t\t\t\"SocialNetwork\": \"Facebook\"\n",
    "    \t\t\t\t},\n",
    "    \t\t\t\t{\n",
    "    \t\t\t\t\t\"SocialNetwork\": \"Twitter\"\n",
    "    \t\t\t\t},\n",
    "    \t\t\t\t{\n",
    "    \t\t\t\t\t\"SocialNetwork\": \"Google+\"\n",
    "    \t\t\t\t}\n",
    "    \t\t\t]\n",
    "    \t\t},\n",
    "    \t\t{\n",
    "    \t\t\t\"Name\": \"ChartJS Lesson 4\",\n",
    "    \t\t\t\"Shared On\": [{\n",
    "    \t\t\t\t\t\"SocialNetwork\": \"Facebook\"\n",
    "    \t\t\t\t},\n",
    "    \t\t\t\t{\n",
    "    \t\t\t\t\t\"SocialNetwork\": \"Twitter\"\n",
    "    \t\t\t\t},\n",
    "    \t\t\t\t{\n",
    "    \t\t\t\t\t\"SocialNetwork\": \"Google+\"\n",
    "    \t\t\t\t}\n",
    "    \t\t\t]\n",
    "    \t\t}\n",
    "    \t]\n",
    "    }\n",
    "```"
   ]
  },
  {
   "cell_type": "markdown",
   "metadata": {
    "slideshow": {
     "slide_type": "slide"
    }
   },
   "source": [
    "### Advanced Example 2\n",
    "* The previous example shows how to nest objects, but you can also nest arrays too, having an array-of-arrays is perfectly normal.\n",
    "* It all depends on what your specific needs are.\n",
    "* The following example shows the **Shared On** property holding an array of social network names.\n",
    "\n",
    "```JSON\n",
    "    {\n",
    "    \t\"Category\": \"Tutorials\",\n",
    "    \t\"Articles\": [{\n",
    "    \t\t\t\"Name\": \"ChartJS Lesson 1\",\n",
    "    \t\t\t\"Shared On\": [\n",
    "    \t\t\t\t[\"Facebook\"],\n",
    "    \t\t\t\t[\"Twitter\"],\n",
    "    \t\t\t\t[\"Google+\"]\n",
    "    \t\t\t]\n",
    "    \t\t}\n",
    "    \t]\n",
    "    }\n",
    "```"
   ]
  },
  {
   "cell_type": "markdown",
   "metadata": {
    "cell_style": "center",
    "hideCode": true,
    "hidePrompt": true,
    "slideshow": {
     "slide_type": "slide"
    }
   },
   "source": [
    "# JavaScript and JSON: Security Problems\n",
    "* The `eval()` function can compile and execute any **JavaScript**.\n",
    "* This represents a potential security problem.\n",
    "* It is safer to use a **JSON** parser to convert a **JSON** text to a **JavaScript** object.\n",
    "* A **JSON** parser will recognise only **JSON** text and will not compile scripts.\n",
    "* In browsers that provide native **JSON** support, **JSON** parsers are also faster.\n",
    "* Native **JSON** support is included in newer browsers and in the newest **ECMAScript** (JavaScript) standard."
   ]
  },
  {
   "cell_type": "markdown",
   "metadata": {
    "cell_style": "center",
    "hideCode": true,
    "hidePrompt": true,
    "slideshow": {
     "slide_type": "slide"
    }
   },
   "source": [
    "# JSON Schema\n",
    "* Describes your **JSON** data format\n",
    "* http://jsonschemalint.com/\n",
    "* http://json-schema.org/implementations\n",
    "* http://en.wikipedia.org/wiki/JSON#JSON_Schema"
   ]
  },
  {
   "cell_type": "markdown",
   "metadata": {
    "hideCode": true,
    "hidePrompt": true,
    "slideshow": {
     "slide_type": "slide"
    }
   },
   "source": [
    "## Summary<img src=\"https://img.icons8.com/ios/summary-list/80\" style=\"display:inline-block;vertical-align:middle;padding:0 0 10px 10px\">\n",
    "* ???"
   ]
  },
  {
   "cell_type": "code",
   "execution_count": null,
   "metadata": {
    "hideCode": true,
    "hidePrompt": true
   },
   "outputs": [],
   "source": []
  }
 ],
 "metadata": {
  "celltoolbar": "Slideshow",
  "hide_code_all_hidden": true,
  "kernelspec": {
   "display_name": "Python 3",
   "language": "python",
   "name": "python3"
  },
  "language_info": {
   "codemirror_mode": {
    "name": "ipython",
    "version": 3
   },
   "file_extension": ".py",
   "mimetype": "text/x-python",
   "name": "python",
   "nbconvert_exporter": "python",
   "pygments_lexer": "ipython3",
   "version": "3.7.4"
  },
  "rise": {
   "autolaunch": true,
   "backgroundTransition": "slide",
   "controls": true,
   "enable_chalkboard": true,
   "overlay": "<div class='line top'></div><div class='line bottom'></div><div class='line left'></div><div class='line right'></div><div class='logo'><img src='../binder/logo.png'/></div>",
   "showSlideNumber": "speaker",
   "slideNumber": true,
   "theme": "simple",
   "transition": "slide"
  }
 },
 "nbformat": 4,
 "nbformat_minor": 2
}
