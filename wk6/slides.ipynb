{
 "cells": [
  {
   "cell_type": "code",
   "execution_count": 4,
   "metadata": {
    "hideCode": true,
    "hideOutput": true,
    "hidePrompt": true,
    "init_cell": true,
    "slideshow": {
     "slide_type": "skip"
    }
   },
   "outputs": [
    {
     "data": {
      "text/html": [
       "<style type=\"text/css\">\n",
       ".CodeMirror {width: 100vw}\n",
       ".container {width: 90% !important}\n",
       ".rendered_html {font-size:0.8em}\n",
       ".rendered_html table, .rendered_html th, .rendered_html tr, .rendered_html td {font-size: 90%}\n",
       "table td, table th {\n",
       "border: 1px  black solid !important;\n",
       "color: black !important;\n",
       "background-color: white;\n",
       "font-size:2.4em;\n",
       "}\n",
       "hr {\n",
       "    border: 0;\n",
       "    height: 1px;\n",
       "    background: #333;\n",
       "    background-image: linear-gradient(to right, #ccc, #333, #ccc);}\n",
       "/*.prompt{display:none}\n",
       ".prompt_container{width: 0px; min-width: 0px; visibility: collapse}\n",
       ".output_prompt{width: 0px; min-width: 0px; visibility: collapse}\n",
       ".output_result{width: 100%; height:100%}*/   \n",
       "</style>\n"
      ],
      "text/plain": [
       "<IPython.core.display.HTML object>"
      ]
     },
     "metadata": {},
     "output_type": "display_data"
    }
   ],
   "source": [
    "%%HTML\n",
    "<style type=\"text/css\">\n",
    ".CodeMirror {width: 100vw}\n",
    ".container {width: 90% !important}\n",
    ".rendered_html {font-size:0.8em}\n",
    ".rendered_html table, .rendered_html th, .rendered_html tr, .rendered_html td {font-size: 90%}\n",
    "table td, table th {\n",
    "border: 1px  black solid !important;\n",
    "color: black !important;\n",
    "background-color: white;\n",
    "font-size:2.4em;\n",
    "}\n",
    "hr {\n",
    "    border: 0;\n",
    "    height: 1px;\n",
    "    background: #333;\n",
    "    background-image: linear-gradient(to right, #ccc, #333, #ccc);}\n",
    "/*.prompt{display:none}\n",
    ".prompt_container{width: 0px; min-width: 0px; visibility: collapse}\n",
    ".output_prompt{width: 0px; min-width: 0px; visibility: collapse}\n",
    ".output_result{width: 100%; height:100%}*/   \n",
    "</style>"
   ]
  },
  {
   "cell_type": "markdown",
   "metadata": {
    "slideshow": {
     "slide_type": "slide"
    }
   },
   "source": [
    "# XML Bootcamp <img src=\"https://img.icons8.com/nolan/xml/80\" style=\"display:inline-block;vertical-align:middle;\">"
   ]
  },
  {
   "cell_type": "markdown",
   "metadata": {
    "slideshow": {
     "slide_type": "slide"
    }
   },
   "source": [
    "## XML 101 <img src=\"https://img.icons8.com/nolan/students/80\" style=\"display:inline-block;vertical-align:middle;\">\n",
    "* **XML**\n",
    "    * It **stores data** and **doesn't do anything** other than that\n",
    "    * Designed for **data-exchange**\n",
    "    * Must be **well-formed**:\n",
    "        * There must be an **XML declaration**\n",
    "        * There must be a single **root element**\n",
    "        * All **XML** elements **must have** a **closing tag**.\n",
    "        * **XML** tags are **case-sensitive**.\n",
    "        * All **XML** elements must be **properly nested**.\n",
    "        * Attribute values must always **be quoted**.\n",
    "* ```XML\n",
    "<?xml version=\"1.0\" encoding=\"UTF-8\"?>\n",
    "<module students=\"25\">\n",
    "         <name>Interactive Web Applications &amp;</name>\n",
    "         <room>Collins</room>\n",
    "</module>\n",
    "```"
   ]
  },
  {
   "cell_type": "markdown",
   "metadata": {
    "slideshow": {
     "slide_type": "slide"
    }
   },
   "source": [
    "## XML 101 <img src=\"https://img.icons8.com/nolan/students/80\" style=\"display:inline-block;vertical-align:middle;\">\n",
    "* **XPath** is used to navigate **XML** files\n",
    "    * `/root/child/child_of_child/`\n",
    "    * `//child_of_child`\n",
    "    * `@attribute`\n",
    "    \n",
    "* **XSL**\n",
    "    * For **transforming XML** with the help of **XPath**\n",
    "    * **Build a template**, provide **instructions** and **apply** to the original **XML**\n",
    "\n",
    "* **XSD**\n",
    "    * XML schema, i.e. a **recipe** for your XML files"
   ]
  },
  {
   "cell_type": "markdown",
   "metadata": {
    "slideshow": {
     "slide_type": "slide"
    }
   },
   "source": [
    "## Bootcamp Task <img src=\"https://img.icons8.com/cotton/64/000000/successfully-completed-task--v2.png\" style=\"display:inline-block;vertical-align:middle;\">\n",
    "* Compose the required **XML** file\n",
    "\n",
    "* Complete the given **XSL** template\n",
    "\n",
    "* Attach **CSS** and **JavaScript** files\n",
    "\n",
    "* Get our final **micro web app** working"
   ]
  },
  {
   "cell_type": "markdown",
   "metadata": {
    "slideshow": {
     "slide_type": "slide"
    }
   },
   "source": [
    "## XML File Instructions <img src=\"https://img.icons8.com/nolan/64/000000/export.png\" style=\"display:inline-block;vertical-align:middle;\">\n",
    "* You are building a cafe menu, where the root is called `cafemenu`\n",
    "* There are 4 sections (singular `section`), has an attribute `name`:\n",
    "    * `Side Dishes`\n",
    "    * `Breakfast`\n",
    "    * `Lunch`\n",
    "    * `Dinner`\n",
    "* **Side Dishes** contains entrees (singular `entree`):\n",
    "    * `Potato salad` (called `item`), `4.95` (called `price`), this is a `vegetarian=\"true\"` entree\n",
    "    * `Paddy's French Fries`, `7.50`\n",
    "    * `Huevos Rancheros`, `8.50`\n",
    "* **Breakfast** contains entrees (singular `entree`):\n",
    "    * `Two Eggs, any style`, `4.99`\n",
    "    * `Paddy's Famous Peppers and Eggs`, `8.29`\n",
    "    * `Bowl of fruit`, `6.99`, this is a `vegetarian=\"true\"` entree\n",
    "    * `French toast`, `5.25`, this is a `vegetarian=\"true\"` entree\n",
    "    * `Croissant`, `3.99`"
   ]
  },
  {
   "cell_type": "markdown",
   "metadata": {
    "slideshow": {
     "slide_type": "slide"
    }
   },
   "source": [
    "## XML File Instructions <img src=\"https://img.icons8.com/nolan/64/000000/export.png\" style=\"display:inline-block;vertical-align:middle;\">\n",
    "* **Lunch** contains entrees (singular `entree`):\n",
    "    * `Grilled Chicken Sandwich`, `7.99`\n",
    "    * `Tuna Melt`, `6.99`\n",
    "    * `Pasta Salad`, `7.39`, this is a `vegetarian=\"true\"` entree\n",
    "* **Dinner** contains entrees (singular `entree`):\n",
    "    * `Ribeye Steak`, `19.99`\n",
    "    * `Chilean Sea Bass`, `12.99`\n",
    "    * `Linguini with Grilled Porcini Mushroom`, `9.79`, this is a `vegetarian=\"true\"` entree\n",
    "\n",
    "* Reference our future XSL file properly inside this **XML** called **PaddysCafe.xsl** file \n",
    "* Save this file as **PaddysCafe.xml**"
   ]
  },
  {
   "cell_type": "markdown",
   "metadata": {
    "slideshow": {
     "slide_type": "slide"
    }
   },
   "source": [
    "## XSL File Instructions <img src=\"https://img.icons8.com/nolan/64/000000/export.png\" style=\"display:inline-block;vertical-align:middle;\">\n",
    "```XML\n",
    "<?xml version=\"1.0\"?> \n",
    "<xsl:stylesheet xmlns:xsl=\"http://www.w3.org/1999/XSL/Transform\" version=\"1.0\">\n",
    "<xsl:template match=\"/\">\n",
    "    <html>\n",
    "        <head>\n",
    "            <title>Paddy's Cafe Menu</title>\n",
    "            <meta http-equiv=\"Content-Type\" content=\"text/html; charset=iso-8859-1\" />\n",
    "            ...\n",
    "        </head>\n",
    "            <body>\n",
    "                <h2>\n",
    "                    <img src=\"javaco_tea_logo.gif\" alt=\"Javaco Tea Logo\" width=\"58\" height=\"100\" />Welcome to Paddy's Cafe</h2>\n",
    "                <p>Select your entrees from the menu below. To calculate the amount of the bill, click the Calculate Bill button. Check the \"Highlight Vegetarian Meals\" box to highlight vegetarian dishes.</p>\n",
    "                <table id=\"menuTable\" border=\"1\" class=\"indent\">\n",
    "                    <thead>\n",
    "                        <tr>\n",
    "                            <th colspan=\"3\">Paddy's Cafe Menu</th>\n",
    "                        </tr>\n",
    "                        <tr>\n",
    "                            <th>Select</th>\n",
    "                            <th>Item</th>\n",
    "                            <th>Price</th>\n",
    "                        </tr>\n",
    "                    </thead>\n",
    "                    <tbody>\n",
    "                        <xsl:for-each select=\"\">\n",
    "                            <tr>\n",
    "                                <td colspan=\"3\">\n",
    "                                    <xsl:value-of select=\"\" />\n",
    "                                </td>\n",
    "                            </tr>\n",
    "                            <xsl:for-each select=\"\">\n",
    "                                <tr>\n",
    "                                    <xsl:attribute name=\"\">\n",
    "                                        <xsl:value-of select=\"boolean()\" />\n",
    "                                    </xsl:attribute>\n",
    "                                    <td align=\"center\">\n",
    "                                        <input name=\"item0\" type=\"checkbox\" />\n",
    "                                    </td>\n",
    "                                    <td>\n",
    "                                        <xsl:value-of select=\"item\" />\n",
    "                                    </td>\n",
    "                                    <td align=\"right\">\n",
    "                                        <xsl:value-of select=\"price\" />\n",
    "                                    </td>\n",
    "                                </tr>\n",
    "                            </xsl:for-each>\n",
    "                        </xsl:for-each>\n",
    "                    </tbody>\n",
    "                </table>\n",
    "                <form class=\"indent\">\n",
    "                    <p>\n",
    "                        <input type=\"button\" name=\"btnCalcBill\" value=\"Calculate Bill\" id=\"calcBill\" />\n",
    "\t\t\t\tTotal: €\n",
    "\t\t\t\t<input type=\"text\" name=\"txtBillAmt\" /><input type=\"checkbox\" name=\"cbOpts\" value=\"isVeg\" id=\"showVeg\" /><label for=\"showVeg\">Highlight Vegetarian Meals</label></p>\n",
    "                </form>\n",
    "            </body>\n",
    "        </html>\n",
    "    </xsl:template>\n",
    "</xsl:stylesheet>\n",
    "```\n",
    "\n",
    "* Copy all of the contents above into a new file called **PaddysCafe.xsl**"
   ]
  },
  {
   "cell_type": "markdown",
   "metadata": {
    "slideshow": {
     "slide_type": "slide"
    }
   },
   "source": [
    "## XSL File Instructions <img src=\"https://img.icons8.com/nolan/64/000000/export.png\" style=\"display:inline-block;vertical-align:middle;\">\n",
    "* Fill in the missing **XPath** statements\n",
    "\n",
    "* You are building a table that lists all instances of `section` and then all `entree` and whether each entree is vegetarian or not (this goes inside `Boolean()`)\n",
    "\n",
    "* For each `entree` you list `item` and `price`\n",
    "\n",
    "* Inside `head` remove `...` and reference CSS file inside the HTML code that is present in **PaddysCafe.xsl**\n",
    "\n",
    "    * The CSS file is called `PaddysCafeStyles.css`\n",
    "    \n",
    "* You must reference JavaScript file inside the HTML code that is present in **PaddysCafe.xsl**\n",
    "\n",
    "    * The JS file is called `PaddysCafeCode.js`"
   ]
  },
  {
   "cell_type": "markdown",
   "metadata": {
    "slideshow": {
     "slide_type": "slide"
    }
   },
   "source": [
    "## XSL File Instructions <img src=\"https://img.icons8.com/nolan/64/000000/export.png\" style=\"display:inline-block;vertical-align:middle;\">\n",
    "* Also use put the following JavaScript snippet inside the HTML code that is present in **PaddysCafe.xsl**\n",
    "\n",
    "    ```HTML\n",
    "                <script>\n",
    "\t\t\t        window.addEventListener(\"load\", function() {\n",
    "\t\t\t            document.forms[0].txtBillAmt.value = calculateBill('menuTable');\n",
    "\t\t\t            document.querySelector(\"#calcBill\").addEventListener(\"click\", function() {\n",
    "\t\t\t                document.forms[0].txtBillAmt.value = calculateBill('menuTable');\n",
    "\t\t\t            });\n",
    "\t\t\t            document.querySelector(\"#showVeg\").addEventListener(\"click\", function() {\n",
    "\t\t\t                highlightVegetarian('menuTable', this.checked);\n",
    "\t\t\t            });\n",
    "\t\t\t        });\n",
    "\t\t\t    </script>\n",
    "    ```"
   ]
  },
  {
   "cell_type": "markdown",
   "metadata": {
    "slideshow": {
     "slide_type": "slide"
    }
   },
   "source": [
    "## Now <img src=\"https://img.icons8.com/officel/80/000000/present.png\" style=\"display:inline-block;vertical-align:middle;\">\n",
    "\n",
    "* Save all files inside the **bootcamp** folder in **wk7**\n",
    "    * There is a logo already\n",
    "    * CSS and JS files\n",
    "    \n",
    "* You should now have:\n",
    "    * `PaddysCafe.xml`\n",
    "    * `PaddysCafe.xsl`\n",
    "    * `PaddysCafeStyles.css`\n",
    "    * `PaddysCafeCode.js`\n",
    "\n",
    "* Run the cell on the next slide with `Shift+Enter` to produce `PaddysCafe.html`\n",
    "* If nothing runs, try and restart the kernel or press **[this link](https://mybinder.org/v2/gh/mikhail-cct/cct-iwa.git/master?filepath=wk7%2Fslides.ipynb)** to restart mybinder.org **(you will loose all data, so be careful and save everything locally)**"
   ]
  },
  {
   "cell_type": "code",
   "execution_count": null,
   "metadata": {
    "hideCode": false,
    "hidePrompt": false,
    "scrolled": false,
    "slideshow": {
     "slide_type": "slide"
    }
   },
   "outputs": [],
   "source": [
    "from bs4 import BeautifulSoup\n",
    "import lxml.etree as ET\n",
    "\n",
    "dom = ET.parse('bootcamp/PaddysCafe.xml')\n",
    "xslt = ET.parse('bootcamp/PaddysCafe.xsl')\n",
    "transform = ET.XSLT(xslt)\n",
    "newdom = transform(dom)\n",
    "result = BeautifulSoup(str(newdom))\n",
    "html = result.prettify()\n",
    "print(html)\n",
    "f=open(\"bootcamp/PaddysCafe.html\",\"w+\")\n",
    "f.write(html)"
   ]
  },
  {
   "cell_type": "markdown",
   "metadata": {
    "slideshow": {
     "slide_type": "slide"
    }
   },
   "source": [
    "## Result  <img src=\"https://img.icons8.com/cotton/64/000000/successfully-completed-task--v2.png\" style=\"display:inline-block;vertical-align:middle;\">\n",
    "* Open the following link to see your first micro web application: **[bootcamp/PaddysCafe.html](bootcamp/PaddysCafe.html)**"
   ]
  }
 ],
 "metadata": {
  "celltoolbar": "Slideshow",
  "hide_code_all_hidden": true,
  "kernelspec": {
   "display_name": "Python 3",
   "language": "python",
   "name": "python3"
  },
  "language_info": {
   "codemirror_mode": {
    "name": "ipython",
    "version": 3
   },
   "file_extension": ".py",
   "mimetype": "text/x-python",
   "name": "python",
   "nbconvert_exporter": "python",
   "pygments_lexer": "ipython3",
   "version": "3.7.4"
  },
  "rise": {
   "autolaunch": true,
   "backgroundTransition": "slide",
   "controls": true,
   "enable_chalkboard": true,
   "overlay": "<div class='line top'></div><div class='line bottom'></div><div class='line left'></div><div class='line right'></div><div class='logo'><img src='../binder/logo.png'/></div>",
   "showSlideNumber": "speaker",
   "slideNumber": true,
   "theme": "simple",
   "transition": "slide"
  }
 },
 "nbformat": 4,
 "nbformat_minor": 2
}
