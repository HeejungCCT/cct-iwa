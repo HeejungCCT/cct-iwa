{
 "cells": [
  {
   "cell_type": "code",
   "execution_count": 35,
   "metadata": {
    "hideCode": false,
    "hideOutput": true,
    "hidePrompt": false,
    "init_cell": true,
    "slideshow": {
     "slide_type": "skip"
    }
   },
   "outputs": [
    {
     "data": {
      "text/html": [
       "<style type=\"text/css\">\n",
       ".CodeMirror {width: 100vw}\n",
       ".container {width: 90% !important}\n",
       ".rendered_html {font-size:0.8em}\n",
       ".rendered_html table, .rendered_html th, .rendered_html tr, .rendered_html td {font-size: 90%}\n",
       "table td, table th {\n",
       "border: 1px  black solid !important;\n",
       "color: black !important;\n",
       "background-color: white;\n",
       "font-size:2.4em;\n",
       "}\n",
       "hr {\n",
       "    border: 0;\n",
       "    height: 1px;\n",
       "    background: #333;\n",
       "    background-image: linear-gradient(to right, #ccc, #333, #ccc);}\n",
       "/*.prompt{display:none}\n",
       ".prompt_container{width: 0px; min-width: 0px; visibility: collapse}\n",
       ".output_prompt{width: 0px; min-width: 0px; visibility: collapse}\n",
       ".output_result{width: 100%; height:100%}*/   \n",
       "</style>\n"
      ],
      "text/plain": [
       "<IPython.core.display.HTML object>"
      ]
     },
     "metadata": {},
     "output_type": "display_data"
    }
   ],
   "source": [
    "%%HTML\n",
    "<style type=\"text/css\">\n",
    ".CodeMirror {width: 100vw}\n",
    ".container {width: 90% !important}\n",
    ".rendered_html {font-size:0.8em}\n",
    ".rendered_html table, .rendered_html th, .rendered_html tr, .rendered_html td {font-size: 90%}\n",
    "table td, table th {\n",
    "border: 1px  black solid !important;\n",
    "color: black !important;\n",
    "background-color: white;\n",
    "font-size:2.4em;\n",
    "}\n",
    "hr {\n",
    "    border: 0;\n",
    "    height: 1px;\n",
    "    background: #333;\n",
    "    background-image: linear-gradient(to right, #ccc, #333, #ccc);}\n",
    "/*.prompt{display:none}\n",
    ".prompt_container{width: 0px; min-width: 0px; visibility: collapse}\n",
    ".output_prompt{width: 0px; min-width: 0px; visibility: collapse}\n",
    ".output_result{width: 100%; height:100%}*/   \n",
    "</style>"
   ]
  },
  {
   "cell_type": "markdown",
   "metadata": {
    "slideshow": {
     "slide_type": "slide"
    }
   },
   "source": [
    "# JavaScript <img src=\"https://img.icons8.com/javascript/80\" style=\"display:inline-block;vertical-align:middle;\">"
   ]
  },
  {
   "cell_type": "markdown",
   "metadata": {
    "slideshow": {
     "slide_type": "slide"
    }
   },
   "source": [
    "  ## Scripting Language \n",
    "  \n",
    "  * **Developed** for a particular **purpose**:\n",
    "\n",
    "      * **Uses** the facilities of an existing system\n",
    "\n",
    "      * **Exposes** the system’s functionality to programmatic control\n",
    "\n",
    "  * Generally **easy to learn** and **use**:\n",
    "\n",
    "      * **Used** by professional and non-professional programmers\n",
    "\n",
    "      * **Ideal** for small applications\n",
    "\n",
    "      * **Interpreted**, not compiled\n",
    "\n",
    "  * Most often **dynamically typed**:\n",
    "\n",
    "      * It is not necessary to declare the type of a variable before you use it"
   ]
  },
  {
   "cell_type": "markdown",
   "metadata": {
    "slideshow": {
     "slide_type": "slide"
    }
   },
   "source": [
    "# Scripting\n",
    "\n",
    "*  **Server-Side Scripting** \n",
    "\n",
    "  * Access to server-side environment\n",
    "  \n",
    "  * Database access\n",
    "  \n",
    "  * Access to server file-system\n",
    "  \n",
    "  * Authentication / Authorisation\n",
    "  \n",
    "  * Process requests and construct appropriate responses\n",
    "  \n",
    "* **PHP, Perl, Ruby, Node.js and other solutions**"
   ]
  },
  {
   "cell_type": "markdown",
   "metadata": {
    "slideshow": {
     "slide_type": "slide"
    }
   },
   "source": [
    "# Scripting\n",
    "*  **Client-Side Scripting**\n",
    "\n",
    "  * Access to client-side environment – typically a browser\n",
    "  \n",
    "  * Manipulate client-side environment\n",
    "  \n",
    "  * Respond to client-side events\n",
    "  \n",
    "  * Perform client-side validation of data\n",
    "  \n",
    "  * Security restrictions in  place\n",
    "  \n",
    "* **JavaScript and its frameworks**"
   ]
  },
  {
   "cell_type": "markdown",
   "metadata": {
    "slideshow": {
     "slide_type": "slide"
    }
   },
   "source": [
    "# Java Script\n",
    "\n",
    "* **JavaScript** is an object-oriented computer programming language commonly used to create interactive effects within web browsers\n",
    "\n",
    "* **JavaScript interpreters** are built into most modern web browsers\n",
    "\n",
    "* **JavaScript** code can be referenced in **HTML** or embedded directly into it\n",
    "\n",
    "* The **browser** will run the code when appropriate"
   ]
  },
  {
   "cell_type": "markdown",
   "metadata": {
    "slideshow": {
     "slide_type": "slide"
    }
   },
   "source": [
    "# The Browser Wars\n",
    "\n",
    "<center><img src=\"https://img.icons8.com/color/netscape/300\" style=\"display:inline-block;vertical-align:middle;\"> <img src=\"https://img.icons8.com/color/fight/300\" style=\"display:inline-block;vertical-align:middle;\"> <img src=\"https://img.icons8.com/color/internet-explorer/300\" style=\"display:inline-block;vertical-align:middle;\"></center>"
   ]
  },
  {
   "cell_type": "markdown",
   "metadata": {
    "slideshow": {
     "slide_type": "slide"
    }
   },
   "source": [
    "# History of JavaScript\n",
    "\n",
    "* **Evolution**\n",
    "  * **Brendan Eich** works for **Netscape** creates **LiveScript** in **1995**\n",
    "  \n",
    "  * Renamed **JavaScript** for its release in Netscape Navigator 2.0\n",
    "  \n",
    "  * Created to extend browser capabilities by providing a means of adding interactive functionality to web pages\n",
    "  \n",
    "  * Standardised in **1998** with ISO approval\n",
    "  \n",
    "* Companies that dominate the technical landscape have repeatedly tried to create their versions of **JavaScript**.\n",
    "\n",
    "    * First **Sun**, then **Microsoft** (VBScript), then **Adobe**, then **Microsoft** again (Silverlight), then **Google**, and then, arguably with TypeScript, **Microsoft** yet again."
   ]
  },
  {
   "cell_type": "markdown",
   "metadata": {
    "slideshow": {
     "slide_type": "slide"
    }
   },
   "source": [
    "# JavaScript and Java\n",
    "\n",
    "* A common **misconception** is that **JavaScript** is similar or closely related to **Java**.\n",
    "\n",
    "    * They have a **C-like syntax**\n",
    "    \n",
    "    * They also are both typically sandboxed (when used inside a browser)\n",
    "    \n",
    "    * **JavaScript** was originally designed with **Java's** syntax and standard library in mind.\n",
    "\n",
    "* Both were released in 1995, but **Java** was developed by **Sun Microsystems** and **JavaScript** by **Netscape Communications**.\n",
    "\n",
    "    * **Java** has **static typing**, while **JavaScript's** typing is dynamic.\n",
    "\n",
    "    * **Java** is loaded from **compiled bytecode**, while **JavaScript** is loaded as **human-readable source code**.\n",
    "\n",
    "    * **Java's** objects are **class-based**, while **JavaScript's** are **prototype-based**.\n",
    "\n",
    "    * **Java** did not support functional programming until **Java 8**, while **JavaScript** has done so from the beginning."
   ]
  },
  {
   "cell_type": "markdown",
   "metadata": {
    "slideshow": {
     "slide_type": "slide"
    }
   },
   "source": [
    "# What is JavaScript\n",
    "\n",
    "* **Usage**\n",
    "\n",
    "  * It is a scripting language used to manipulate the web browser into performing checks, actions and tasks asdesired\n",
    "  \n",
    "  * ****JavaScript**** is a standard and will work across browsers and mobile devices that support it\n",
    "  \n",
    "* **Question**\n",
    "  * List any **5** tasks **JavaScript** can be used for in a Web Browser?"
   ]
  },
  {
   "cell_type": "markdown",
   "metadata": {
    "slideshow": {
     "slide_type": "slide"
    }
   },
   "source": [
    "# **JavaScript** Specifics\n",
    "\n",
    "* **JavaScript** is dynamically typed\n",
    "\n",
    "    * **Data-types** are bound to **values** and **not variables**\n",
    "    \n",
    "* **JavaScript** is **case-sensitive**\n",
    "\n",
    "* **Comments**\n",
    "\n",
    "    * Single line comments start with `//*`\n",
    "    \n",
    "    * Multi-line comments start with `/*` and end with `*/`"
   ]
  },
  {
   "cell_type": "markdown",
   "metadata": {
    "slideshow": {
     "slide_type": "slide"
    }
   },
   "source": [
    "# **JavaScript** Data Types"
   ]
  },
  {
   "cell_type": "markdown",
   "metadata": {
    "cell_style": "split",
    "slideshow": {
     "slide_type": "-"
    }
   },
   "source": [
    "**Three primitive types:**\n",
    "\n",
    "  * **Boolean**\n",
    "    * True / False\n",
    "    \n",
    "  * **Numeric**\n",
    "    * 64-bit **floating** point\n",
    "    * Includes **NaN** (Not a Number)\n",
    "    * Includes **Infinity**\n",
    "    \n",
    "  * **String**\n",
    "  \n",
    "**Special values:**\n",
    "\n",
    "  * **Null**\n",
    "  * **Undefined**"
   ]
  },
  {
   "cell_type": "markdown",
   "metadata": {
    "cell_style": "split"
   },
   "source": [
    "<center><img src=\"img/image5.png\"></center>\n",
    "<center><img src=\"img/image6.png\"></center>"
   ]
  },
  {
   "cell_type": "markdown",
   "metadata": {
    "slideshow": {
     "slide_type": "slide"
    }
   },
   "source": [
    "# JavaScript Specifics\n",
    "\n",
    "* **JavaScript** is an **object-based**  **language**\n",
    "* Basic language and functionality provided by set of **given objects built-in and provided** as part of the core **JavaScript** language:\n",
    "\n",
    "    * **Math**\n",
    "    * **String**\n",
    "    * **Number**\n",
    "    * **Boolean**\n",
    "    * **Date**\n",
    "    * **Array**\n",
    "    \n",
    "* **Does not** support classes\n",
    "\n",
    "* We can **create new objects** though"
   ]
  },
  {
   "cell_type": "markdown",
   "metadata": {
    "slideshow": {
     "slide_type": "slide"
    }
   },
   "source": [
    "# **JavaScript** Specifics\n",
    "* **Browser-Related Objects**\n",
    "\n",
    "  * **Document Object Model (DOM)**\n",
    "  \n",
    "  * **Other  objects** come directly from the browser  itself:\n",
    "    *  **location** \n",
    "    *  **navigator** \n",
    "    *  **history** "
   ]
  },
  {
   "cell_type": "markdown",
   "metadata": {
    "slideshow": {
     "slide_type": "slide"
    }
   },
   "source": [
    "# JavaScript Objects\n",
    "\n",
    "* Objects have **properties and methods**\n",
    "\n",
    "* **JavaScript** uses a **dot operator** notation to refer to an objects properties and methods\n",
    "\n",
    "```JavaScript\n",
    "document.write(\"Hello World!\")\n",
    "```\n",
    "<center><img src=\"img/image7.png\" style=\"display:inline-block;vertical-align:middle;\"> <img src=\"img/image8.png\" style=\"display:inline-block;vertical-align:middle;\"></center>"
   ]
  },
  {
   "cell_type": "markdown",
   "metadata": {
    "slideshow": {
     "slide_type": "slide"
    }
   },
   "source": [
    "# Literals and Variables\n",
    "\n",
    "* A **literal** is a fixed value:\n",
    "\n",
    "  * `Hello`\n",
    "\n",
    "  * `55`\n",
    "      \n",
    "* A **variable** is a symbolic name that represents a value\n",
    "\n",
    "* The **value** associated with a variable can change"
   ]
  },
  {
   "cell_type": "markdown",
   "metadata": {
    "slideshow": {
     "slide_type": "slide"
    }
   },
   "source": [
    "# Declaring Variables\n",
    "\n",
    "* To use a variable we should declare it and preferably we should also initialise it.\n",
    "\n",
    "* Use the keyword **var** to declare variables:\n",
    "\n",
    "  * `var myName`\n",
    "  \n",
    "  * `var yourName, address`\n",
    "  \n",
    "  * `var num1 = 23`\n",
    "  \n",
    "  * `var colour = \"green\"`\n",
    "  \n",
    "  * `var isFull = false`\n",
    "  \n",
    "* **JavaScript** does not enforce variable declaration and initialisation\n",
    "\n",
    "* It is **good practice** though"
   ]
  },
  {
   "cell_type": "markdown",
   "metadata": {
    "slideshow": {
     "slide_type": "slide"
    }
   },
   "source": [
    "# Literals and Variables: Undefined values\n",
    "\n",
    "* When a variable has not been assigned, a value it is considered to be **unassigned** and has the value **undefined**<br/><br/>\n",
    "\n",
    "<center><img src=\"img/image11.png\" width=\"60%\"></center>"
   ]
  },
  {
   "cell_type": "markdown",
   "metadata": {
    "slideshow": {
     "slide_type": "slide"
    }
   },
   "source": [
    "# DataType Conversion\n",
    "\n",
    "* **JavaScript is loosely typed:**\n",
    "\n",
    "  * We do not have to specify a data-type when we declare variables\n",
    "  \n",
    "  * We can initialise a variable with one type of data and then use the same variable to hold another type of data. **JavaScript** is said to be dynamically typed:\n",
    "  \n",
    "      * `var myVariable = \"Hello\";`\n",
    "\n",
    "      * `myVariable = 23;`      \n"
   ]
  },
  {
   "cell_type": "markdown",
   "metadata": {
    "slideshow": {
     "slide_type": "slide"
    }
   },
   "source": [
    "# DataType Conversion\n",
    "      \n",
    "* **Automatic Conversion**\n",
    "\n",
    "  * The concatenation operator `+` will automatically convert numbers tostrings:\n",
    "  \n",
    "      * `\"U\" + 2` results in a string `U2`\n",
    "      \n",
    "  * To convert a number to a string we can use the following technique:\n",
    "  \n",
    "      * `var myNumber = 234;`\n",
    "      \n",
    "      * `myNumber = myNumber + \"\";`"
   ]
  },
  {
   "cell_type": "markdown",
   "metadata": {
    "slideshow": {
     "slide_type": "slide"
    }
   },
   "source": [
    "# Dealing with different data types\n",
    "\n",
    "* **parseInt()** and **parseFloat()**\n",
    "\n",
    "    * Used to convert **strings** to **numbers**\n",
    "\n",
    "    * Use when processing data from input text fields or as the result of information added when using the prompt command\n",
    "\n",
    "* **Try the following:**\n",
    "\n",
    "```HTML\n",
    "<html>\n",
    "<head>\n",
    "    <title>Undefined Variable</title>\n",
    "</head>\n",
    "<body>\n",
    "    <script language=\"JavaScript\" type=\"text/javascript\">\n",
    "        var num1 = prompt(\"Enter first number: \");\n",
    "        var num2 = prompt(\"Enter second number: \");\n",
    "        var num3 = num1 + num2;\n",
    "        alert(\"The sum is: \" + num3);\n",
    "    </script>\n",
    "</body>\n",
    "</html>\n",
    "```"
   ]
  },
  {
   "cell_type": "markdown",
   "metadata": {
    "slideshow": {
     "slide_type": "slide"
    }
   },
   "source": [
    "# Dealing with different data types\n",
    "\n",
    "<center><img src=\"img/image14.png\" width=\"30%\"></center>\n",
    "\n",
    "\n",
    "* How can we **correct this**?\n",
    "\n",
    "    * Use **parseInt** or **parseFloat** "
   ]
  },
  {
   "cell_type": "markdown",
   "metadata": {
    "slideshow": {
     "slide_type": "slide"
    }
   },
   "source": [
    "# NaN – Dealing with Numbers\n",
    "\n",
    "* `NaN` – **Not a Number**\n",
    "\n",
    "* `NaN` will be returned if we try to convert a string value to a number, but the string value cannot be converted to a number.\n",
    "\n",
    "* We can use the is `NaN` function to check values\n",
    "\n",
    "```HTML\n",
    "<html>\n",
    "<head>\n",
    "    <title>Undefined Variable</title>\n",
    "</head>\n",
    "<body>\n",
    "    <script language=\"JavaScript\" type=\"text/javascript\">\n",
    "      var num1 = parseFloat(prompt(\"Enter a number: \"));\n",
    "      if (is NaN(num1)) {\n",
    "          alert(\"“Thats not a number \");\n",
    "      } else {\n",
    "          alert(\"“Thank you!! \");\n",
    "      }\n",
    "\t</script>\n",
    "</body>\n",
    "</html>\n",
    "```"
   ]
  },
  {
   "cell_type": "markdown",
   "metadata": {
    "cell_style": "center",
    "slideshow": {
     "slide_type": "slide"
    }
   },
   "source": [
    "# `typeof` Operator\n",
    "\n",
    "* Used to determine a variable’s **data-type**\n",
    "\n",
    "* `typeof operand` OR `typeof (operand)`\n",
    "\n",
    "```HTML\n",
    "<html>\n",
    "<head>\n",
    "    <title>Undefined Variable</title>\n",
    "</head>\n",
    "<body>\n",
    "    <script language=\"JavaScript\" type=\"text/javascript\">\n",
    "        var what1 = \"Hello!\";\n",
    "        var what2 = false;\n",
    "        var what3 = 7756;\n",
    "        document.write(\"<h2>variable what1 is type: \" + (typeof what1) + \"</h2>\");\n",
    "        document.write(\"<h2>variable what2 is type: \" + (typeof what2) + \"</h2>\");\n",
    "        document.write(\"<h2>variable what3 is type: \" + (typeof what3) + \"</h2>\");\n",
    "        if (O == false) {\n",
    "            document.write(\"<h2>0 == false</h2>\");\n",
    "        }\n",
    "        if (O === false) {\n",
    "            document.write(\"<h2>0 == false</h2>\");\n",
    "        }\n",
    "    </script>\n",
    "</body>\n",
    "</html>\n",
    "```"
   ]
  },
  {
   "cell_type": "markdown",
   "metadata": {
    "cell_style": "center",
    "slideshow": {
     "slide_type": "slide"
    }
   },
   "source": [
    "# `typeof` Operator\n",
    "\n",
    "<center><img src=\"img/image17.png\"></center>"
   ]
  },
  {
   "cell_type": "markdown",
   "metadata": {
    "slideshow": {
     "slide_type": "slide"
    }
   },
   "source": [
    "# Strings\n",
    "\n",
    "* The **JavaScript** object **String** has many useful methods defined for it\n",
    "\n",
    "* These methods can be used with any **JavaScript** string type data\n",
    "\n",
    "    * **Example**\n",
    "\n",
    "      * `var message = \"This is a message\";`\n",
    "\n",
    "      * `message.toUpperCase();`\n",
    "  \n",
    "* This works by temporarily converting the string data to a **String** object.\n",
    "\n",
    "* The `toUpperCase()` method is then called, the result stored back to message and the temporary String object is discarded.\n",
    "\n",
    "    * **Example**\n",
    "\n",
    "      * `var strlen = \"How long is this this sentence?\".length;`"
   ]
  },
  {
   "cell_type": "markdown",
   "metadata": {
    "slideshow": {
     "slide_type": "slide"
    }
   },
   "source": [
    "# String Length\n",
    "```HTML\n",
    "<html>\n",
    "<head>\n",
    "    <title>Undefined Variable</title>\n",
    "</head>\n",
    "<body>\n",
    "    <script language=\"JavaScript\" type=\"text/javascript\">\n",
    "      var strlen=\"how long is a piece of string\".length;\n",
    "      document.write(\"<h2> String length is:\" + strlen + \"</h2>\");\n",
    "    </script>\n",
    "</body>\n",
    "</html>\n",
    "```\n",
    "<center><img src=\"img/image19.png\"></center>"
   ]
  },
  {
   "cell_type": "markdown",
   "metadata": {
    "slideshow": {
     "slide_type": "slide"
    }
   },
   "source": [
    "# JavaScript Operators\n",
    "\n",
    "* **Arithmetic operators** are used to perform **arithmetic** between variables and/or values\n",
    "\n",
    "* **Given** that `y=5`, the table below explains the arithmetic operators:\n",
    "\n",
    "\n",
    "<center><img src=\"img/image20.png\"></center>"
   ]
  },
  {
   "cell_type": "markdown",
   "metadata": {
    "slideshow": {
     "slide_type": "slide"
    }
   },
   "source": [
    "# JavaScript Operators\n",
    "\n",
    "* **Assignment operators** are used to assign values to **JavaScript** variables.\n",
    "\n",
    "* Given that `x=10` and `y=5`, the table below explains the **assignment operators**:\n",
    "\n",
    "\n",
    "<center><img src=\"img/image21.png\"></center>"
   ]
  },
  {
   "cell_type": "markdown",
   "metadata": {
    "slideshow": {
     "slide_type": "slide"
    }
   },
   "source": [
    "# JavaScript Operators\n",
    "\n",
    "* **Comparison operators** are used in logical statements to determine equality or difference between variables or values.\n",
    "\n",
    "* Given that `x=5`, the table below explains the comparison operators:\n",
    "\n",
    "<center><img src=\"img/image22.png\"></center>"
   ]
  },
  {
   "cell_type": "markdown",
   "metadata": {
    "slideshow": {
     "slide_type": "slide"
    }
   },
   "source": [
    "# JavaScript Operators\n",
    "\n",
    "* **Logical operators** are used to determine the logic between variables or values.\n",
    "\n",
    "* Given that `x=6` and `y=3`, the table below explains the logical operators:\n",
    "\n",
    "\n",
    "<center><img src=\"img/image23.png\"></center>"
   ]
  },
  {
   "cell_type": "markdown",
   "metadata": {
    "slideshow": {
     "slide_type": "slide"
    }
   },
   "source": [
    "# JavaScript Operators\n",
    "\n",
    "* **JavaScript** also contains a conditional operator that assigns a value to a variable based on some condition.\n",
    "\n",
    "    * `variablename = (condition)?value1:value2;`\n",
    "\n",
    "* **Example**\n",
    "\n",
    "    * `voteable=(age<18)?\"Too young too vote\":\"Can vote\";`\n",
    "    \n",
    "    * If the variable age is a value below 18, the value of the variable vote able will be \"Too young\""
   ]
  },
  {
   "cell_type": "markdown",
   "metadata": {
    "slideshow": {
     "slide_type": "slide"
    }
   },
   "source": [
    "# JavaScript Control Structures\n",
    "\n",
    "* **Selection**  **Structures**\n",
    "    * `if`\n",
    "    \n",
    "    * `if … else`\n",
    "    \n",
    "    * `switch`\n",
    "    \n",
    "* **Repetition Structures**\n",
    "\n",
    "    * `while`\n",
    "    \n",
    "    * `do ... while`\n",
    "    \n",
    "    * `for`\n",
    "    \n",
    "    * `for … in`\n",
    "    \n",
    "* **Error Handling Structures**\n",
    "\n",
    "    * `try … catch`"
   ]
  },
  {
   "cell_type": "markdown",
   "metadata": {
    "slideshow": {
     "slide_type": "slide"
    }
   },
   "source": [
    "# `if` Selection Structure\n",
    "\n",
    "<center><img src=\"img/image24.png\"></center>"
   ]
  },
  {
   "cell_type": "markdown",
   "metadata": {
    "slideshow": {
     "slide_type": "slide"
    }
   },
   "source": [
    "#  `if ... else` Selection Structure\n",
    "<center><img src=\"img/image25.png\" width=\"40%\"></center>\n",
    "\n",
    "<center><img src=\"img/image26.png\" width=\"70%\"></center>"
   ]
  },
  {
   "cell_type": "markdown",
   "metadata": {
    "slideshow": {
     "slide_type": "slide"
    }
   },
   "source": [
    "# `switch` Selection Structure\n",
    "<center><img src=\"img/image27.png\" width=\"80%\"></center>"
   ]
  },
  {
   "cell_type": "markdown",
   "metadata": {
    "slideshow": {
     "slide_type": "slide"
    }
   },
   "source": [
    "# `for` Repetition Structure\n",
    "\n",
    "<center><img src=\"img/image28.png\" width=\"80%\"></center>"
   ]
  },
  {
   "cell_type": "markdown",
   "metadata": {
    "slideshow": {
     "slide_type": "slide"
    }
   },
   "source": [
    "# Functions\n",
    "\n",
    "* Declared with the function keyword\n",
    "\n",
    "```HTML\n",
    "<htm1>\n",
    "    <head>\n",
    "        <title>Click Me!</title>\n",
    "        <script type=\"text/javascript\">\n",
    "            function displayMessage() {\n",
    "                alert(\"Hello World!\");\n",
    "            }\n",
    "        </script>\n",
    "    </head>\n",
    "    <body>\n",
    "        <form>\n",
    "            <input type=\"button\" value=\"Click Me!\" onclick=\"displayMessage()\" />\n",
    "        </form>\n",
    "    </body>\n",
    "</html>\n",
    "```\n",
    "\n",
    "<center><img src=\"img/image29.png\"></center>"
   ]
  },
  {
   "cell_type": "markdown",
   "metadata": {
    "slideshow": {
     "slide_type": "slide"
    }
   },
   "source": [
    "# Functions\n",
    "\n",
    "* We can return a value from a function by using the **return** statement\n",
    "\n",
    "```HTML\n",
    "<html>\n",
    "<head>\n",
    "    <script>\n",
    "        function myFunction() {\n",
    "            return \"Hello World!\";\n",
    "        }\n",
    "    </script>\n",
    "</head>\n",
    "<body onLoad=\"alert(myFunction());\"> </body>\n",
    "</html>\n",
    "```\n",
    "<center><img src=\"img/image32.png\"></center>"
   ]
  },
  {
   "cell_type": "markdown",
   "metadata": {
    "slideshow": {
     "slide_type": "slide"
    }
   },
   "source": [
    "# Functions\n",
    "* May pass optional arguments to a function\n",
    "\n",
    "* We can access an arguments array that contains all the parameters passed to the function by the caller\n",
    "\n",
    "<center><img src=\"img/image33.png\"></center>"
   ]
  },
  {
   "cell_type": "markdown",
   "metadata": {
    "slideshow": {
     "slide_type": "slide"
    }
   },
   "source": [
    "# Functions\n",
    "\n",
    "* We can also use inner functions\n",
    "\n",
    "\n",
    "<center><img src=\"img/image34.png\"></center>"
   ]
  },
  {
   "cell_type": "markdown",
   "metadata": {
    "slideshow": {
     "slide_type": "slide"
    }
   },
   "source": [
    "# Functions\n",
    "\n",
    "* We can also use recursive functions\n",
    "\n",
    "<center><img src=\"img/image35.png\"></center>"
   ]
  },
  {
   "cell_type": "markdown",
   "metadata": {
    "slideshow": {
     "slide_type": "slide"
    }
   },
   "source": [
    "# HTML & JavaScript\n",
    "\n",
    "* **DOM – Document Object Model**\n",
    "    * Specifies all the parts of a web document that a browser can identify\n",
    "    \n",
    "    * We can access these components of the web document programmatically\n",
    "    \n",
    "    * Alter properties\n",
    "    \n",
    "    * Invoke methods\n",
    "    \n",
    "    * Add new elements\n",
    "    \n",
    "* **DOM** is a hierarchical tree type structure\n",
    "\n",
    "* The **web document** becomes a **set of objects** in the browser’s memory when the document is loaded\n",
    "\n",
    "* The **window object** is the highest level object"
   ]
  },
  {
   "cell_type": "markdown",
   "metadata": {
    "slideshow": {
     "slide_type": "slide"
    }
   },
   "source": [
    "# The `<script>` Tag\n",
    "    \n",
    "* If we want to reference an external script file we specify the `src` attribute\n",
    "\n",
    "* `<script type=\"text/javascript\" src=\"functions.js\"/>`\n",
    "\n",
    "* To use JavaScript in a HTML page we can:\n",
    "\n",
    "  * Use a `<script>` tag in the head\n",
    "  \n",
    "  * Use a `<script>` tag in the body\n",
    "  \n",
    "  * Inline with HTML as an event handler\n",
    "  \n",
    "  * In an external JavaScript file"
   ]
  },
  {
   "cell_type": "markdown",
   "metadata": {
    "slideshow": {
     "slide_type": "slide"
    }
   },
   "source": [
    "# The `<script>` Tag\n",
    "\n",
    "* **The `<script> ... </script>` Tag in the head**\n",
    "    * We can place any statements that need to be executed before the contents of the body load\n",
    "    \n",
    "    * We can also place user-defined functions in the head section\n",
    "    \n",
    "    * Global variables can also be placed in the head of the HTML document\n",
    "    \n",
    "* **The `<script> ... </script>` Tag in the body**\n",
    "\n",
    "    * We can place any statements that produce HTML content in the body"
   ]
  },
  {
   "cell_type": "markdown",
   "metadata": {
    "slideshow": {
     "slide_type": "slide"
    }
   },
   "source": [
    "# HTML and the DOM\n",
    "\n",
    "* **Document Object Model**\n",
    "    \n",
    "    * Tree-like data structure consisting of inter-connected **nodes**:\n",
    "    \n",
    "        * **document** node\n",
    "        \n",
    "        * **element** nodes\n",
    "        \n",
    "        * **text** nodes\n",
    "        \n",
    "        * **attribute** nodes, etc."
   ]
  },
  {
   "cell_type": "markdown",
   "metadata": {
    "slideshow": {
     "slide_type": "slide"
    }
   },
   "source": [
    "# HTML and the DOM\n",
    "\n",
    "```HTML\n",
    "<html>\n",
    "<head>\n",
    "    <title>The DOM</title>\n",
    "</head>\n",
    "<body>\n",
    "    <h1 id=\"top\">What is the DOM???</h1>\n",
    "    <p class=\"intro\">A tree-like data structure representing a document.</p>\n",
    "</body>\n",
    "</html>\n",
    "```\n",
    "\n",
    "* **Note:** DOM is not restricted to **HTML** only\n",
    "  "
   ]
  },
  {
   "cell_type": "markdown",
   "metadata": {
    "slideshow": {
     "slide_type": "slide"
    }
   },
   "source": [
    "# DOM & JavaScript\n",
    "\n",
    "* In the beginning, **JavaScript** and the **DOM** were tightly intertwined, but eventually they evolved into separateentities.\n",
    "\n",
    "* Thepage content is stored in DOM and may be accessed and manipulated via JavaScript, so that we may write thisapproximateequation:\n",
    "\n",
    "    * **API (web or XML page) = DOM + JS (scripting language)**"
   ]
  },
  {
   "cell_type": "markdown",
   "metadata": {
    "slideshow": {
     "slide_type": "slide"
    }
   },
   "source": [
    "# DOM & JavaScript\n",
    "\n",
    "* **Accessing Elements**\n",
    "\n",
    "    * `document.getElementById`\n",
    "    \n",
    "      * Will access any element by its unique id attribute value\n",
    "      \n",
    "      * Can only be called on the document node\n",
    "      \n",
    "    * `document.getElementByTagName`\n",
    "    \n",
    "      * Will return a collection of all elements with the supplied tag name value\n",
    "      \n",
    "      * Can be called from any element node\n",
    "      \n",
    "        * Will limit the scope to the descendants of the element node on which the method wascalled"
   ]
  },
  {
   "cell_type": "markdown",
   "metadata": {
    "slideshow": {
     "slide_type": "slide"
    }
   },
   "source": [
    "# DOM & JavaScript\n",
    "\n",
    "* **Accessing Elements**\n",
    "\n",
    "  * From a given node we can also use the following properties to access relatednodes\n",
    "    * `node.childNodes`\n",
    "    \n",
    "    * `node.firstChild`\n",
    "    \n",
    "    * `node.lastChild`\n",
    "    \n",
    "    * `node.parentNode`\n",
    "    \n",
    "    * `node.nextSibling`\n",
    "    \n",
    "    * `node.previousSibling`\n",
    "\n",
    "* **Note:** if any of these properties do not exist for a specific node they will have a value of _null_"
   ]
  },
  {
   "cell_type": "markdown",
   "metadata": {
    "slideshow": {
     "slide_type": "slide"
    }
   },
   "source": [
    "# DOM & JavaScript\n",
    "\n",
    "* **Creating Elements**\n",
    "\n",
    "    * `document.createElement`\n",
    "    \n",
    "      * Allows us to create new elements and returns a reference to the newly createdelement\n",
    "\n",
    "    * `document.createTextNode`\n",
    "    \n",
    "      * Text node is a child node of the element and must be created separately\n",
    "      \n",
    "      * We can access the content of an existing text node via the `nodeValue` property\n",
    "\n",
    "        * `var textContent=someTextNode.nodeValue`;"
   ]
  },
  {
   "cell_type": "markdown",
   "metadata": {
    "slideshow": {
     "slide_type": "slide"
    }
   },
   "source": [
    "# DOM & JavaScript\n",
    "\n",
    "* ***Creating Elements***\n",
    "    * `appendChild`\n",
    "    \n",
    "      * The `appendChild` method will insert an element node or a text node as the last child of an existing element\n",
    "      \n",
    "    * `insertBefore`\n",
    "    \n",
    "      * Insert the node before an existing node using the `insertBefore` method of the parent element\n",
    "      \n",
    "    * `replaceChild`\n",
    "    \n",
    "      * Replace a node using the `replaceChild` method of the parentelement"
   ]
  },
  {
   "cell_type": "markdown",
   "metadata": {
    "slideshow": {
     "slide_type": "slide"
    }
   },
   "source": [
    "# DOM & JavaScript\n",
    "\n",
    "* ***Removing Elements***\n",
    "    * `removeChild`\n",
    "      * Removes any child node from its parent and returns a reference to the removed object\n",
    "      * Reference exists outside theDOM\n",
    "      \n",
    "  * ***Reading/Writing Attributes***\n",
    "    * `getAttribute`\n",
    "      * Allows us to read the value of anattribute\n",
    "    * `setAttribute`\n",
    "      * Allows us to write the value of anattribute"
   ]
  }
 ],
 "metadata": {
  "celltoolbar": "Slideshow",
  "hide_code_all_hidden": true,
  "kernelspec": {
   "display_name": "Python 3",
   "language": "python",
   "name": "python3"
  },
  "language_info": {
   "codemirror_mode": {
    "name": "ipython",
    "version": 3
   },
   "file_extension": ".py",
   "mimetype": "text/x-python",
   "name": "python",
   "nbconvert_exporter": "python",
   "pygments_lexer": "ipython3",
   "version": "3.7.4"
  },
  "rise": {
   "autolaunch": true,
   "backgroundTransition": "slide",
   "controls": true,
   "enable_chalkboard": true,
   "overlay": "<div class='line top'></div><div class='line bottom'></div><div class='line left'></div><div class='line right'></div><div class='logo'><img src='../binder/logo.png'/></div>",
   "showSlideNumber": "speaker",
   "slideNumber": true,
   "theme": "simple",
   "transition": "slide"
  }
 },
 "nbformat": 4,
 "nbformat_minor": 2
}
