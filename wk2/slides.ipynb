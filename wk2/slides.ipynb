{
 "cells": [
  {
   "cell_type": "code",
   "execution_count": 15,
   "metadata": {
    "slideshow": {
     "slide_type": "skip"
    }
   },
   "outputs": [
    {
     "data": {
      "text/html": [
       "<style type=\"text/css\">\n",
       ".CodeMirror {width: 100vw}\n",
       ".container {width: 85% !important}\n",
       ".rendered_html {font-size:0.8em}\n",
       ".rendered_html table, .rendered_html th, .rendered_html tr, .rendered_html td {font-size: 100%}\n",
       "table td, table th {\n",
       "border: 1px  black solid !important;\n",
       "color: black !important;\n",
       "background-color: white;\n",
       "font-size:2.4em;\n",
       "}\n",
       "</style>\n"
      ],
      "text/plain": [
       "<IPython.core.display.HTML object>"
      ]
     },
     "metadata": {},
     "output_type": "display_data"
    }
   ],
   "source": [
    "%%HTML\n",
    "<style type=\"text/css\">\n",
    ".CodeMirror {width: 100vw}\n",
    ".container {width: 85% !important}\n",
    ".rendered_html {font-size:0.8em}\n",
    ".rendered_html table, .rendered_html th, .rendered_html tr, .rendered_html td {font-size: 100%}\n",
    "table td, table th {\n",
    "border: 1px  black solid !important;\n",
    "color: black !important;\n",
    "background-color: white;\n",
    "font-size:2.4em;\n",
    "}\n",
    "</style>"
   ]
  },
  {
   "cell_type": "markdown",
   "metadata": {
    "slideshow": {
     "slide_type": "slide"
    }
   },
   "source": [
    "# eXtensible Markup Language <img src=\"https://img.icons8.com/material/spiderman-head/80\" style=\"display:inline-block;vertical-align:middle;\">"
   ]
  },
  {
   "cell_type": "markdown",
   "metadata": {
    "slideshow": {
     "slide_type": ""
    }
   },
   "source": [
    "* Press `Space` to navigate through the slides\n",
    "* Use `Shift+Space` to go back"
   ]
  },
  {
   "cell_type": "markdown",
   "metadata": {
    "slideshow": {
     "slide_type": "slide"
    }
   },
   "source": [
    "# XML Technologies <img src=\"https://img.icons8.com/ios/placeholder-thumbnail-xml/80\" style=\"display:inline-block;vertical-align:middle;\">"
   ]
  },
  {
   "cell_type": "markdown",
   "metadata": {
    "slideshow": {
     "slide_type": "fragment"
    }
   },
   "source": [
    "* **Presentation**\n",
    "   * **Cascading Style Sheets (CSS)**\n",
    "   * **eXtensible Stylesheet Language (XSL)**\n",
    "   * **XPath**, XQuery"
   ]
  },
  {
   "cell_type": "markdown",
   "metadata": {
    "slideshow": {
     "slide_type": "fragment"
    }
   },
   "source": [
    "* **Structure**\n",
    "   * **XML Schema**, RelaxNG, RDF Schema\n",
    "   * **Document Type Definition (DTD)**"
   ]
  },
  {
   "cell_type": "markdown",
   "metadata": {
    "slideshow": {
     "slide_type": "fragment"
    }
   },
   "source": [
    "* **Syntax**\n",
    "   * **XML Namespaces**\n",
    "   * **XML 1.0**"
   ]
  },
  {
   "cell_type": "markdown",
   "metadata": {
    "slideshow": {
     "slide_type": "slide"
    }
   },
   "source": [
    "# XML Constructs <img src=\"https://img.icons8.com/ios/road-worker/80\" style=\"display:inline-block;vertical-align:middle;\">\n",
    " * Markup and Content\n",
    " * XML declaration\n",
    " * Tags\n",
    " * Elements\n",
    " * Attributes\n",
    " * Entities\n",
    " * Character data\n",
    " * Processing instructions\n",
    " * Comments\n",
    " * Parser\n",
    " * DTD"
   ]
  },
  {
   "cell_type": "markdown",
   "metadata": {
    "slideshow": {
     "slide_type": "slide"
    }
   },
   "source": [
    "# Markup and Content <img src=\"https://img.icons8.com/ios/content/80\" style=\"display:inline-block;vertical-align:middle;\">\n",
    " * The characters making up an XML document are divided into markup and content, which may be distinguished by the application of simple syntactic rules\n",
    " * Generally, strings that constitute markup either begin with the character `<` and end with a `>`, or they begin with the character `&` and end with a `;`"
   ]
  },
  {
   "cell_type": "markdown",
   "metadata": {
    "slideshow": {
     "slide_type": "slide"
    }
   },
   "source": [
    "# XML declaration <img src=\"https://img.icons8.com/ios/person-in-a-mirror/80\" style=\"display:inline-block;vertical-align:middle;\">\n",
    " * XML documents may begin with an XML declaration that describes some information about themselves\n",
    " * An example is: `<?xml version=\"1.0\" encoding=\"UTF-8\" standalone=\"yes\"?>`<br/><br/>"
   ]
  },
  {
   "cell_type": "markdown",
   "metadata": {
    "slideshow": {
     "slide_type": "fragment"
    }
   },
   "source": [
    " * **encoding**\n",
    "     * UTF-8 includes encodings for most of the worlds common alphabets\n",
    " * **standalone**\n",
    "     * Determines if the document contains external entities such as Document Type Definition (DTD)\n",
    "     * `standalone=\"yes\"` means that the XML processor must use the DTD for validation only and will not be used for:\n",
    "       * default values for attributes\n",
    "       * entity declarations, etc."
   ]
  },
  {
   "cell_type": "markdown",
   "metadata": {
    "slideshow": {
     "slide_type": "slide"
    }
   },
   "source": [
    "# Tag <img src=\"https://img.icons8.com/ios/placeholder-thumbnail-xml/80\" style=\"display:inline-block;vertical-align:middle;\">\n",
    " * A tag is a markup construct that begins with `<` and ends with `>`. Tags come in three flavors:\n",
    "   * start-tag, such as `<section>`\n",
    "   * end-tag, such as `</section>`\n",
    "   * empty-element tag, such as `<line-break />`"
   ]
  },
  {
   "cell_type": "markdown",
   "metadata": {
    "slideshow": {
     "slide_type": "slide"
    }
   },
   "source": [
    "# Element <img src=\"https://img.icons8.com/ios/text-box/80\" style=\"display:inline-block;vertical-align:middle;\">\n",
    " * An element is a logical document component that either begins with a start-tag and ends with a matching end-tag or consists only of an empty-element tag.\n",
    " * The characters between the start-tag and end-tag, if any, are the element's content, and may contain markup, including other elements, which are called child elements.\n",
    " * An example is:\n",
    "   ```XML\n",
    "   <greeting>Hello, world!</greeting>\n",
    "   <line-break />\n",
    "   ```\n",
    " *  Four different content types:\n",
    "    * Data content: `<module>Interactive Web Applications</module>`\n",
    "    * Element content: `<lecturer id=‘20191234’ />`\n",
    "    * Mixed content: `<text> this is <bold> bold </bold> text </text>`\n",
    "    * Empty: `<paragraph/>`"
   ]
  },
  {
   "cell_type": "markdown",
   "metadata": {
    "slideshow": {
     "slide_type": "slide"
    }
   },
   "source": [
    "# Attribute <img src=\"https://img.icons8.com/ios/text-color/80\" style=\"display:inline-block;vertical-align:middle;\">\n",
    " * An attribute is a markup construct consisting of a name–value pair that exists within a start-tag or empty-element tag.\n",
    " * An example is `<img src=\"u2.jpg\" alt=\"U2\" />`, where the names of the attributes are \"src\" and \"alt\", and their values are \"u2.jpg\" and \"U2\" respectively.\n",
    " * Another example is `<step number=\"3\">Connect A to B.</step>`, where the name of the attribute is \"number\" and its value is \"3\".\n",
    " * An XML attribute can only have a single value and each attribute can appear at most once on each element.\n",
    " * The order of attributes is insignificant: `<doc type=\"book\" asin=\"B0093SZ14U\">`"
   ]
  },
  {
   "cell_type": "markdown",
   "metadata": {
    "slideshow": {
     "slide_type": "subslide"
    }
   },
   "source": [
    "# Element vs. Attribute <img src=\"https://img.icons8.com/ios/batman-old/80\" style=\"display:inline-block;vertical-align:middle;\"><img src=\"https://img.icons8.com/ios/superman/80\" style=\"display:inline-block;vertical-align:middle;\">\n",
    "\n",
    "|Element|Attribute\n",
    "|:-:|:-:\n",
    "|Constituent data|Inherent data\n",
    "|Used for content|Used for meta-data\n",
    "|White space can be ignored or preserved|No further nesting possible (atomic data)\n",
    "|Nesting allowed (child elements)|Default values\n",
    "|Convenient for large values, or binary entities|Minimal datatypes"
   ]
  },
  {
   "cell_type": "markdown",
   "metadata": {
    "slideshow": {
     "slide_type": "slide"
    }
   },
   "source": [
    "# Entities <img src=\"https://img.icons8.com/ios/iron-man/80\" style=\"display:inline-block;vertical-align:middle;\">\n",
    " * Storage units for repeated text (must be defined in DTD)\n",
    " * Character entities are used to insert characters that cannot be typed directly\n",
    " * XML contains a number of 'built-in' entities\n",
    " * Remember your faviourite **escape characters** used in HTML and JavaScript?"
   ]
  },
  {
   "cell_type": "code",
   "execution_count": 72,
   "metadata": {
    "scrolled": true,
    "slideshow": {
     "slide_type": "subslide"
    }
   },
   "outputs": [
    {
     "data": {
      "text/html": [
       "\n",
       "        <iframe\n",
       "            width=\"100%\"\n",
       "            height=\"600px\"\n",
       "            src=\"https://dev.w3.org/html5/html-author/charref\"\n",
       "            frameborder=\"0\"\n",
       "            allowfullscreen\n",
       "        ></iframe>\n",
       "        "
      ],
      "text/plain": [
       "<IPython.lib.display.IFrame at 0x10cf25b00>"
      ]
     },
     "execution_count": 72,
     "metadata": {},
     "output_type": "execute_result"
    }
   ],
   "source": [
    "from IPython.display import IFrame\n",
    "IFrame(src='https://dev.w3.org/html5/html-author/charref', width=\"100%\", height=\"600px\")"
   ]
  },
  {
   "cell_type": "markdown",
   "metadata": {
    "slideshow": {
     "slide_type": "slide"
    }
   },
   "source": [
    "# CDATA <img src=\"https://img.icons8.com/material/spiderman-head/80\" style=\"display:inline-block;vertical-align:middle;\">\n",
    "* Character data is classified as markup and indicates that a certain portion of the document is general character data and is classified as content.\n",
    "   * Starts with `<![CDATA[` and ends with `]]>`:<br/>\n",
    "     `<![CDATA[<sender>John Smith</sender>]]>`<br/>is identical to<br/>`&lt;sender&gt;John Smith&lt;/sender&gt;`\n",
    "   * In case you don't want to **encapsulate** through the use of **entities**     "
   ]
  },
  {
   "cell_type": "markdown",
   "metadata": {
    "slideshow": {
     "slide_type": "slide"
    }
   },
   "source": [
    "# Processing Instructions <img src=\"https://img.icons8.com/user-manual/80\" style=\"display:inline-block;vertical-align:middle;\">\n",
    " * Pass additional information to application (e.g. parser)\n",
    " * Application-specific instructions\n",
    " * Consists of a PI Target and PI Value\n",
    " * Processed by applications that recognise the PI Target<br/>\n",
    " `<?xml-stylesheet type='text/css' href='style.css'?>`<br/>\n",
    " `<?xml-stylesheet type='text/xsl' href='style.xsl'?>`<br/>\n",
    " `<?myapp filename='test.txt'?>`"
   ]
  },
  {
   "cell_type": "markdown",
   "metadata": {
    "slideshow": {
     "slide_type": "slide"
    }
   },
   "source": [
    "# Comments <img src=\"https://img.icons8.com/comments/80\" style=\"display:inline-block;vertical-align:middle;\">\n",
    " * Used to comment XML documents\n",
    " * Not considered to be part of an XML document\n",
    " * An XML parser is not required to pass comments to higher-level applications\n",
    " \n",
    "   `<!–- one-line comment -->`<br/><br/>\n",
    "   `<!--\n",
    "    This is a\n",
    "    multi-line comment\n",
    "    -->`"
   ]
  },
  {
   "cell_type": "markdown",
   "metadata": {
    "slideshow": {
     "slide_type": "slide"
    }
   },
   "source": [
    "# XML Parser <img src=\"https://img.icons8.com/ios/cooker/80\" style=\"display:inline-block;vertical-align:middle;\">\n",
    " * A parser is a piece of program that takes a physical representation of some data and converts it into an in-memory form for the program as a whole to use\n",
    " * Parsers are used everywhere in software\n",
    " * An XML Parser is a parser that is designed to read XML and create a way for programs to use XML"
   ]
  },
  {
   "cell_type": "markdown",
   "metadata": {
    "slideshow": {
     "slide_type": "slide"
    }
   },
   "source": [
    "# Document Type Declaration <img src=\"https://img.icons8.com/material/check-document/80\" style=\"display:inline-block;vertical-align:middle;\">\n",
    "* A DTD defines the valid building blocks of an XML document. It defines the document structure with a list of validated elements and attributes\n",
    "* A DTD can be declared inline inside an XML document or as an external reference:\n",
    "  * Internal/Embedded DTD\n",
    "  * External DTD\n",
    "* XML Schema superseeded DTD\n"
   ]
  },
  {
   "cell_type": "markdown",
   "metadata": {
    "slideshow": {
     "slide_type": "slide"
    }
   },
   "source": [
    "# DTD Example <img src=\"https://img.icons8.com/material/example/80\" style=\"display:inline-block;vertical-align:middle;\">"
   ]
  },
  {
   "cell_type": "markdown",
   "metadata": {
    "cell_style": "split",
    "slideshow": {
     "slide_type": "fragment"
    }
   },
   "source": [
    "```XML\n",
    "<?xml version=\"1.0\" encoding=\"UTF-8\"?>\n",
    "<!DOCTYPE note SYSTEM \"Note.dtd\">\n",
    "<note>\n",
    "  <to>Tove</to>\n",
    "  <from>Jani</from>\n",
    "  <heading>Reminder</heading>\n",
    "  <body>Don't forget me this weekend!</body>\n",
    "</note>\n",
    "```"
   ]
  },
  {
   "cell_type": "markdown",
   "metadata": {
    "cell_style": "split",
    "slideshow": {
     "slide_type": "fragment"
    }
   },
   "source": [
    "```DTD\n",
    "<!DOCTYPE note\n",
    "[\n",
    "<!ELEMENT note (to,from,heading,body)>\n",
    "<!ELEMENT to (#PCDATA)>\n",
    "<!ELEMENT from (#PCDATA)>\n",
    "<!ELEMENT heading (#PCDATA)>\n",
    "<!ELEMENT body (#PCDATA)>\n",
    "]>\n",
    "```"
   ]
  },
  {
   "cell_type": "markdown",
   "metadata": {
    "slideshow": {
     "slide_type": "slide"
    }
   },
   "source": [
    "# Well-formed XML <img src=\"https://img.icons8.com/material/xml-file/80\" style=\"display:inline-block;vertical-align:middle;\">\n",
    "* XML Declaration required\n",
    "* At least one element\n",
    "  * Exactly one root element\n",
    "* Empty elements are written in one of two ways:\n",
    "  * Closing tag `<br></br>`\n",
    "  * Special start tag `<br />`\n",
    "* For non-empty elements, closing tags are required\n",
    "* Start tag must match closing tag (name & case)\n",
    "* Correct nesting of elements\n",
    "* Attribute values must always be quoted"
   ]
  },
  {
   "cell_type": "markdown",
   "metadata": {
    "slideshow": {
     "slide_type": "slide"
    }
   },
   "source": [
    "# What are XML Namespaces? <img src=\"https://img.icons8.com/name/80\" style=\"display:inline-block;vertical-align:middle;\">\n",
    " * W3C recommendation (January 1999)\n",
    " * Each XML vocabulary is considered to own a namespace in which all elements (and attributes) are unique\n",
    " * A single document can use elements and attributes from multiple namespaces\n",
    "  * A prefix is declared for each namespace used within a document.\n",
    "  * The namespace is identified using a URI (Uniform Resource Identifier)\n",
    " * An element or attribute can be associated with a namespace by placing the namespace prefix before its name (i.e. 'prefix:name')\n",
    "  * Elements (and attributes) belonging to the default namespace do not require a prefix"
   ]
  },
  {
   "cell_type": "markdown",
   "metadata": {
    "slideshow": {
     "slide_type": "slide"
    }
   },
   "source": [
    "# Why Namespaces? <img src=\"https://img.icons8.com/name-tag/80\" style=\"display:inline-block;vertical-align:middle;\">\n",
    " * Important for creating XML documents containing different types of data\n",
    " * An XML document can be assembled using elements (and attributes) from different XML vocabularies\n",
    " * Must be able to:\n",
    "  * avoid conflicts between names\n",
    "  * identify the vocabulary an element belongs to<br/><br/>\n",
    " * We implement namespaces by attaching prefixes to elements and attributes:\n",
    "  * `<product:description></product:description>`\n",
    "    * `product` is the prefix\n",
    "    * `description` is the local part\n",
    "    * `prefix` + `local part` = `qualified name`"
   ]
  },
  {
   "cell_type": "markdown",
   "metadata": {
    "slideshow": {
     "slide_type": "slide"
    }
   },
   "source": [
    "# Namespaces Example <img src=\"https://img.icons8.com/material/example/80\" style=\"display:inline-block;vertical-align:middle;\">\n",
    "```XML\n",
    "<root>\n",
    "    <htm:table xmlns:htm=\"http://www.crazyfurniture.com/co/html\">\n",
    "        <htm:tr>\n",
    "            <htm:td>Crazy Furniture Ltd.</htm:td>\n",
    "            <htm:td>Insanely Expensive</htm:td>\n",
    "        </htm:tr>\n",
    "    </htm:table>\n",
    "    <furn:table xmlns:furn=\"http://www.crazyfurniture.com/co/furniture\">\n",
    "        <furn:type>Coffee</furn:type>\n",
    "        <furn:material>Plastic</furn:material>\n",
    "        <furn:price ccy=\"EUR\">17865.99</furn:price>\n",
    "    </furn:table>\n",
    "</root>\n",
    "```"
   ]
  },
  {
   "cell_type": "markdown",
   "metadata": {
    "slideshow": {
     "slide_type": "subslide"
    }
   },
   "source": [
    "# Namespaces Example <img src=\"https://img.icons8.com/material/example/80\" style=\"display:inline-block;vertical-align:middle;\">\n",
    "\n",
    "Namespaces can reside can be declared in the root element instead:\n",
    "\n",
    "```XML\n",
    "<root xmlns:htm=\"http://www.crazyfurniture.com/co/html\" xmlns:furn=\"http://www.crazyfurniture.com/co/furniture\">\n",
    "    <htm:table xmlns:htm=\"http://www.crazyfurniture.com/co/html\">\n",
    "        <htm:tr>\n",
    "            <htm:td>Crazy Furniture Ltd.</htm:td>\n",
    "            <htm:td>Insanely Expensive</htm:td>\n",
    "        </htm:tr>\n",
    "    </htm:table>\n",
    "    <furn:table xmlns:furn=\"http://www.crazyfurniture.com/co/furniture\">\n",
    "        <furn:type>Coffee</furn:type>\n",
    "        <furn:material>Plastic</furn:material>\n",
    "        <furn:price ccy=\"EUR\">17865.99</furn:price>\n",
    "    </furn:table>\n",
    "</root>\n",
    "```"
   ]
  },
  {
   "cell_type": "markdown",
   "metadata": {
    "cell_style": "center",
    "slideshow": {
     "slide_type": "slide"
    }
   },
   "source": [
    "# Tutotial\n",
    "* Create your own XML file that can store the following information:\n",
    "\n",
    "```\n",
    "Jones, Fred\n",
    "    home: (512) 555-3301\n",
    "    work: (512) 555-2212\n",
    "Reynolds, Biff\n",
    "    home: (512) 555-2222\n",
    "    Birthday: July 31st\n",
    "Smith, Bill\n",
    "    home: (512) 555-2323\n",
    "    cell: (512) 555-2231\n",
    "    Contractor\n",
    "```"
   ]
  },
  {
   "cell_type": "markdown",
   "metadata": {
    "cell_style": "split",
    "slideshow": {
     "slide_type": "slide"
    }
   },
   "source": [
    "* Please assemble your file in the next cell\n",
    "* The following line **must be** your first line: `%%writefile tut1.xml` in order to create the file\n",
    "* Put in your XML 1.0 declaration\n",
    "* Add `<?xml-stylesheet href=\"tut1.css\"?>` as well, as you will be creating styling for your file too\n",
    "* Add all necessary elements and content\n",
    "* When finished, press `Shift` + `Enter` to run your code and save `tut1.xml` file\n",
    "* Go to the next cell (slide) and press `Shift` + `Enter` to see your final file"
   ]
  },
  {
   "cell_type": "code",
   "execution_count": 65,
   "metadata": {
    "cell_style": "split",
    "slideshow": {
     "slide_type": "-"
    }
   },
   "outputs": [
    {
     "name": "stdout",
     "output_type": "stream",
     "text": [
      "Overwriting tut1.xml\n"
     ]
    }
   ],
   "source": [
    "%%writefile tut1.xml\n",
    "\n",
    "Jones, Fred\n",
    "    home: (512) 555-3301\n",
    "    work: (512) 555-2212\n",
    "Reynolds, Biff\n",
    "    home: (512) 555-2222\n",
    "    Birthday: July 31st\n",
    "Smith, Bill\n",
    "    home: (512) 555-2323\n",
    "    cell: (512) 555-2231\n",
    "    Contractor"
   ]
  },
  {
   "cell_type": "markdown",
   "metadata": {
    "slideshow": {
     "slide_type": "slide"
    }
   },
   "source": [
    "# Your resulting XML file"
   ]
  },
  {
   "cell_type": "code",
   "execution_count": 67,
   "metadata": {
    "slideshow": {
     "slide_type": "-"
    }
   },
   "outputs": [
    {
     "data": {
      "text/html": [
       "\n",
       "        <iframe\n",
       "            width=\"100%\"\n",
       "            height=\"200px\"\n",
       "            src=\"tut1.xml\"\n",
       "            frameborder=\"0\"\n",
       "            allowfullscreen\n",
       "        ></iframe>\n",
       "        "
      ],
      "text/plain": [
       "<IPython.lib.display.IFrame at 0x10cf875f8>"
      ]
     },
     "execution_count": 67,
     "metadata": {},
     "output_type": "execute_result"
    }
   ],
   "source": [
    "from IPython.display import IFrame\n",
    "IFrame(src='tut1.xml', width=\"100%\", height=\"200px\")"
   ]
  },
  {
   "cell_type": "markdown",
   "metadata": {
    "cell_style": "split",
    "slideshow": {
     "slide_type": "subslide"
    }
   },
   "source": [
    "* Now let's create CSS for your file to highlight certain elements within your `tut1.xml` file\n",
    "* Please assemble your file in the next cell (slide)\n",
    "* The following line **must be** your first line: `%%writefile tut1.css` in order to create the file\n",
    "* Write your styling based on the elements you created in `tut1.xml` file\n",
    "* Use `display:block` to make elements appear on separate lines\n",
    "* When finished, press `Shift` + `Enter` to run your code and save `tut1.xml` file\n",
    "* Go to the next cell and press `Shift` + `Enter` to see your final file"
   ]
  },
  {
   "cell_type": "code",
   "execution_count": 70,
   "metadata": {
    "cell_style": "split"
   },
   "outputs": [
    {
     "name": "stdout",
     "output_type": "stream",
     "text": [
      "Overwriting tut1.css\n"
     ]
    }
   ],
   "source": [
    "%%writefile tut1.css\n",
    "// Your CSS code goes in here"
   ]
  },
  {
   "cell_type": "code",
   "execution_count": 71,
   "metadata": {
    "slideshow": {
     "slide_type": "slide"
    }
   },
   "outputs": [
    {
     "data": {
      "text/html": [
       "\n",
       "        <iframe\n",
       "            width=\"100%\"\n",
       "            height=\"200px\"\n",
       "            src=\"tut1.css\"\n",
       "            frameborder=\"0\"\n",
       "            allowfullscreen\n",
       "        ></iframe>\n",
       "        "
      ],
      "text/plain": [
       "<IPython.lib.display.IFrame at 0x10cf25588>"
      ]
     },
     "execution_count": 71,
     "metadata": {},
     "output_type": "execute_result"
    }
   ],
   "source": [
    "from IPython.display import IFrame\n",
    "IFrame(src='tut1.css', width=\"100%\", height=\"200px\")"
   ]
  },
  {
   "cell_type": "markdown",
   "metadata": {
    "slideshow": {
     "slide_type": "slide"
    }
   },
   "source": [
    "If you did everything correctly, then run the next slide (cell) with `Shift` + `Enter` to see the beautiful work you created!"
   ]
  },
  {
   "cell_type": "code",
   "execution_count": 61,
   "metadata": {},
   "outputs": [
    {
     "data": {
      "text/html": [
       "\n",
       "        <iframe\n",
       "            width=\"100%\"\n",
       "            height=\"600px\"\n",
       "            src=\"tut1.xml\"\n",
       "            frameborder=\"0\"\n",
       "            allowfullscreen\n",
       "        ></iframe>\n",
       "        "
      ],
      "text/plain": [
       "<IPython.lib.display.IFrame at 0x10d05da20>"
      ]
     },
     "execution_count": 61,
     "metadata": {},
     "output_type": "execute_result"
    }
   ],
   "source": [
    "from IPython.display import IFrame\n",
    "IFrame(src='tut1.xml', width=\"100%\", height=\"600px\")"
   ]
  },
  {
   "cell_type": "markdown",
   "metadata": {
    "slideshow": {
     "slide_type": "slide"
    }
   },
   "source": [
    "<img src=\"https://media.giphy.com/media/mGK1g88HZRa2FlKGbz/giphy.gif\" width=\"100%\" height=\"100%\">"
   ]
  }
 ],
 "metadata": {
  "celltoolbar": "Slideshow",
  "kernelspec": {
   "display_name": "Python 3",
   "language": "python",
   "name": "python3"
  },
  "language_info": {
   "codemirror_mode": {
    "name": "ipython",
    "version": 3
   },
   "file_extension": ".py",
   "mimetype": "text/x-python",
   "name": "python",
   "nbconvert_exporter": "python",
   "pygments_lexer": "ipython3",
   "version": "3.7.4"
  },
  "rise": {
   "autolaunch": true,
   "backgroundTransition": "slide",
   "controls": true,
   "enable_chalkboard": true,
   "overlay": "<div class='line top'></div><div class='line bottom'></div><div class='line left'></div><div class='line right'></div>",
   "showSlideNumber": "speaker",
   "slideNumber": true,
   "theme": "white",
   "transition": "slide"
  }
 },
 "nbformat": 4,
 "nbformat_minor": 2
}
