{
 "cells": [
  {
   "cell_type": "code",
   "execution_count": 1,
   "metadata": {
    "hideCode": false,
    "hideOutput": true,
    "hidePrompt": false,
    "init_cell": true,
    "slideshow": {
     "slide_type": "skip"
    }
   },
   "outputs": [
    {
     "data": {
      "text/html": [
       "<style type=\"text/css\">\n",
       ".CodeMirror {width: 100vw}\n",
       ".container {width: 90% !important}\n",
       ".rendered_html {font-size:0.8em}\n",
       ".rendered_html table, .rendered_html th, .rendered_html tr, .rendered_html td {font-size: 90%}\n",
       "table td, table th {\n",
       "border: 1px  black solid !important;\n",
       "color: black !important;\n",
       "background-color: white;\n",
       "font-size:2.4em;\n",
       "}\n",
       "hr {\n",
       "    border: 0;\n",
       "    height: 1px;\n",
       "    background: #333;\n",
       "    background-image: linear-gradient(to right, #ccc, #333, #ccc);}\n",
       ".prompt{display:none}\n",
       ".prompt_container{width: 0px; min-width: 0px; visibility: collapse}\n",
       ".output_prompt{width: 0px; min-width: 0px; visibility: collapse}\n",
       ".output_result{width: 100%; height:100%}\n",
       "</style>\n"
      ],
      "text/plain": [
       "<IPython.core.display.HTML object>"
      ]
     },
     "metadata": {},
     "output_type": "display_data"
    }
   ],
   "source": [
    "%%HTML\n",
    "<style type=\"text/css\">\n",
    ".CodeMirror {width: 100vw}\n",
    ".container {width: 90% !important}\n",
    ".rendered_html {font-size:0.8em}\n",
    ".rendered_html table, .rendered_html th, .rendered_html tr, .rendered_html td {font-size: 90%}\n",
    "table td, table th {\n",
    "border: 1px  black solid !important;\n",
    "color: black !important;\n",
    "background-color: white;\n",
    "font-size:2.4em;\n",
    "}\n",
    "hr {\n",
    "    border: 0;\n",
    "    height: 1px;\n",
    "    background: #333;\n",
    "    background-image: linear-gradient(to right, #ccc, #333, #ccc);}\n",
    ".prompt{display:none}\n",
    ".prompt_container{width: 0px; min-width: 0px; visibility: collapse}\n",
    ".output_prompt{width: 0px; min-width: 0px; visibility: collapse}\n",
    ".output_result{width: 100%; height:100%}\n",
    "</style>"
   ]
  },
  {
   "cell_type": "markdown",
   "metadata": {
    "slideshow": {
     "slide_type": "slide"
    }
   },
   "source": [
    "# XSL Tutorial <img src=\"https://img.icons8.com/e-learning/80\" style=\"display:inline-block;vertical-align:middle;\">\n",
    "\n",
    "*   Open the following link **<a href=\"http://videlibri.sourceforge.net/cgi-bin/xidelcgi?&data=%3C%3Fxml%20version%3D%221.0%22%20%3F%3E%0A%3C%3Fxml-stylesheet%20href%3D%22timetable.xsl%22%20type%3D%22text%2Fxsl%22%3F%3E%0A%3Ctimetable%3E%0A%09%3Cmodule%3E%0A%09%09%3Cname%3EWeb%20App%20Dev%3C%2Fname%3E%0A%09%09%3Cfaculty%3E%0A%09%09%09%3Clecturer%3EFS%3C%2Flecturer%3E%0A%09%09%09%3ClabAssist%20id%3D%221%22%3ESC%3C%2FlabAssist%3E%0A%09%09%09%3ClabAssist%20id%3D%222%22%3EEMcL%3C%2FlabAssist%3E%0A%09%09%3C%2Ffaculty%3E%0A%09%09%3Cclasses%3E%0A%09%09%09%3Clecture%20id%3D%221%22%3E%0A%09%09%09%09%3Cday%3EMon%3C%2Fday%3E%0A%09%09%09%09%3Ctime%3E9am-11am%3C%2Ftime%3E%0A%09%09%09%09%3Croom%20type%3D%22computerLab%22%3ESCR2%3C%2Froom%3E%0A%09%09%09%3C%2Flecture%3E%0A%09%09%09%3Clecture%20id%3D%222%22%3E%0A%09%09%09%09%3Cday%3EThurs%3C%2Fday%3E%0A%09%09%09%09%3Ctime%3E2pm%20-%204pm%3C%2Ftime%3E%0A%09%09%09%09%3Croom%20type%3D%22computerLab%22%3ESCR1%3C%2Froom%3E%0A%09%09%09%3C%2Flecture%3E%0A%09%09%09%3Clab%3E%0A%09%09%09%09%3Cday%3EFri%3C%2Fday%3E%0A%09%09%09%09%3Ctime%3E1pm%20-%203pm%3C%2Ftime%3E%0A%09%09%09%09%3Croom%20type%3D%22computerLab%22%3ESCR2%3C%2Froom%3E%0A%09%09%09%3C%2Flab%3E%0A%09%09%3C%2Fclasses%3E%0A%09%3C%2Fmodule%3E%0A%09%3Cmodule%3E%0A%09%09%3Cname%3EIntro.%20to%20DB%3C%2Fname%3E%0A%09%09%3Cfaculty%3E%0A%09%09%09%3Clecturer%3EPH%3C%2Flecturer%3E%0A%09%09%3C%2Ffaculty%3E%0A%09%09%3Cexam%2F%3E%0A%09%09%3Cclasses%3E%0A%09%09%09%3Clecture%3E%0A%09%09%09%09%3Cday%3EMon%3C%2Fday%3E%0A%09%09%09%09%3Ctime%3E11am-1pm%3C%2Ftime%3E%0A%09%09%09%09%3Croom%20type%3D%22computerLab%22%3ESCR1%3C%2Froom%3E%0A%09%09%09%3C%2Flecture%3E%0A%09%09%09%3Clab%3E%0A%09%09%09%09%3Cday%3EThurs%3C%2Fday%3E%0A%09%09%09%09%3Ctime%3E4pm%20-%205pm%3C%2Ftime%3E%0A%09%09%09%09%3Croom%20type%3D%22computerLab%22%3ESCR1%3C%2Froom%3E%0A%09%09%09%3C%2Flab%3E%0A%09%09%3C%2Fclasses%3E%0A%09%3C%2Fmodule%3E%0A%09%3Cmodule%3E%0A%09%09%3Cname%3EIT%20Proj%20Mgt%3C%2Fname%3E%0A%09%09%3Cfaculty%3E%0A%09%09%09%3Clecturer%3EEO'L%3C%2Flecturer%3E%0A%09%09%3C%2Ffaculty%3E%0A%09%09%3Cexam%2F%3E%0A%09%09%3Cclasses%3E%0A%09%09%09%3Clecture%3E%0A%09%09%09%09%3Cday%3EMon%3C%2Fday%3E%0A%09%09%09%09%3Ctime%3E3pm%20-%205pm%3C%2Ftime%3E%0A%09%09%09%09%3Croom%20type%3D%22computerLab%22%3ESCR2%3C%2Froom%3E%0A%09%09%09%3C%2Flecture%3E%0A%09%09%09%3Clab%3E%0A%09%09%09%09%3Cday%3EFri%3C%2Fday%3E%0A%09%09%09%09%3Ctime%3E11am%20-%2012pm%3C%2Ftime%3E%0A%09%09%09%09%3Croom%20type%3D%22computerLab%22%3ESCR1%3C%2Froom%3E%0A%09%09%09%3C%2Flab%3E%0A%09%09%3C%2Fclasses%3E%0A%09%3C%2Fmodule%3E%0A%09%3Cmodule%3E%0A%09%09%3Cname%3EFund%20Bus%20Anal%3C%2Fname%3E%0A%09%09%3Cfaculty%3E%0A%09%09%09%3Clecturer%3EDB%3C%2Flecturer%3E%0A%09%09%3C%2Ffaculty%3E%0A%09%09%3Cexam%2F%3E%0A%09%09%3Cclasses%3E%0A%09%09%09%3Clecture%3E%0A%09%09%09%09%3Cday%3ETues%3C%2Fday%3E%0A%09%09%09%09%3Ctime%3E1pm%20-%203pm%3C%2Ftime%3E%0A%09%09%09%09%3Croom%20type%3D%22computerLab%22%3ESCR1%3C%2Froom%3E%0A%09%09%09%3C%2Flecture%3E%0A%09%09%09%3Clab%3E%0A%09%09%09%09%3Cday%3EThurs%3C%2Fday%3E%0A%09%09%09%09%3Ctime%3E12pm%20-%201pm%3C%2Ftime%3E%0A%09%09%09%09%3Croom%20type%3D%22classroom%22%3E1.01%3C%2Froom%3E%0A%09%09%09%3C%2Flab%3E%0A%09%09%3C%2Fclasses%3E%0A%09%3C%2Fmodule%3E%0A%09%3Cmodule%3E%0A%09%09%3Cname%3ESoftware%20Apps%20for%20Bus%3C%2Fname%3E%0A%09%09%3Cfaculty%3E%0A%09%09%09%3Clecturer%3EJM%3C%2Flecturer%3E%0A%09%09%3C%2Ffaculty%3E%0A%09%09%3Cexam%2F%3E%0A%09%09%3Cclasses%3E%0A%09%09%09%3Clecture%3E%0A%09%09%09%09%3Cday%3ETues%3C%2Fday%3E%0A%09%09%09%09%3Ctime%3E3pm%20-%205pm%3C%2Ftime%3E%0A%09%09%09%09%3Croom%20type%3D%22computerLab%22%3ESCR2%3C%2Froom%3E%0A%09%09%09%3C%2Flecture%3E%0A%09%09%09%3Clab%3E%0A%09%09%09%09%3Cday%3EFri%3C%2Fday%3E%0A%09%09%09%09%3Ctime%3E9am-11am%3C%2Ftime%3E%0A%09%09%09%09%3Croom%20type%3D%22classroom%22%3E1.02%3C%2Froom%3E%0A%09%09%09%3C%2Flab%3E%0A%09%09%3C%2Fclasses%3E%0A%09%3C%2Fmodule%3E%0A%3C%2Ftimetable%3E&=timetable.xsl&extract=id(%22t2%22)%20%2F%20tbody%20%2F%20tr%20%2F%20td%5B1%5D%0A&=&input-format=auto&printed-node-format=text&output-format=adhoc&compatibility=Enable%20all%20extensions&dot-notation=unambiguous&extract-kind=xpath2\">timetable.xml</a>**\n",
    "*   Write XPath expression to:\n",
    "    *   Print the names of all modules on the timetables\n",
    "    *   Print the names of all modules which have an exam\n",
    "    *   Print the name, day, time and room of all lab classes\n",
    "    *   Print the details of any module which has more than one lecture in a week\n",
    "    *   Print the day, time and room of all classes which take place in computer labs\n",
    "    *   Print the name of all modules which have classes on a Monday\n",
    "*   Create an .xsl file (**timetable.xls**) to display each of the items above\n",
    "*   Test your final XSL file (**timetable.xls**) and your original XML file (**timetable.xml**) here:\n",
    "    * **[Free Online XSL Transformer](http://www.freeformatter.com/xsl-transformer.html)**"
   ]
  },
  {
   "cell_type": "code",
   "execution_count": null,
   "metadata": {
    "hidePrompt": true,
    "slideshow": {
     "slide_type": "slide"
    }
   },
   "outputs": [],
   "source": [
    "%%writefile examples/timetable.xml\n",
    "<?xml version=\"1.0\" ?>\n",
    "<?xml-stylesheet href=\"timetable.xsl\" type=\"text/xsl\"?>\n",
    "<timetable>\n",
    "\t<module>\n",
    "\t\t<name>Web App Dev</name>\n",
    "\t\t<faculty>\n",
    "\t\t\t<lecturer>FS</lecturer>\n",
    "\t\t\t<labAssist id=\"1\">SC</labAssist>\n",
    "\t\t\t<labAssist id=\"2\">EMcL</labAssist>\n",
    "\t\t</faculty>\n",
    "\t\t<classes>\n",
    "\t\t\t<lecture id=\"1\">\n",
    "\t\t\t\t<day>Mon</day>\n",
    "\t\t\t\t<time>9am-11am</time>\n",
    "\t\t\t\t<room type=\"computerLab\">SCR2</room>\n",
    "\t\t\t</lecture>\n",
    "\t\t\t<lecture id=\"2\">\n",
    "\t\t\t\t<day>Thurs</day>\n",
    "\t\t\t\t<time>2pm - 4pm</time>\n",
    "\t\t\t\t<room type=\"computerLab\">SCR1</room>\n",
    "\t\t\t</lecture>\n",
    "\t\t\t<lab>\n",
    "\t\t\t\t<day>Fri</day>\n",
    "\t\t\t\t<time>1pm - 3pm</time>\n",
    "\t\t\t\t<room type=\"computerLab\">SCR2</room>\n",
    "\t\t\t</lab>\n",
    "\t\t</classes>\n",
    "\t</module>\n",
    "\t<module>\n",
    "\t\t<name>Intro. to DB</name>\n",
    "\t\t<faculty>\n",
    "\t\t\t<lecturer>PH</lecturer>\n",
    "\t\t</faculty>\n",
    "\t\t<exam/>\n",
    "\t\t<classes>\n",
    "\t\t\t<lecture>\n",
    "\t\t\t\t<day>Mon</day>\n",
    "\t\t\t\t<time>11am-1pm</time>\n",
    "\t\t\t\t<room type=\"computerLab\">SCR1</room>\n",
    "\t\t\t</lecture>\n",
    "\t\t\t<lab>\n",
    "\t\t\t\t<day>Thurs</day>\n",
    "\t\t\t\t<time>4pm - 5pm</time>\n",
    "\t\t\t\t<room type=\"computerLab\">SCR1</room>\n",
    "\t\t\t</lab>\n",
    "\t\t</classes>\n",
    "\t</module>\n",
    "\t<module>\n",
    "\t\t<name>IT Proj Mgt</name>\n",
    "\t\t<faculty>\n",
    "\t\t\t<lecturer>EO'L</lecturer>\n",
    "\t\t</faculty>\n",
    "\t\t<exam/>\n",
    "\t\t<classes>\n",
    "\t\t\t<lecture>\n",
    "\t\t\t\t<day>Mon</day>\n",
    "\t\t\t\t<time>3pm - 5pm</time>\n",
    "\t\t\t\t<room type=\"computerLab\">SCR2</room>\n",
    "\t\t\t</lecture>\n",
    "\t\t\t<lab>\n",
    "\t\t\t\t<day>Fri</day>\n",
    "\t\t\t\t<time>11am - 12pm</time>\n",
    "\t\t\t\t<room type=\"computerLab\">SCR1</room>\n",
    "\t\t\t</lab>\n",
    "\t\t</classes>\n",
    "\t</module>\n",
    "\t<module>\n",
    "\t\t<name>Fund Bus Anal</name>\n",
    "\t\t<faculty>\n",
    "\t\t\t<lecturer>DB</lecturer>\n",
    "\t\t</faculty>\n",
    "\t\t<exam/>\n",
    "\t\t<classes>\n",
    "\t\t\t<lecture>\n",
    "\t\t\t\t<day>Tues</day>\n",
    "\t\t\t\t<time>1pm - 3pm</time>\n",
    "\t\t\t\t<room type=\"computerLab\">SCR1</room>\n",
    "\t\t\t</lecture>\n",
    "\t\t\t<lab>\n",
    "\t\t\t\t<day>Thurs</day>\n",
    "\t\t\t\t<time>12pm - 1pm</time>\n",
    "\t\t\t\t<room type=\"classroom\">1.01</room>\n",
    "\t\t\t</lab>\n",
    "\t\t</classes>\n",
    "\t</module>\n",
    "\t<module>\n",
    "\t\t<name>Software Apps for Bus</name>\n",
    "\t\t<faculty>\n",
    "\t\t\t<lecturer>JM</lecturer>\n",
    "\t\t</faculty>\n",
    "\t\t<exam/>\n",
    "\t\t<classes>\n",
    "\t\t\t<lecture>\n",
    "\t\t\t\t<day>Tues</day>\n",
    "\t\t\t\t<time>3pm - 5pm</time>\n",
    "\t\t\t\t<room type=\"computerLab\">SCR2</room>\n",
    "\t\t\t</lecture>\n",
    "\t\t\t<lab>\n",
    "\t\t\t\t<day>Fri</day>\n",
    "\t\t\t\t<time>9am-11am</time>\n",
    "\t\t\t\t<room type=\"classroom\">1.02</room>\n",
    "\t\t\t</lab>\n",
    "\t\t</classes>\n",
    "\t</module>\n",
    "</timetable>"
   ]
  },
  {
   "cell_type": "code",
   "execution_count": null,
   "metadata": {
    "hidePrompt": true,
    "slideshow": {
     "slide_type": "slide"
    }
   },
   "outputs": [],
   "source": [
    "%%writefile examples/timetable.xsl\n",
    "<?xml version=\"1.0\"?>\n",
    "<xsl:transform xmlns:xsl=\"http://www.w3.org/1999/XSL/Transform\"\tversion=\"2.0\">\n",
    "\t<xsl:template match=\"*\">\n",
    "\t\t<xsl:apply-templates/>\n",
    "\t</xsl:template>\n",
    "\t<xsl:template match=\"text()\">\n",
    "\t\t<xsl:apply-templates/>\n",
    "\t</xsl:template>\n",
    "\t<xsl:template match=\"/\">\n",
    "\t\t<html>\n",
    "\t\t\t<head><title>Example</title>\n",
    "\t\t\t</head>\n",
    "\t\t\t<body>\n",
    "\t\t\t\t<!--Question 1-->\n",
    "\t\t\t\t<h2>Modules this semester:</h2>\n",
    "\t\t\t\t<xsl:apply-templates select=\"/timetable/module/name\"/>\n",
    "\t\t\t\t<!--Question 2-->\n",
    "\t\t\t\t<h2>Modules with a Terminal Exam:</h2>\n",
    "\t\t\t\t<xsl:apply-templates select=\"//exam\"/> \n",
    "\t\t\t\t<!--Question 3-->\n",
    "\t\t\t\t<h2>Lab Schedule:</h2>\n",
    "\t\t\t\t<xsl:apply-templates select=\"/timetable/module/classes/lab\"/>\n",
    "\t\t\t\t<!--Question 4 -->\n",
    "\t\t\t\t<h2>There is more than one lecture in:</h2>\n",
    "\t\t\t\t<xsl:apply-templates select=\"/timetable/module/classes/lecture[@id>'1']\"/>\n",
    "\t\t\t\t<!--Question 5-->\n",
    "\t\t\t\t<h2>The day time and room of all classes in a computer lab:</h2>\n",
    "\t\t\t\t<xsl:apply-templates select=\"//room[@type='computerLab']\"/>\n",
    "\t\t\t\t<!--Question 6--> \n",
    "\t\t\t\t<h2>The details of all Monday classes:</h2>\n",
    "\t\t\t\t<xsl:apply-templates select=\"/timetable/module/classes/*/day[text()='Mon']\"/>\n",
    "\t\t\t</body>\n",
    "\t\t\t</html>\n",
    "\t</xsl:template>\n",
    "\t<!--Question 1-->\n",
    "\t<xsl:template match=\"name\">\n",
    "\t\t\t<xsl:value-of select=\".\"/><br/>\n",
    "\t</xsl:template> \n",
    "\t<!--Question 2-->\n",
    "\t<xsl:template match=\"exam\">\n",
    "\t\t\t<xsl:value-of select=\"../name\"/><br/>\n",
    "\t</xsl:template>\n",
    "\t<!--Question 3-->\n",
    "\t<xsl:template match=\"lab\">\n",
    "\t\t\t<xsl:value-of select=\"../../name\"/>\n",
    "\t\t\t<ul>\n",
    "\t\t\t\t<li><xsl:value-of select=\"day\"/></li>\n",
    "\t\t\t\t<li><xsl:value-of select=\"time\"/></li>\n",
    "\t\t\t\t<li><xsl:value-of select=\"room\"/></li>\n",
    "\t\t\t</ul>\n",
    "\t</xsl:template>\n",
    "\t<!--Question 4-->\n",
    "\t<xsl:template match=\"lecture\">\n",
    "            <xsl:for-each select=\"../../*\">\n",
    "                <xsl:value-of select=\".\"/><br/>\n",
    "            </xsl:for-each>\n",
    "\t</xsl:template>\n",
    "\t<!--Question 5-->\n",
    "\t<xsl:template match=\"room\">\n",
    "\t\t\t<xsl:value-of select=\"../../../name\"/>, \n",
    "\t\t\t<xsl:value-of select=\"../.\"/><br/>\n",
    "\t</xsl:template>\n",
    "\t<!--Question 6-->\n",
    "\t<xsl:template match=\"day\">\n",
    "\t\t\t<xsl:value-of select=\"../../../name\"/><br/>\n",
    "\t</xsl:template>\n",
    "</xsl:transform>"
   ]
  },
  {
   "cell_type": "markdown",
   "metadata": {
    "slideshow": {
     "slide_type": "slide"
    }
   },
   "source": [
    "Run the cell below with `Shift` + `Enter` to render the result"
   ]
  },
  {
   "cell_type": "code",
   "execution_count": 5,
   "metadata": {
    "hideCode": true,
    "hidePrompt": true,
    "init_cell": true,
    "slideshow": {
     "slide_type": "-"
    }
   },
   "outputs": [
    {
     "name": "stdout",
     "output_type": "stream",
     "text": [
      "<html>\n",
      " <head>\n",
      "  <meta content=\"text/html; charset=utf-8\" http-equiv=\"Content-Type\"/>\n",
      "  <title>\n",
      "   Example\n",
      "  </title>\n",
      " </head>\n",
      " <body>\n",
      "  <h2>\n",
      "   Modules this semester:\n",
      "  </h2>\n",
      "  Web App Dev\n",
      "  <br/>\n",
      "  Intro. to DB\n",
      "  <br/>\n",
      "  IT Proj Mgt\n",
      "  <br/>\n",
      "  Fund Bus Anal\n",
      "  <br/>\n",
      "  Software Apps for Bus\n",
      "  <br/>\n",
      "  <h2>\n",
      "   Modules with a Terminal Exam:\n",
      "  </h2>\n",
      "  Intro. to DB\n",
      "  <br/>\n",
      "  IT Proj Mgt\n",
      "  <br/>\n",
      "  Fund Bus Anal\n",
      "  <br/>\n",
      "  Software Apps for Bus\n",
      "  <br/>\n",
      "  <h2>\n",
      "   Lab Schedule:\n",
      "  </h2>\n",
      "  Web App Dev\n",
      "  <ul>\n",
      "   <li>\n",
      "    Fri\n",
      "   </li>\n",
      "   <li>\n",
      "    1pm - 3pm\n",
      "   </li>\n",
      "   <li>\n",
      "    SCR2\n",
      "   </li>\n",
      "  </ul>\n",
      "  Intro. to DB\n",
      "  <ul>\n",
      "   <li>\n",
      "    Thurs\n",
      "   </li>\n",
      "   <li>\n",
      "    4pm - 5pm\n",
      "   </li>\n",
      "   <li>\n",
      "    SCR1\n",
      "   </li>\n",
      "  </ul>\n",
      "  IT Proj Mgt\n",
      "  <ul>\n",
      "   <li>\n",
      "    Fri\n",
      "   </li>\n",
      "   <li>\n",
      "    11am - 12pm\n",
      "   </li>\n",
      "   <li>\n",
      "    SCR1\n",
      "   </li>\n",
      "  </ul>\n",
      "  Fund Bus Anal\n",
      "  <ul>\n",
      "   <li>\n",
      "    Thurs\n",
      "   </li>\n",
      "   <li>\n",
      "    12pm - 1pm\n",
      "   </li>\n",
      "   <li>\n",
      "    1.01\n",
      "   </li>\n",
      "  </ul>\n",
      "  Software Apps for Bus\n",
      "  <ul>\n",
      "   <li>\n",
      "    Fri\n",
      "   </li>\n",
      "   <li>\n",
      "    9am-11am\n",
      "   </li>\n",
      "   <li>\n",
      "    1.02\n",
      "   </li>\n",
      "  </ul>\n",
      "  <h2>\n",
      "   There is more than one lecture in:\n",
      "  </h2>\n",
      "  Web App Dev\n",
      "  <br/>\n",
      "  FS\n",
      "\t\t\tSC\n",
      "\t\t\tEMcL\n",
      "  <br/>\n",
      "  Mon\n",
      "\t\t\t\t9am-11am\n",
      "\t\t\t\tSCR2\n",
      "\t\t\t\n",
      "\t\t\t\n",
      "\t\t\t\tThurs\n",
      "\t\t\t\t2pm - 4pm\n",
      "\t\t\t\tSCR1\n",
      "\t\t\t\n",
      "\t\t\t\n",
      "\t\t\t\tFri\n",
      "\t\t\t\t1pm - 3pm\n",
      "\t\t\t\tSCR2\n",
      "  <br/>\n",
      "  <h2>\n",
      "   The day time and room of all classes in a computer lab:\n",
      "  </h2>\n",
      "  Web App Dev, \n",
      "\t\t\t\n",
      "\t\t\t\tMon\n",
      "\t\t\t\t9am-11am\n",
      "\t\t\t\tSCR2\n",
      "  <br/>\n",
      "  Web App Dev, \n",
      "\t\t\t\n",
      "\t\t\t\tThurs\n",
      "\t\t\t\t2pm - 4pm\n",
      "\t\t\t\tSCR1\n",
      "  <br/>\n",
      "  Web App Dev, \n",
      "\t\t\t\n",
      "\t\t\t\tFri\n",
      "\t\t\t\t1pm - 3pm\n",
      "\t\t\t\tSCR2\n",
      "  <br/>\n",
      "  Intro. to DB, \n",
      "\t\t\t\n",
      "\t\t\t\tMon\n",
      "\t\t\t\t11am-1pm\n",
      "\t\t\t\tSCR1\n",
      "  <br/>\n",
      "  Intro. to DB, \n",
      "\t\t\t\n",
      "\t\t\t\tThurs\n",
      "\t\t\t\t4pm - 5pm\n",
      "\t\t\t\tSCR1\n",
      "  <br/>\n",
      "  IT Proj Mgt, \n",
      "\t\t\t\n",
      "\t\t\t\tMon\n",
      "\t\t\t\t3pm - 5pm\n",
      "\t\t\t\tSCR2\n",
      "  <br/>\n",
      "  IT Proj Mgt, \n",
      "\t\t\t\n",
      "\t\t\t\tFri\n",
      "\t\t\t\t11am - 12pm\n",
      "\t\t\t\tSCR1\n",
      "  <br/>\n",
      "  Fund Bus Anal, \n",
      "\t\t\t\n",
      "\t\t\t\tTues\n",
      "\t\t\t\t1pm - 3pm\n",
      "\t\t\t\tSCR1\n",
      "  <br/>\n",
      "  Software Apps for Bus, \n",
      "\t\t\t\n",
      "\t\t\t\tTues\n",
      "\t\t\t\t3pm - 5pm\n",
      "\t\t\t\tSCR2\n",
      "  <br/>\n",
      "  <h2>\n",
      "   The details of all Monday classes:\n",
      "  </h2>\n",
      "  Web App Dev\n",
      "  <br/>\n",
      "  Intro. to DB\n",
      "  <br/>\n",
      "  IT Proj Mgt\n",
      "  <br/>\n",
      " </body>\n",
      "</html>\n",
      "\n"
     ]
    },
    {
     "data": {
      "text/plain": [
       "2034"
      ]
     },
     "execution_count": 5,
     "metadata": {},
     "output_type": "execute_result"
    }
   ],
   "source": [
    "from bs4 import BeautifulSoup\n",
    "import lxml.etree as ET\n",
    "\n",
    "dom = ET.parse('examples/timetable.xml')\n",
    "xslt = ET.parse('examples/timetable.xsl')\n",
    "transform = ET.XSLT(xslt)\n",
    "newdom = transform(dom)\n",
    "result = BeautifulSoup(str(newdom))\n",
    "html = result.prettify()\n",
    "print(html)\n",
    "f=open(\"examples/timetable.html\",\"w+\")\n",
    "f.write(html)"
   ]
  },
  {
   "cell_type": "code",
   "execution_count": 6,
   "metadata": {
    "hideCode": true,
    "hidePrompt": true,
    "init_cell": true,
    "slideshow": {
     "slide_type": "slide"
    }
   },
   "outputs": [
    {
     "data": {
      "text/html": [
       "\n",
       "        <iframe\n",
       "            width=\"100%\"\n",
       "            height=\"800px\"\n",
       "            src=\"examples/timetable.html\"\n",
       "            frameborder=\"0\"\n",
       "            allowfullscreen\n",
       "        ></iframe>\n",
       "        "
      ],
      "text/plain": [
       "<IPython.lib.display.IFrame at 0x10bababd0>"
      ]
     },
     "execution_count": 6,
     "metadata": {},
     "output_type": "execute_result"
    }
   ],
   "source": [
    "from IPython.display import IFrame\n",
    "IFrame(src='examples/timetable.html', width=\"100%\", height=\"800px\")"
   ]
  },
  {
   "cell_type": "markdown",
   "metadata": {
    "hideCode": false,
    "hideOutput": true,
    "hidePrompt": false,
    "slideshow": {
     "slide_type": "slide"
    }
   },
   "source": [
    "# XML Schema <img src=\"https://img.icons8.com/active-directory/80\" style=\"display:inline-block;vertical-align:middle;padding:0 0 10px 10px\">"
   ]
  },
  {
   "cell_type": "markdown",
   "metadata": {
    "hideCode": false,
    "hidePrompt": false,
    "slideshow": {
     "slide_type": ""
    }
   },
   "source": [
    "* Press `Space` to navigate through the slides\n",
    "* Use `Shift+Space` to go back"
   ]
  },
  {
   "cell_type": "markdown",
   "metadata": {
    "cell_style": "center",
    "hideCode": false,
    "hidePrompt": false,
    "slideshow": {
     "slide_type": "slide"
    }
   },
   "source": [
    "## Introduction to XML Schema\n",
    "* XML Schema is commonly known as **XML Schema Definition (XSD)**\n",
    "    * It is used to **describe** and **validate** the **structure** and the **content** of XML data.\n",
    "    * XML schema defines the **elements**, **attributes** and **data types**.\n",
    "    * Schema element supports **Namespaces**.\n",
    "    * It is similar to a database schema that describes the data in a database."
   ]
  },
  {
   "cell_type": "markdown",
   "metadata": {
    "hideCode": false,
    "hidePrompt": false,
    "slideshow": {
     "slide_type": "slide"
    }
   },
   "source": [
    "## XML Schema\n",
    "* The **purpose** of an XML Schema is to **define the legal building blocks** of an **XML** document\n",
    "    * the **elements** and **attributes** that can appear in a document\n",
    "    * the **number** of (and order of) **child elements**\n",
    "    * **data types** for **elements** and **attributes**\n",
    "    * **default** and **fixed values** for elements and attributes"
   ]
  },
  {
   "cell_type": "markdown",
   "metadata": {
    "hideCode": false,
    "hidePrompt": false,
    "slideshow": {
     "slide_type": "slide"
    }
   },
   "source": [
    "## Why Learn XML Schema?\n",
    "* In the **XML** world, thousands of standardised XML formats are in daily use\n",
    "* Many of these **XML** standards are defined by **XML Schemas**\n",
    "* **XML Schema** is essentially a **recepie** for any of your **XML** files\n",
    "* **XSD** files are written in **XML**, just like **XSL**"
   ]
  },
  {
   "cell_type": "markdown",
   "metadata": {
    "slideshow": {
     "slide_type": "slide"
    }
   },
   "source": [
    "## XSD Example\n",
    "```XML\n",
    "<?xml version=\"1.0\"?>\n",
    "<lecture id=\"1\">Interactive Web Applications</lecture>\n",
    "<!-- This is our original XML file -->\n",
    "```\n",
    "---\n",
    "```XML\n",
    "<?xml version=\"1.0\"?>\n",
    "<xs:schema xmlns:xs=\"http://www.w3.org/2001/XMLSchema\">\n",
    "  <xs:element name=\"lecture\" type=\"xs:string\"/>\n",
    "</xs:schema>\n",
    "<!-- This is out XSD recepie for the XML above -->\n",
    "```"
   ]
  },
  {
   "cell_type": "markdown",
   "metadata": {
    "slideshow": {
     "slide_type": "subslide"
    }
   },
   "source": [
    "## XSD Example\n",
    "```XML\n",
    "<?xml version=\"1.0\"?>\n",
    "<xs:schema xmlns:xs=\"http://www.w3.org/2001/XMLSchema\">\n",
    "  <xs:element name=\"lecture\" type=\"xs:string\"/>\n",
    "</xs:schema>\n",
    "```\n",
    "* **XSD** is an **XML** document and starts with an **XML declaration**\n",
    "\n",
    "* Elements that make up an **XML schema** must belong to the XML Schema **namespace** (http://www.w3.org/2001/XMLSchema)\n",
    "\n",
    "* Every schema consists of a single root `xs:schema` element that contains all **type definitions** and **element** and **attribute** declarations\n",
    "\n",
    "* Elements are declared using the `xs:element` element"
   ]
  },
  {
   "cell_type": "markdown",
   "metadata": {
    "slideshow": {
     "slide_type": "subslide"
    }
   },
   "source": [
    "## XSD Example\n",
    "```XML\n",
    "<?xml version=\"1.0\"?>\n",
    "<xs:schema xmlns:xs=\"http://www.w3.org/2001/XMLSchema\">\n",
    "  <xs:element name=\"lecture\" type=\"xs:string\"/>\n",
    "</xs:schema>\n",
    "```\n",
    "* The declaration in `xs:element` specifies the name and the type of the element using the name and type attributes.\n",
    "\n",
    "* The type for the element **lecture** is a `string`\n",
    "\n",
    "* `xs:string` which represents Unicode strings of characters\n",
    "\n",
    "* The root of an instance XML document can be any element declared as child of the `xs:schema` element"
   ]
  },
  {
   "cell_type": "markdown",
   "metadata": {
    "slideshow": {
     "slide_type": "slide"
    }
   },
   "source": [
    "## Referencing XSD\n",
    "* It is common to associate the instance document explicitly with the schema document\n",
    "* Suppose we name `lecture.xsd` is the schema document reviewed above\n",
    "* The instance document changes as follows:\n",
    "    ```XML\n",
    "    <?xml version=\"1.0\"?>\n",
    "    <lecture xmlns:xsi=\"http://www.w3.org/2001/XMLSchema-instance\"\n",
    "        xsi:noNamespaceSchemaLocation=\"lecture.xsd\">\n",
    "    Interactive Web Applications\n",
    "    </lecture>\n",
    "    ```"
   ]
  },
  {
   "cell_type": "markdown",
   "metadata": {
    "hideCode": false,
    "hidePrompt": false,
    "slideshow": {
     "slide_type": "slide"
    }
   },
   "source": [
    "## XSD Components\n",
    "\n",
    "* **ComplexTypes** and **SimpleTypes**\n",
    "  * `ComplexType` is a container for other element definitions.\n",
    "      * Allows you to specify which child elements an element can contain and to provide some structure within your XML documents.\n",
    "  * `SimpleType` element is used only in the context of the text\n",
    "      * `string` is an example of a SimpleType\n",
    "* Elements have **complexTypes** or **simpleTypes**\n",
    "* Attributes have **simpleTypes**\n",
    "* **Element declaration** declares the name and the type of an element:<br/>\n",
    "    * `<xs:element name=\"name\" type=\"type\"/>`\n",
    "* **Attribute declaration** declares the name and the type of an attribute:<br/>\n",
    "    * `<xs:attribute name=\"name\" type=\"type\"/>`"
   ]
  },
  {
   "cell_type": "markdown",
   "metadata": {
    "slideshow": {
     "slide_type": "slide"
    }
   },
   "source": [
    "## `simpleType`\n",
    "* A simple type describes text without markup\n",
    "* A simple type can be assigned either to an **element** or to an **attribute**.\n",
    "    * `<xs:element name=\"street\" type=\"xs:string\"/>`\n",
    "    * `<xs:attribute name=\"price\" type=\"xs:decimal\"/>`\n",
    "* Some typical examples of primitive built-in simple types are:\n",
    "    * string\n",
    "    * integer\n",
    "    * decimal\n",
    "    * float\n",
    "    * double\n",
    "    * boolean\n",
    "    * time\n",
    "    * date"
   ]
  },
  {
   "cell_type": "markdown",
   "metadata": {
    "slideshow": {
     "slide_type": "slide"
    }
   },
   "source": [
    "## `simpleType`\n",
    "* A **restriction** of an existing type, called based type, defines a new type by restricting the set of possible values of the base type.\n",
    "\n",
    "|Facet|Constraint|\n",
    "|--- |--- |\n",
    "|length|length of string or number of items of list|\n",
    "|minLength|minimal length|\n",
    "|maxLength|maximal length|\n",
    "|pattern|regular expression pattern|\n",
    "|enumeration|enumeration value|\n",
    "|whiteSpace|white space normalization|\n",
    "|maxInclusive|inclusive upper bound|\n",
    "|maxExclusive|exclusive upper bound|\n",
    "|minInclusive|inclusive lower bound|\n",
    "|minExclusive|exclusive lower bound|\n",
    "|totalDigits|maximum number of digits|\n",
    "|fractionDigits|maximum number of fractional digits|\n"
   ]
  },
  {
   "cell_type": "markdown",
   "metadata": {
    "slideshow": {
     "slide_type": "slide"
    }
   },
   "source": [
    "## `simpleType`\n",
    "For instance, the following type definition uses the `simpleType` element to define the simple type `voteType` to be an integer from 18 to 30:\n",
    "```XML\n",
    "<xs:simpleType name=\"voteType\">\n",
    "  <xs:restriction base=\"xs:integer\">\n",
    "    <xs:length value=\"2\" />\n",
    "    <xs:minInclusive value=\"18\"/>\n",
    "    <xs:maxInclusive value=\"30\"/>\n",
    "  </xs:restriction>\n",
    "</xs:simpleType>\n",
    "```"
   ]
  },
  {
   "cell_type": "markdown",
   "metadata": {
    "slideshow": {
     "slide_type": "slide"
    }
   },
   "source": [
    "## `simpleType`\n",
    "* The following example shows an **<font color=\"green\">enumeration</font>** simple type.\n",
    "* The type `colorType` is the subset of strings containing `red`, `green` and `blue` values only.\n",
    "```XML\n",
    "<xs:simpleType name=\"colorType\">\n",
    "  <xs:restriction base=\"xs:string\">\n",
    "    <xs:enumeration value=\"red\"/>\n",
    "    <xs:enumeration value=\"green\"/>\n",
    "    <xs:enumeration value=\"blue\"/>\n",
    "  </xs:restriction>\n",
    "</xs:simpleType>\n",
    "```"
   ]
  },
  {
   "cell_type": "markdown",
   "metadata": {
    "slideshow": {
     "slide_type": "slide"
    }
   },
   "source": [
    "## `complexType`\n",
    "* A complex type describes text that may contain markup in the form of elements and attributes.\n",
    "* A complex type can be assigned to elements but not to attributes, whose type is always simple.\n",
    "* An empty element with **no content** or **data type** can be created with `complexType`:\n",
    "    ```XML\n",
    "    <xs:complexType name=\"empty_element\"/>\n",
    "    ```\n",
    "* A slightly more complicated example is that of an element with empty content but having attributes.\n",
    "* Here is an example:\n",
    "    ```XML\n",
    "    <xs:complexType name=\"bookType\">\n",
    "      <xs:attribute name=\"price\" type=\"xs:decimal\"/>\n",
    "    </xs:complexType>\n",
    "    ```\n",
    "* The type `bookType` describes an element with empty content and a single attribute `price` of type decimal."
   ]
  },
  {
   "cell_type": "markdown",
   "metadata": {
    "slideshow": {
     "slide_type": "slide"
    }
   },
   "source": [
    "## `complexType` Sequence\n",
    "* The sequence element defines a sequence of elements that must appear in the instance document in the order they are listed.\n",
    "* An example follows:\n",
    "    ```XML\n",
    "    <xs:element name=\"street\" type=\"xs:string\"/>\n",
    "    <xs:element name=\"number\" type=\"xs:integer\"/>\n",
    "    <xs:element name=\"city\" type=\"xs:string\"/>\n",
    "    <xs:element name=\"state\" type=\"xs:string\"/>\n",
    "    <xs:element name=\"address\" type=\"addressType\"/>\n",
    "\n",
    "    <xs:complexType name=\"addressType\">\n",
    "      <xs:sequence>\n",
    "        <xs:element ref=\"street\"/>\n",
    "        <xs:element ref=\"number\"/>\n",
    "        <xs:element ref=\"city\"/>\n",
    "        <xs:element ref=\"state\"/>\n",
    "      </xs:sequence>\n",
    "    </xs:complexType>\n",
    "    ```\n",
    "* The element address must contain the subelements street, number, city and state in this order."
   ]
  },
  {
   "cell_type": "markdown",
   "metadata": {
    "slideshow": {
     "slide_type": "slide"
    }
   },
   "source": [
    "## `complexType` Sequence\n",
    "\n",
    "|Attribute|Description|\n",
    "|:-- |:-- |\n",
    "|id|Optional. Specifies a unique ID for the element|\n",
    "|maxOccurs|Optional. Specifies the maximum number of times the sequence element can occur in the parent element. The value can be any number >= 0, or if you want to set no limit on the maximum number, use the value \"unbounded\". Default value is 1|\n",
    "|minOccurs|Optional. Specifies the minimum number of times the sequence element can occur in the parent element. The value can be any number >= 0. Default value is 1|\n",
    "|any attributes|Optional. Specifies any other attributes with non-schema namespace|\n"
   ]
  },
  {
   "cell_type": "markdown",
   "metadata": {
    "slideshow": {
     "slide_type": "slide"
    }
   },
   "source": [
    "# `complexType` Sequence\n",
    "* This following example shows a declaration for an element `pets` that can have zero or more of the following elements, dog and cat, in the sequence element:\n",
    "```XML\n",
    "<xs:element name=\"pets\">\n",
    "  <xs:complexType>\n",
    "    <xs:sequence minOccurs=\"0\" maxOccurs=\"unbounded\">\n",
    "      <xs:element name=\"dog\" type=\"xs:string\"/>\n",
    "      <xs:element name=\"cat\" type=\"xs:string\"/>\n",
    "    </xs:sequence>\n",
    "  </xs:complexType>\n",
    "</xs:element>\n",
    "```"
   ]
  },
  {
   "cell_type": "markdown",
   "metadata": {
    "slideshow": {
     "slide_type": "slide"
    }
   },
   "source": [
    "## `complexType` Choice\n",
    "* The choice element allows to choose one element from a list.\n",
    "* For instance, the contact element declared below can contain either an email element or a phone element, but not both:\n",
    "    ```XML\n",
    "    <xs:element name=\"email\" type=\"xs:string\"/>\n",
    "    <xs:element name=\"phone\" type=\"xs:string\"/>\n",
    "    <xs:element name=\"contact\" type=\"contactType\"/>\n",
    "\n",
    "    <xs:complexType name=\"contactType\">\n",
    "      <xs:choice>\n",
    "        <xs:element ref=\"email\"/>\n",
    "        <xs:element ref=\"phone\"/>\n",
    "      </xs:choice>\n",
    "    </xs:complexType>\n",
    "    ```"
   ]
  },
  {
   "cell_type": "markdown",
   "metadata": {
    "slideshow": {
     "slide_type": "slide"
    }
   },
   "source": [
    "## `complexType` all\n",
    "* The `all` element defines a set of elements that must appear in the instance document in any order.\n",
    "* An example follows:\n",
    "    ```XML\n",
    "    <xs:element name=\"email\" type=\"xs:string\"/>\n",
    "    <xs:element name=\"phone\" type=\"xs:string\"/>\n",
    "    <xs:element name=\"contact\" type=\"contactType\"/>\n",
    "\n",
    "    <xs:complexType name=\"contactType\">\n",
    "      <xs:all>\n",
    "        <xs:element ref=\"email\"/>\n",
    "        <xs:element ref=\"phone\"/>\n",
    "      </xs:all>\n",
    "    </xs:complexType>\n",
    "    ```\n",
    "* In this case, the contact element must contain both email and phone subelements in any order.\n",
    "* A few restrictions apply to the all construct: it can only contain element references or declarations."
   ]
  },
  {
   "cell_type": "markdown",
   "metadata": {
    "slideshow": {
     "slide_type": "slide"
    }
   },
   "source": [
    "## `complexType` Mixed Content\n",
    "* A mixed complex type element can contain attributes, elements and text.\n",
    "* An example follows:\n",
    "    ```XML\n",
    "    <letter>\n",
    "      Dear Mr. <name>John Smith</name>.\n",
    "      Your order <orderid>1032</orderid>\n",
    "      will be shipped on <shipdate>2001-07-13</shipdate>.\n",
    "    </letter>\n",
    "    ```\n",
    "    ---\n",
    "    ```XML\n",
    "    <xs:element name=\"letter\">\n",
    "      <xs:complexType mixed=\"true\">\n",
    "        <xs:sequence>\n",
    "          <xs:element name=\"name\" type=\"xs:string\"/>\n",
    "          <xs:element name=\"orderid\" type=\"xs:positiveInteger\"/>\n",
    "          <xs:element name=\"shipdate\" type=\"xs:date\"/>\n",
    "        </xs:sequence>\n",
    "      </xs:complexType>\n",
    "    </xs:element>    \n",
    "    ```"
   ]
  },
  {
   "cell_type": "markdown",
   "metadata": {
    "slideshow": {
     "slide_type": "slide"
    }
   },
   "source": [
    "## Creating an XML Schema"
   ]
  },
  {
   "cell_type": "markdown",
   "metadata": {
    "slideshow": {
     "slide_type": "-"
    }
   },
   "source": [
    "* Let's have a look at this XML document called `shiporder.xml`:\n",
    "\n",
    "```XML\n",
    "<?xml version=\"1.0\" encoding=\"UTF-8\"?>\n",
    "<shiporder orderid=\"889923\" xmlns:xsi=\"http://www.w3.org/2001/XMLSchema-instance\" xsi:noNamespaceSchemaLocation=\"shiporder.xsd\">\n",
    "  <orderperson>John Smith</orderperson>\n",
    "  <shipto>\n",
    "    <name>Ola Nordmann</name>\n",
    "    <address>Langgt 23</address>\n",
    "    <city>4000 Stavanger</city>\n",
    "    <country>Norway</country>\n",
    "  </shipto>\n",
    "  <item>\n",
    "    <title>Empire Burlesque</title>\n",
    "    <note>Special Edition</note>\n",
    "    <quantity>1</quantity>\n",
    "    <price>10.90</price>\n",
    "  </item>\n",
    "  <item>\n",
    "    <title>Hide your heart</title>\n",
    "    <quantity>1</quantity>\n",
    "    <price>9.90</price>\n",
    "  </item>\n",
    "</shiporder>\n",
    "```"
   ]
  },
  {
   "cell_type": "markdown",
   "metadata": {
    "slideshow": {
     "slide_type": "subslide"
    }
   },
   "source": [
    "* The XML document presented consists of a root element `shiporder` that contains a required attribute called `orderid`.\n",
    "* The `shiporder` element contains three different child elements:\n",
    "    * `orderperson`, `shipto` and `item`\n",
    "* The `item` element appears twice, and it contains a `title`, an optional `note` element, a `quantity`, and a `price` element.\n",
    "---\n",
    "* `xmlns:xsi=\"http://www.w3.org/2001/XMLSchema-instance\"` tells the XML parser that this document should be validated against a schema.\n",
    "* `xsi:noNamespaceSchemaLocation=\"shiporder.xsd` specifies WHERE the schema resides (here it is in the same folder as `shiporder.xml`)."
   ]
  },
  {
   "cell_type": "markdown",
   "metadata": {
    "slideshow": {
     "slide_type": "subslide"
    }
   },
   "source": [
    "* To create the schema we could simply follow the structure in the XML document and define each element as we find it.\n",
    "* We will start with the standard XML declaration followed by the `xs:schema` element that defines a schema:\n",
    "    ```XML\n",
    "    <?xml version=\"1.0\" encoding=\"UTF-8\" ?>\n",
    "    <xs:schema xmlns:xs=\"http://www.w3.org/2001/XMLSchema\">\n",
    "    ...\n",
    "    </xs:schema>\n",
    "    ```"
   ]
  },
  {
   "cell_type": "markdown",
   "metadata": {
    "slideshow": {
     "slide_type": "subslide"
    }
   },
   "source": [
    "* Next, we have to define the `shiporder` element.\n",
    "* This element has an attribute and it contains other elements, therefore we consider it as a **complex type**.\n",
    "* The child elements of the `shiporder` element is surrounded by a xs:sequence element that defines an ordered sequence of sub elements:\n",
    "\n",
    "```XML\n",
    "<xs:element name=\"shiporder\">\n",
    "  <xs:complexType>\n",
    "    <xs:sequence>\n",
    "      ...\n",
    "    </xs:sequence>\n",
    "  </xs:complexType>\n",
    "</xs:element>\n",
    "```"
   ]
  },
  {
   "cell_type": "markdown",
   "metadata": {
    "slideshow": {
     "slide_type": "subslide"
    }
   },
   "source": [
    "* Then we have to define the `orderperson` element as a simple type (because it does not contain any attributes or other elements).\n",
    "* The type (xs:string) is prefixed with the namespace prefix associated with XML Schema that indicates a predefined schema data type:\n",
    "```XML\n",
    "<xs:element name=\"orderperson\" type=\"xs:string\"/>\n",
    "```"
   ]
  },
  {
   "cell_type": "markdown",
   "metadata": {
    "slideshow": {
     "slide_type": "subslide"
    }
   },
   "source": [
    "* Next, we have to define two elements that are of the complex type: `shipto` and `item`.\n",
    "* We start by defining the `shipto` element:\n",
    "```XML\n",
    "<xs:element name=\"shipto\">\n",
    "  <xs:complexType>\n",
    "    <xs:sequence>\n",
    "      <xs:element name=\"name\" type=\"xs:string\"/>\n",
    "      <xs:element name=\"address\" type=\"xs:string\"/>\n",
    "      <xs:element name=\"city\" type=\"xs:string\"/>\n",
    "      <xs:element name=\"country\" type=\"xs:string\"/>\n",
    "    </xs:sequence>\n",
    "  </xs:complexType>\n",
    "</xs:element>\n",
    "```\n",
    "* With schemas we can define the number of possible occurrences for an element with the `maxOccurs` and `minOccurs` attributes.\n",
    "* `maxOccurs` specifies the maximum number of occurrences for an element and minOccurs specifies the minimum number of occurrences for an element.\n",
    "* The default value for both `maxOccurs` and `minOccurs` is 1!\n",
    "\n"
   ]
  },
  {
   "cell_type": "markdown",
   "metadata": {
    "slideshow": {
     "slide_type": "subslide"
    }
   },
   "source": [
    "* Now we can define the `item` element.\n",
    "* This element can appear multiple times inside a `shiporder` element.\n",
    "* This is specified by setting the `maxOccurs` attribute of the `item` element to `unbounded` which means that there can be as many occurrences of the `item` element as the author wishes.\n",
    "* Notice that the \"note\" element is optional.\n",
    "* We have specified this by setting the `minOccurs` attribute to zero:\n",
    "```XML\n",
    "<xs:element name=\"item\" maxOccurs=\"unbounded\">\n",
    "  <xs:complexType>\n",
    "    <xs:sequence>\n",
    "      <xs:element name=\"title\" type=\"xs:string\"/>\n",
    "      <xs:element name=\"note\" type=\"xs:string\" minOccurs=\"0\"/>\n",
    "      <xs:element name=\"quantity\" type=\"xs:positiveInteger\"/>\n",
    "      <xs:element name=\"price\" type=\"xs:decimal\"/>\n",
    "    </xs:sequence>\n",
    "  </xs:complexType>\n",
    "</xs:element>\n",
    "```"
   ]
  },
  {
   "cell_type": "markdown",
   "metadata": {
    "slideshow": {
     "slide_type": "subslide"
    }
   },
   "source": [
    "* We can now declare the attribute of the `shiporder` element.\n",
    "* Since this is a required attribute we specify `use=\"required\"`\n",
    "    ```XML\n",
    "    <xs:attribute name=\"orderid\" type=\"xs:string\" use=\"required\"/>\n",
    "    ```"
   ]
  },
  {
   "cell_type": "markdown",
   "metadata": {
    "slideshow": {
     "slide_type": "subslide"
    }
   },
   "source": [
    "Here is the complete listing of the schema file called `shiporder.xsd`\n",
    "```XML\n",
    "<?xml version=\"1.0\" encoding=\"UTF-8\" ?>\n",
    "<xs:schema xmlns:xs=\"http://www.w3.org/2001/XMLSchema\">\n",
    "<xs:element name=\"shiporder\">\n",
    "  <xs:complexType>\n",
    "    <xs:sequence>\n",
    "      <xs:element name=\"orderperson\" type=\"xs:string\"/>\n",
    "      <xs:element name=\"shipto\">\n",
    "        <xs:complexType>\n",
    "          <xs:sequence>\n",
    "            <xs:element name=\"name\" type=\"xs:string\"/>\n",
    "            <xs:element name=\"address\" type=\"xs:string\"/>\n",
    "            <xs:element name=\"city\" type=\"xs:string\"/>\n",
    "            <xs:element name=\"country\" type=\"xs:string\"/>\n",
    "          </xs:sequence>\n",
    "        </xs:complexType>\n",
    "      </xs:element>\n",
    "      <xs:element name=\"item\" maxOccurs=\"unbounded\">\n",
    "        <xs:complexType>\n",
    "          <xs:sequence>\n",
    "            <xs:element name=\"title\" type=\"xs:string\"/>\n",
    "            <xs:element name=\"note\" type=\"xs:string\" minOccurs=\"0\"/>\n",
    "            <xs:element name=\"quantity\" type=\"xs:positiveInteger\"/>\n",
    "            <xs:element name=\"price\" type=\"xs:decimal\"/>\n",
    "          </xs:sequence>\n",
    "        </xs:complexType>\n",
    "      </xs:element>\n",
    "    </xs:sequence>\n",
    "    <xs:attribute name=\"orderid\" type=\"xs:string\" use=\"required\"/>\n",
    "  </xs:complexType>\n",
    "</xs:element>\n",
    "</xs:schema>\n",
    "```"
   ]
  },
  {
   "cell_type": "markdown",
   "metadata": {
    "slideshow": {
     "slide_type": "subslide"
    }
   },
   "source": [
    "* The previous design method is very simple, but can be difficult to read and maintain when documents are complex.\n",
    "* The next design method is based on defining all elements and attributes first, and then referring to them using the **ref** attribute.\n",
    "\n",
    "```XML\n",
    "<?xml version=\"1.0\" encoding=\"UTF-8\" ?>\n",
    "<xs:schema xmlns:xs=\"http://www.w3.org/2001/XMLSchema\">\n",
    "\n",
    "<!-- definition of simple elements -->\n",
    "<xs:element name=\"orderperson\" type=\"xs:string\"/>\n",
    "<xs:element name=\"name\" type=\"xs:string\"/>\n",
    "<xs:element name=\"address\" type=\"xs:string\"/>\n",
    "<xs:element name=\"city\" type=\"xs:string\"/>\n",
    "<xs:element name=\"country\" type=\"xs:string\"/>\n",
    "<xs:element name=\"title\" type=\"xs:string\"/>\n",
    "<xs:element name=\"note\" type=\"xs:string\"/>\n",
    "<xs:element name=\"quantity\" type=\"xs:positiveInteger\"/>\n",
    "<xs:element name=\"price\" type=\"xs:decimal\"/>\n",
    "\n",
    "<!-- definition of attributes -->\n",
    "<xs:attribute name=\"orderid\" type=\"xs:string\"/>\n",
    "\n",
    "<!-- definition of complex elements -->\n",
    "<xs:element name=\"shipto\">\n",
    "  <xs:complexType>\n",
    "    <xs:sequence>\n",
    "      <xs:element ref=\"name\"/>\n",
    "      <xs:element ref=\"address\"/>\n",
    "      <xs:element ref=\"city\"/>\n",
    "      <xs:element ref=\"country\"/>\n",
    "    </xs:sequence>\n",
    "  </xs:complexType>\n",
    "</xs:element>\n",
    "\n",
    "<xs:element name=\"item\">\n",
    "  <xs:complexType>\n",
    "    <xs:sequence>\n",
    "      <xs:element ref=\"title\"/>\n",
    "      <xs:element ref=\"note\" minOccurs=\"0\"/>\n",
    "      <xs:element ref=\"quantity\"/>\n",
    "      <xs:element ref=\"price\"/>\n",
    "    </xs:sequence>\n",
    "  </xs:complexType>\n",
    "</xs:element>\n",
    "\n",
    "<xs:element name=\"shiporder\">\n",
    "  <xs:complexType>\n",
    "    <xs:sequence>\n",
    "      <xs:element ref=\"orderperson\"/>\n",
    "      <xs:element ref=\"shipto\"/>\n",
    "      <xs:element ref=\"item\" maxOccurs=\"unbounded\"/>\n",
    "    </xs:sequence>\n",
    "    <xs:attribute ref=\"orderid\" use=\"required\"/>\n",
    "  </xs:complexType>\n",
    "</xs:element>\n",
    "\n",
    "</xs:schema>\n",
    "```"
   ]
  },
  {
   "cell_type": "code",
   "execution_count": null,
   "metadata": {
    "hidePrompt": true,
    "slideshow": {
     "slide_type": "slide"
    }
   },
   "outputs": [],
   "source": [
    "%%writefile examples/shiporder.xml\n",
    "<?xml version=\"1.0\" encoding=\"UTF-8\"?>\n",
    "<shiporder orderid=\"889923\" xmlns:xsi=\"http://www.w3.org/2001/XMLSchema-instance\" xsi:noNamespaceSchemaLocation=\"shiporder.xsd\">\n",
    "  <orderperson>John Smith</orderperson>\n",
    "  <shipto>\n",
    "    <name>Ola Nordmann</name>\n",
    "    <address>Langgt 23</address>\n",
    "    <city>4000 Stavanger</city>\n",
    "    <country>Norway</country>\n",
    "  </shipto>\n",
    "  <item>\n",
    "    <title>Empire Burlesque</title>\n",
    "    <note>Special Edition</note>\n",
    "    <quantity>1</quantity>\n",
    "    <price>10.90</price>\n",
    "  </item>\n",
    "  <item>\n",
    "    <title>Hide your heart</title>\n",
    "    <quantity>1</quantity>\n",
    "    <price>9.90</price>\n",
    "  </item>\n",
    "</shiporder>"
   ]
  },
  {
   "cell_type": "code",
   "execution_count": 314,
   "metadata": {
    "hidePrompt": true,
    "slideshow": {
     "slide_type": "slide"
    }
   },
   "outputs": [
    {
     "name": "stdout",
     "output_type": "stream",
     "text": [
      "Overwriting examples/shiporder.xsd\n"
     ]
    }
   ],
   "source": [
    "%%writefile examples/shiporder.xsd\n",
    "<?xml version=\"1.0\" encoding=\"UTF-8\" ?>\n",
    "<xs:schema xmlns:xs=\"http://www.w3.org/2001/XMLSchema\">\n",
    "\n",
    "<!-- definition of simple elements -->\n",
    "<xs:element name=\"orderperson\" type=\"xs:string\"/>\n",
    "<xs:element name=\"name\" type=\"xs:string\"/>\n",
    "<xs:element name=\"address\" type=\"xs:string\"/>\n",
    "<xs:element name=\"city\" type=\"xs:string\"/>\n",
    "<xs:element name=\"country\" type=\"xs:string\"/>\n",
    "<xs:element name=\"title\" type=\"xs:string\"/>\n",
    "<xs:element name=\"note\" type=\"xs:string\"/>\n",
    "<xs:element name=\"quantity\" type=\"xs:positiveInteger\"/>\n",
    "<xs:element name=\"price\" type=\"xs:decimal\"/>\n",
    "\n",
    "<!-- definition of attributes -->\n",
    "<xs:attribute name=\"orderid\" type=\"xs:string\"/>\n",
    "\n",
    "<!-- definition of complex elements -->\n",
    "<xs:element name=\"shipto\">\n",
    "  <xs:complexType>\n",
    "    <xs:sequence>\n",
    "      <xs:element ref=\"name\"/>\n",
    "      <xs:element ref=\"address\"/>\n",
    "      <xs:element ref=\"city\"/>\n",
    "      <xs:element ref=\"country\"/>\n",
    "    </xs:sequence>\n",
    "  </xs:complexType>\n",
    "</xs:element>\n",
    "\n",
    "<xs:element name=\"item\">\n",
    "  <xs:complexType>\n",
    "    <xs:sequence>\n",
    "      <xs:element ref=\"title\"/>\n",
    "      <xs:element ref=\"note\" minOccurs=\"0\"/>\n",
    "      <xs:element ref=\"quantity\"/>\n",
    "      <xs:element ref=\"price\"/>\n",
    "    </xs:sequence>\n",
    "  </xs:complexType>\n",
    "</xs:element>\n",
    "\n",
    "<xs:element name=\"shiporder\">\n",
    "  <xs:complexType>\n",
    "    <xs:sequence>\n",
    "      <xs:element ref=\"orderperson\"/>\n",
    "      <xs:element ref=\"shipto\"/>\n",
    "      <xs:element ref=\"item\" maxOccurs=\"unbounded\"/>\n",
    "    </xs:sequence>\n",
    "    <xs:attribute ref=\"orderid\" use=\"required\"/>\n",
    "  </xs:complexType>\n",
    "</xs:element>\n",
    "\n",
    "</xs:schema>"
   ]
  },
  {
   "cell_type": "markdown",
   "metadata": {
    "slideshow": {
     "slide_type": "slide"
    }
   },
   "source": [
    "## Final Validation"
   ]
  },
  {
   "cell_type": "code",
   "execution_count": 315,
   "metadata": {
    "hideCode": true,
    "hidePrompt": true,
    "slideshow": {
     "slide_type": "-"
    }
   },
   "outputs": [
    {
     "name": "stdout",
     "output_type": "stream",
     "text": [
      "XML document conforms to its XML Schema?\n",
      "True\n"
     ]
    }
   ],
   "source": [
    "import lxml.etree as ET\n",
    "\n",
    "dom = ET.parse('examples/shiporder.xml')\n",
    "xsd = ET.parse('examples/shiporder.xsd')\n",
    "xmlschema = ET.XMLSchema(xsd)\n",
    "print('XML document conforms to its XML Schema?')\n",
    "print(xmlschema.validate(dom))"
   ]
  },
  {
   "cell_type": "markdown",
   "metadata": {
    "hideCode": false,
    "hidePrompt": false,
    "slideshow": {
     "slide_type": "slide"
    }
   },
   "source": [
    "## Summary<img src=\"https://img.icons8.com/ios/summary-list/80\" style=\"display:inline-block;vertical-align:middle;padding:0 0 10px 10px\">\n",
    "* **XML Schema is very powerful**\n",
    "  * simple Types and complex Types\n",
    "  * many pre\\-defined types\n",
    "  * many ways to derive and create new types\n",
    "  * full control and flexibility\n",
    "  * fully inline with namespaces and other XML standards\n",
    "* **XML Schema is too powerful?**\n",
    "  * too complicated\\, confusing?\n",
    "  * difficult to implement\n",
    "  * people use only a fraction anyway"
   ]
  },
  {
   "cell_type": "markdown",
   "metadata": {
    "slideshow": {
     "slide_type": "slide"
    }
   },
   "source": [
    "# XSL Tutorial <img src=\"https://img.icons8.com/e-learning/80\" style=\"display:inline-block;vertical-align:middle;\">\n",
    "\n",
    "* Create an XML file based on the XSD provided:\n",
    "```XML\n",
    "<?xml version=\"1.0\"?>\n",
    "<xsd:schema xmlns:xsd=\"http://www.w3.org/2001/XMLSchema\">\n",
    "    <xsd:simpleType name=\"numeric\">\n",
    "        <xsd:restriction base=\"xsd:string\">\n",
    "            <xsd:pattern value=\"[0-­‐9]\" />\n",
    "        </xsd:restriction>\n",
    "    </xsd:simpleType>\n",
    "    <xsd:simpleType name=\"character\">\n",
    "        <xsd:restriction base=\"xsd:string\">\n",
    "            <xsd:pattern value=\"[A-­‐Z]\" />\n",
    "        </xsd:restriction>\n",
    "    </xsd:simpleType>\n",
    "    <xsd:element name=\"car\" type=\"character\" />\n",
    "    <xsd:element name=\"num\" type=\"numeric\" />\n",
    "    <xsd:element name=\"exercise\" type=\"Texercise\" />\n",
    "    <xsd:complexType name=\"Texercise\">\n",
    "        <xsd:sequence>\n",
    "            <xsd:element ref=\"car\" minOccurs=\"6\" maxOccurs=\"6\" />\n",
    "            <xsd:element ref=\"num\" minOccurs=\"2\" maxOccurs=\"2\" />\n",
    "            <xsd:element ref=\"car\" />\n",
    "            <xsd:element ref=\"num\" minOccurs=\"2\" maxOccurs=\"2\" />\n",
    "            <xsd:element ref=\"car\" />\n",
    "            <xsd:element ref=\"num\" minOccurs=\"3\" maxOccurs=\"3\" />\n",
    "            <xsd:element ref=\"car\" />\n",
    "        </xsd:sequence>\n",
    "    </xsd:complexType>\n",
    "</xsd:schema>\n",
    "```\n",
    "* Validate that your XML file conforms to that XSD with the use of online tools:\n",
    "    * [XML-XSD Validator](http://www.freeformatter.com/xml-validator-xsd.html)"
   ]
  }
 ],
 "metadata": {
  "celltoolbar": "Slideshow",
  "hide_code_all_hidden": false,
  "kernelspec": {
   "display_name": "Python 3",
   "language": "python",
   "name": "python3"
  },
  "language_info": {
   "codemirror_mode": {
    "name": "ipython",
    "version": 3
   },
   "file_extension": ".py",
   "mimetype": "text/x-python",
   "name": "python",
   "nbconvert_exporter": "python",
   "pygments_lexer": "ipython3",
   "version": "3.7.4"
  },
  "rise": {
   "autolaunch": true,
   "backgroundTransition": "slide",
   "controls": true,
   "enable_chalkboard": true,
   "overlay": "<div class='line top'></div><div class='line bottom'></div><div class='line left'></div><div class='line right'></div><div class='logo'><img src='../binder/logo.png'/></div>",
   "showSlideNumber": "speaker",
   "slideNumber": true,
   "theme": "simple",
   "transition": "slide"
  }
 },
 "nbformat": 4,
 "nbformat_minor": 2
}
