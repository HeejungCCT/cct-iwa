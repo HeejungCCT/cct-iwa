{
 "cells": [
  {
   "cell_type": "markdown",
   "metadata": {
    "slideshow": {
     "slide_type": "slide"
    }
   },
   "source": [
    "# Introduction to Interactive Web Applications 👨‍💻️ "
   ]
  },
  {
   "cell_type": "markdown",
   "metadata": {
    "slideshow": {
     "slide_type": ""
    }
   },
   "source": [
    "* Press `Space` to navigate through the slides\n",
    "* Use `Shift+Space` to go back"
   ]
  },
  {
   "cell_type": "markdown",
   "metadata": {
    "slideshow": {
     "slide_type": "slide"
    }
   },
   "source": [
    "# Module Structure 📖"
   ]
  },
  {
   "cell_type": "markdown",
   "metadata": {
    "cell_style": "center",
    "slideshow": {
     "slide_type": "fragment"
    }
   },
   "source": [
    "* Lecture\n",
    " * **Thursday** – 09:00-11:30 Group **A**\n",
    " * **Thursday** – 12:00-2:30 Group **B**"
   ]
  },
  {
   "cell_type": "markdown",
   "metadata": {
    "slideshow": {
     "slide_type": "fragment"
    }
   },
   "source": [
    "* Breakdown of assesments\n",
    " * **CA1** in Semester 1 – 25%\n",
    " * **CA2** in Semester 2 – 25%\n",
    " * **EXAM** – 50%"
   ]
  },
  {
   "cell_type": "markdown",
   "metadata": {
    "slideshow": {
     "slide_type": "fragment"
    }
   },
   "source": [
    "* 2% penalty per day for late submissions"
   ]
  },
  {
   "cell_type": "markdown",
   "metadata": {
    "slideshow": {
     "slide_type": "slide"
    }
   },
   "source": [
    "# Plagiarism 🚫"
   ]
  },
  {
   "cell_type": "markdown",
   "metadata": {
    "slideshow": {
     "slide_type": "fragment"
    }
   },
   "source": [
    "* **CCT** is constantly striving to build a culture which values and supports good academic conduct"
   ]
  },
  {
   "cell_type": "markdown",
   "metadata": {
    "slideshow": {
     "slide_type": "fragment"
    }
   },
   "source": [
    "* Academic dishonesty is **a serious offence** that will not be tolerated"
   ]
  },
  {
   "cell_type": "markdown",
   "metadata": {
    "slideshow": {
     "slide_type": "fragment"
    }
   },
   "source": [
    "* Students found to be involved in plagiarism will be brought before the **Academic Standards Board**"
   ]
  },
  {
   "cell_type": "markdown",
   "metadata": {
    "slideshow": {
     "slide_type": "slide"
    }
   },
   "source": [
    "# In-Class Technologies ⚙"
   ]
  },
  {
   "cell_type": "markdown",
   "metadata": {
    "slideshow": {
     "slide_type": "fragment"
    }
   },
   "source": [
    "* **GitHub** – http://github.com\n",
    "* **Slack** – http://slack.com\n",
    "* **Jupyter Notebook** – http://jupyter.com\n",
    "* **Binder** – http://mybinder.org\n",
    "* **Moodle** – http://moodle.cct.ie"
   ]
  },
  {
   "cell_type": "markdown",
   "metadata": {
    "slideshow": {
     "slide_type": "slide"
    }
   },
   "source": [
    "# A Brief History of Computing 🏺"
   ]
  },
  {
   "cell_type": "markdown",
   "metadata": {
    "slideshow": {
     "slide_type": "fragment"
    }
   },
   "source": [
    "* **pre-1960s:** IBM, first electronic computers"
   ]
  },
  {
   "cell_type": "markdown",
   "metadata": {
    "slideshow": {
     "slide_type": "fragment"
    }
   },
   "source": [
    "* **1960s:** Intel, file system, mainframes"
   ]
  },
  {
   "cell_type": "markdown",
   "metadata": {
    "slideshow": {
     "slide_type": "fragment"
    }
   },
   "source": [
    "* **1970s:** Microsoft, Apple, Unix, first personal computers"
   ]
  },
  {
   "cell_type": "markdown",
   "metadata": {
    "slideshow": {
     "slide_type": "fragment"
    }
   },
   "source": [
    "* **1980s:** Era of PCs, MS-DOS, Internet"
   ]
  },
  {
   "cell_type": "markdown",
   "metadata": {
    "slideshow": {
     "slide_type": "fragment"
    }
   },
   "source": [
    "* **1990-2000s:** Rise of WWW, client-server, Web 2.0"
   ]
  },
  {
   "cell_type": "markdown",
   "metadata": {
    "slideshow": {
     "slide_type": "slide"
    }
   },
   "source": [
    "# Server-Side Scripting 🖥️"
   ]
  },
  {
   "cell_type": "markdown",
   "metadata": {},
   "source": [
    "* Access to server-side environment\n",
    "* Database interactions\n",
    "* Access to server file-system\n",
    "* Authentication / Authorisation\n",
    "* Process requests and construct appropriate responses"
   ]
  },
  {
   "cell_type": "markdown",
   "metadata": {
    "slideshow": {
     "slide_type": "fragment"
    }
   },
   "source": [
    "* **PHP, Perl, Ruby, Node.js and other solutions**"
   ]
  },
  {
   "cell_type": "markdown",
   "metadata": {
    "slideshow": {
     "slide_type": "slide"
    }
   },
   "source": [
    "# Client-Side Scripting 💻"
   ]
  },
  {
   "cell_type": "markdown",
   "metadata": {},
   "source": [
    "* Access to client-side environment – typically a browser\n",
    "* Manipulate client-side environment\n",
    "* Respond to client-side events\n",
    "* Perform client-side validation of data\n",
    "* Security restrictions in place"
   ]
  },
  {
   "cell_type": "markdown",
   "metadata": {
    "slideshow": {
     "slide_type": "fragment"
    }
   },
   "source": [
    "* **JavaScript and its frameworks**"
   ]
  },
  {
   "cell_type": "markdown",
   "metadata": {
    "slideshow": {
     "slide_type": "slide"
    }
   },
   "source": [
    "# Data Exchange ♻️"
   ]
  },
  {
   "cell_type": "markdown",
   "metadata": {},
   "source": [
    "There are four central problems in data management:\n",
    "* Capture\n",
    "* Storage\n",
    "* Retrieval\n",
    "* Exchange of data"
   ]
  },
  {
   "cell_type": "markdown",
   "metadata": {
    "slideshow": {
     "slide_type": "fragment"
    }
   },
   "source": [
    "**RDF, XML, Atom, JSON, YAML, REBOL, Gellish**"
   ]
  },
  {
   "cell_type": "markdown",
   "metadata": {
    "cell_style": "split",
    "slideshow": {
     "slide_type": "slide"
    }
   },
   "source": [
    "# eXtensible Markup Language 🗒️"
   ]
  },
  {
   "cell_type": "markdown",
   "metadata": {
    "slideshow": {
     "slide_type": "fragment"
    }
   },
   "source": [
    "The popularity of **XML** for data exchange on the **World Wide Web** has several reasons:\n",
    "* Closely related to the preexisting standards **Standard Generalised Markup Language (SGML)** and **Hypertext Markup Language (HTML)**\n",
    "* **XHTML** has been defined as a format that is formal **XML**, but understood correctly by most **HTML** parsers\n",
    "* The design goals of **XML** emphasise simplicity, generality, and usability across the Internet"
   ]
  },
  {
   "cell_type": "markdown",
   "metadata": {
    "slideshow": {
     "slide_type": "subslide"
    }
   },
   "source": [
    "* **XML** stands for eXtensible Markup Language\n",
    "* **XML** is a mark-up language much like HTML\n",
    "* **XML** was designed to carry data, not to display data\n",
    "* **XML** tags are not predefined – **you define your own tags!**\n",
    "* **XML** is designed to be self-descriptive\n",
    "* **XML** is a W3C Recommendation"
   ]
  },
  {
   "cell_type": "markdown",
   "metadata": {
    "slideshow": {
     "slide_type": "fragment"
    }
   },
   "source": [
    "* Maybe a little hard to conceptualise, but **XML** ***does not DO anything***.\n",
    "* **XML** was created to structure, store, and transport information."
   ]
  },
  {
   "cell_type": "code",
   "execution_count": 29,
   "metadata": {
    "slideshow": {
     "slide_type": "subslide"
    }
   },
   "outputs": [
    {
     "data": {
      "text/html": [
       "\n",
       "    <div class=a216b3c2e-0735-45ce-a1fd-3c60526afd88> \n",
       "        <style>\n",
       "            div.a216b3c2e-0735-45ce-a1fd-3c60526afd88 .hll { background-color: #ffffcc }\n",
       "div.a216b3c2e-0735-45ce-a1fd-3c60526afd88 .c { color: #408080; font-style: italic } /* Comment */\n",
       "div.a216b3c2e-0735-45ce-a1fd-3c60526afd88 .err { border: 1px solid #FF0000 } /* Error */\n",
       "div.a216b3c2e-0735-45ce-a1fd-3c60526afd88 .k { color: #008000; font-weight: bold } /* Keyword */\n",
       "div.a216b3c2e-0735-45ce-a1fd-3c60526afd88 .o { color: #666666 } /* Operator */\n",
       "div.a216b3c2e-0735-45ce-a1fd-3c60526afd88 .ch { color: #408080; font-style: italic } /* Comment.Hashbang */\n",
       "div.a216b3c2e-0735-45ce-a1fd-3c60526afd88 .cm { color: #408080; font-style: italic } /* Comment.Multiline */\n",
       "div.a216b3c2e-0735-45ce-a1fd-3c60526afd88 .cp { color: #BC7A00 } /* Comment.Preproc */\n",
       "div.a216b3c2e-0735-45ce-a1fd-3c60526afd88 .cpf { color: #408080; font-style: italic } /* Comment.PreprocFile */\n",
       "div.a216b3c2e-0735-45ce-a1fd-3c60526afd88 .c1 { color: #408080; font-style: italic } /* Comment.Single */\n",
       "div.a216b3c2e-0735-45ce-a1fd-3c60526afd88 .cs { color: #408080; font-style: italic } /* Comment.Special */\n",
       "div.a216b3c2e-0735-45ce-a1fd-3c60526afd88 .gd { color: #A00000 } /* Generic.Deleted */\n",
       "div.a216b3c2e-0735-45ce-a1fd-3c60526afd88 .ge { font-style: italic } /* Generic.Emph */\n",
       "div.a216b3c2e-0735-45ce-a1fd-3c60526afd88 .gr { color: #FF0000 } /* Generic.Error */\n",
       "div.a216b3c2e-0735-45ce-a1fd-3c60526afd88 .gh { color: #000080; font-weight: bold } /* Generic.Heading */\n",
       "div.a216b3c2e-0735-45ce-a1fd-3c60526afd88 .gi { color: #00A000 } /* Generic.Inserted */\n",
       "div.a216b3c2e-0735-45ce-a1fd-3c60526afd88 .go { color: #888888 } /* Generic.Output */\n",
       "div.a216b3c2e-0735-45ce-a1fd-3c60526afd88 .gp { color: #000080; font-weight: bold } /* Generic.Prompt */\n",
       "div.a216b3c2e-0735-45ce-a1fd-3c60526afd88 .gs { font-weight: bold } /* Generic.Strong */\n",
       "div.a216b3c2e-0735-45ce-a1fd-3c60526afd88 .gu { color: #800080; font-weight: bold } /* Generic.Subheading */\n",
       "div.a216b3c2e-0735-45ce-a1fd-3c60526afd88 .gt { color: #0044DD } /* Generic.Traceback */\n",
       "div.a216b3c2e-0735-45ce-a1fd-3c60526afd88 .kc { color: #008000; font-weight: bold } /* Keyword.Constant */\n",
       "div.a216b3c2e-0735-45ce-a1fd-3c60526afd88 .kd { color: #008000; font-weight: bold } /* Keyword.Declaration */\n",
       "div.a216b3c2e-0735-45ce-a1fd-3c60526afd88 .kn { color: #008000; font-weight: bold } /* Keyword.Namespace */\n",
       "div.a216b3c2e-0735-45ce-a1fd-3c60526afd88 .kp { color: #008000 } /* Keyword.Pseudo */\n",
       "div.a216b3c2e-0735-45ce-a1fd-3c60526afd88 .kr { color: #008000; font-weight: bold } /* Keyword.Reserved */\n",
       "div.a216b3c2e-0735-45ce-a1fd-3c60526afd88 .kt { color: #B00040 } /* Keyword.Type */\n",
       "div.a216b3c2e-0735-45ce-a1fd-3c60526afd88 .m { color: #666666 } /* Literal.Number */\n",
       "div.a216b3c2e-0735-45ce-a1fd-3c60526afd88 .s { color: #BA2121 } /* Literal.String */\n",
       "div.a216b3c2e-0735-45ce-a1fd-3c60526afd88 .na { color: #7D9029 } /* Name.Attribute */\n",
       "div.a216b3c2e-0735-45ce-a1fd-3c60526afd88 .nb { color: #008000 } /* Name.Builtin */\n",
       "div.a216b3c2e-0735-45ce-a1fd-3c60526afd88 .nc { color: #0000FF; font-weight: bold } /* Name.Class */\n",
       "div.a216b3c2e-0735-45ce-a1fd-3c60526afd88 .no { color: #880000 } /* Name.Constant */\n",
       "div.a216b3c2e-0735-45ce-a1fd-3c60526afd88 .nd { color: #AA22FF } /* Name.Decorator */\n",
       "div.a216b3c2e-0735-45ce-a1fd-3c60526afd88 .ni { color: #999999; font-weight: bold } /* Name.Entity */\n",
       "div.a216b3c2e-0735-45ce-a1fd-3c60526afd88 .ne { color: #D2413A; font-weight: bold } /* Name.Exception */\n",
       "div.a216b3c2e-0735-45ce-a1fd-3c60526afd88 .nf { color: #0000FF } /* Name.Function */\n",
       "div.a216b3c2e-0735-45ce-a1fd-3c60526afd88 .nl { color: #A0A000 } /* Name.Label */\n",
       "div.a216b3c2e-0735-45ce-a1fd-3c60526afd88 .nn { color: #0000FF; font-weight: bold } /* Name.Namespace */\n",
       "div.a216b3c2e-0735-45ce-a1fd-3c60526afd88 .nt { color: #008000; font-weight: bold } /* Name.Tag */\n",
       "div.a216b3c2e-0735-45ce-a1fd-3c60526afd88 .nv { color: #19177C } /* Name.Variable */\n",
       "div.a216b3c2e-0735-45ce-a1fd-3c60526afd88 .ow { color: #AA22FF; font-weight: bold } /* Operator.Word */\n",
       "div.a216b3c2e-0735-45ce-a1fd-3c60526afd88 .w { color: #bbbbbb } /* Text.Whitespace */\n",
       "div.a216b3c2e-0735-45ce-a1fd-3c60526afd88 .mb { color: #666666 } /* Literal.Number.Bin */\n",
       "div.a216b3c2e-0735-45ce-a1fd-3c60526afd88 .mf { color: #666666 } /* Literal.Number.Float */\n",
       "div.a216b3c2e-0735-45ce-a1fd-3c60526afd88 .mh { color: #666666 } /* Literal.Number.Hex */\n",
       "div.a216b3c2e-0735-45ce-a1fd-3c60526afd88 .mi { color: #666666 } /* Literal.Number.Integer */\n",
       "div.a216b3c2e-0735-45ce-a1fd-3c60526afd88 .mo { color: #666666 } /* Literal.Number.Oct */\n",
       "div.a216b3c2e-0735-45ce-a1fd-3c60526afd88 .sa { color: #BA2121 } /* Literal.String.Affix */\n",
       "div.a216b3c2e-0735-45ce-a1fd-3c60526afd88 .sb { color: #BA2121 } /* Literal.String.Backtick */\n",
       "div.a216b3c2e-0735-45ce-a1fd-3c60526afd88 .sc { color: #BA2121 } /* Literal.String.Char */\n",
       "div.a216b3c2e-0735-45ce-a1fd-3c60526afd88 .dl { color: #BA2121 } /* Literal.String.Delimiter */\n",
       "div.a216b3c2e-0735-45ce-a1fd-3c60526afd88 .sd { color: #BA2121; font-style: italic } /* Literal.String.Doc */\n",
       "div.a216b3c2e-0735-45ce-a1fd-3c60526afd88 .s2 { color: #BA2121 } /* Literal.String.Double */\n",
       "div.a216b3c2e-0735-45ce-a1fd-3c60526afd88 .se { color: #BB6622; font-weight: bold } /* Literal.String.Escape */\n",
       "div.a216b3c2e-0735-45ce-a1fd-3c60526afd88 .sh { color: #BA2121 } /* Literal.String.Heredoc */\n",
       "div.a216b3c2e-0735-45ce-a1fd-3c60526afd88 .si { color: #BB6688; font-weight: bold } /* Literal.String.Interpol */\n",
       "div.a216b3c2e-0735-45ce-a1fd-3c60526afd88 .sx { color: #008000 } /* Literal.String.Other */\n",
       "div.a216b3c2e-0735-45ce-a1fd-3c60526afd88 .sr { color: #BB6688 } /* Literal.String.Regex */\n",
       "div.a216b3c2e-0735-45ce-a1fd-3c60526afd88 .s1 { color: #BA2121 } /* Literal.String.Single */\n",
       "div.a216b3c2e-0735-45ce-a1fd-3c60526afd88 .ss { color: #19177C } /* Literal.String.Symbol */\n",
       "div.a216b3c2e-0735-45ce-a1fd-3c60526afd88 .bp { color: #008000 } /* Name.Builtin.Pseudo */\n",
       "div.a216b3c2e-0735-45ce-a1fd-3c60526afd88 .fm { color: #0000FF } /* Name.Function.Magic */\n",
       "div.a216b3c2e-0735-45ce-a1fd-3c60526afd88 .vc { color: #19177C } /* Name.Variable.Class */\n",
       "div.a216b3c2e-0735-45ce-a1fd-3c60526afd88 .vg { color: #19177C } /* Name.Variable.Global */\n",
       "div.a216b3c2e-0735-45ce-a1fd-3c60526afd88 .vi { color: #19177C } /* Name.Variable.Instance */\n",
       "div.a216b3c2e-0735-45ce-a1fd-3c60526afd88 .vm { color: #19177C } /* Name.Variable.Magic */\n",
       "div.a216b3c2e-0735-45ce-a1fd-3c60526afd88 .il { color: #666666 } /* Literal.Number.Integer.Long */\n",
       "        </style>\n",
       "        <div class=\"highlight\"><pre><span></span><span class=\"nt\">&lt;note&gt;</span>\n",
       "  <span class=\"nt\">&lt;to&gt;</span>Tove<span class=\"nt\">&lt;/to&gt;</span>\n",
       "  <span class=\"nt\">&lt;from&gt;</span>Jani<span class=\"nt\">&lt;/from&gt;</span>\n",
       "  <span class=\"nt\">&lt;heading&gt;</span>Reminder<span class=\"nt\">&lt;/heading&gt;</span>\n",
       "  <span class=\"nt\">&lt;body&gt;</span>Don&#39;t forget me this weekend!<span class=\"nt\">&lt;/body&gt;</span>\n",
       "<span class=\"nt\">&lt;/note&gt;</span>\n",
       "</pre></div>\n",
       "\n",
       "    </div>\n",
       "    "
      ],
      "text/plain": [
       "<display_xml.xml.XML at 0x1091c4240>"
      ]
     },
     "execution_count": 29,
     "metadata": {},
     "output_type": "execute_result"
    }
   ],
   "source": [
    "from display_xml import XML\n",
    "XML('<note><to>Tove</to><from>Jani</from><heading>Reminder</heading><body>Don&apos;t forget me this weekend!</body></note>')"
   ]
  },
  {
   "cell_type": "markdown",
   "metadata": {
    "slideshow": {
     "slide_type": "fragment"
    }
   },
   "source": [
    "* The note above is quite self descriptive\n",
    "* It has sender and receiver information, it also has a heading and a message body\n",
    "* But still, this XML document does **not do anything**\n",
    "* It is just information wrapped in tags\n",
    "* Someone must write a piece of software to send, receive or display it.\n"
   ]
  },
  {
   "cell_type": "markdown",
   "metadata": {
    "slideshow": {
     "slide_type": "slide"
    }
   },
   "source": [
    "# XML 🕵\n",
    "* **eXtensible Mark-up Language (XML)** is a mark-up language that defines a set of rules for encoding documents in a format that is both human-readable and machine-readable\n",
    "* Many **application programming interfaces (APIs)** have been developed for software developers to use to process **XML** data, and several schema systems exist to aid in the definition of **XML-based languages**."
   ]
  },
  {
   "cell_type": "markdown",
   "metadata": {
    "slideshow": {
     "slide_type": "subslide"
    }
   },
   "source": [
    "# Why XML is needed? 🤷\n",
    "\n",
    "* **XML** provides a robust and durable format for information storage and transmission\n",
    "* Displaying the same data in multiple formats \n",
    "* Information tailored to fit the needs of the reader \n",
    "* Moving the processing load from the web server to the client"
   ]
  },
  {
   "cell_type": "markdown",
   "metadata": {
    "slideshow": {
     "slide_type": "slide"
    }
   },
   "source": [
    "# Benefits of XML 🌟\n",
    "\n",
    "* Programmers structure data in an infinite variety of ways\n",
    "* With every new way of structuring data comes a new methodology for extracting the information we need\n",
    "* If the data changes, the methodologies also have to change, and testing and tweaking begin again\n",
    "* With **XML** there is a standardised way to get the information, no matter how we structure it"
   ]
  },
  {
   "cell_type": "markdown",
   "metadata": {
    "slideshow": {
     "slide_type": "subslide"
    }
   },
   "source": [
    "* We have control over how we structure our **XML** files\n",
    "* The data can be marked-up in any way we choose\n",
    "* Agreed standard formats to perform common tasks can make data exchange between applications easier\n",
    " * Scalable vector graphics **(SVG)** describes 2D graphics\n",
    " * **MathML** used to describe mathematics"
   ]
  },
  {
   "cell_type": "markdown",
   "metadata": {
    "slideshow": {
     "slide_type": "slide"
    }
   },
   "source": [
    "# HTML, XML, CSS 🌐 \n",
    "\n",
    "* **HTML** for display\n",
    "* **XML** for data exchange\n",
    "* **HTML** is designed for a specific application and to convey information visually in a browser\n",
    "* Because **HTML** has a specific application it is also restricted by having a specific set of finite markup constructs that are used to create an **HTML** document\n",
    "* **CSS** is used with HTML and XML to display the contents of a document in a clear and precise manner."
   ]
  },
  {
   "cell_type": "markdown",
   "metadata": {
    "slideshow": {
     "slide_type": "slide"
    }
   },
   "source": [
    "# Summary 🕶️\n"
   ]
  },
  {
   "cell_type": "markdown",
   "metadata": {},
   "source": [
    "* Evolution of computing\n",
    "* Server-side & Client-side\n",
    "* Data exchange and XML\n",
    "* Uses and benefits of XML\n",
    "* HTML, XML and CSS"
   ]
  }
 ],
 "metadata": {
  "celltoolbar": "Slideshow",
  "kernelspec": {
   "display_name": "Python 3",
   "language": "python",
   "name": "python3"
  },
  "language_info": {
   "codemirror_mode": {
    "name": "ipython",
    "version": 3
   },
   "file_extension": ".py",
   "mimetype": "text/x-python",
   "name": "python",
   "nbconvert_exporter": "python",
   "pygments_lexer": "ipython3",
   "version": "3.7.3"
  },
  "rise": {
   "autolaunch": true,
   "backgroundTransition": "slide",
   "controls": true,
   "enable_chalkboard": true,
   "overlay": "<div class='line top'></div><div class='line bottom'></div><div class='line left'></div><div class='line right'></div>",
   "showSlideNumber": "speaker",
   "slideNumber": true,
   "transition": "slide"
  }
 },
 "nbformat": 4,
 "nbformat_minor": 2
}
