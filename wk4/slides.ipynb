{
 "cells": [
  {
   "cell_type": "code",
   "execution_count": 606,
   "metadata": {
    "scrolled": false,
    "slideshow": {
     "slide_type": "skip"
    }
   },
   "outputs": [
    {
     "data": {
      "text/html": [
       "<script>\n",
       "    // AUTORUN ALL CELLS ON NOTEBOOK-LOAD!\n",
       "    require(\n",
       "        ['base/js/namespace', 'jquery'], \n",
       "        function(jupyter, $) {\n",
       "            $(jupyter.events).on(\"kernel_ready.Kernel\", function () {\n",
       "                console.log(\"Auto-running all cells-below...\");\n",
       "                jupyter.actions.call('jupyter-notebook:run-all-cells-below');\n",
       "                jupyter.actions.call('jupyter-notebook:save-notebook');\n",
       "            });\n",
       "        }\n",
       "    );\n",
       "</script>\n",
       "<style type=\"text/css\">\n",
       ".CodeMirror {width: 100vw}\n",
       ".container {width: 95% !important}\n",
       ".rendered_html {font-size:0.8em}\n",
       ".rendered_html table, .rendered_html th, .rendered_html tr, .rendered_html td {font-size: 100%}\n",
       "table td, table th {\n",
       "border: 1px  black solid !important;\n",
       "color: black !important;\n",
       "background-color: white;\n",
       "font-size:2.4em;\n",
       "}\n",
       "hr {\n",
       "    border: 0;\n",
       "    height: 1px;\n",
       "    background: #333;\n",
       "    background-image: linear-gradient(to right, #ccc, #333, #ccc);}\n",
       "</style>\n"
      ],
      "text/plain": [
       "<IPython.core.display.HTML object>"
      ]
     },
     "metadata": {},
     "output_type": "display_data"
    }
   ],
   "source": [
    "%%HTML\n",
    "<script>\n",
    "    // AUTORUN ALL CELLS ON NOTEBOOK-LOAD!\n",
    "    require(\n",
    "        ['base/js/namespace', 'jquery'], \n",
    "        function(jupyter, $) {\n",
    "            $(jupyter.events).on(\"kernel_ready.Kernel\", function () {\n",
    "                console.log(\"Auto-running all cells-below...\");\n",
    "                jupyter.actions.call('jupyter-notebook:run-all-cells-below');\n",
    "                jupyter.actions.call('jupyter-notebook:save-notebook');\n",
    "            });\n",
    "        }\n",
    "    );\n",
    "</script>\n",
    "<style type=\"text/css\">\n",
    ".CodeMirror {width: 100vw}\n",
    ".container {width: 95% !important}\n",
    ".rendered_html {font-size:0.8em}\n",
    ".rendered_html table, .rendered_html th, .rendered_html tr, .rendered_html td {font-size: 100%}\n",
    "table td, table th {\n",
    "border: 1px  black solid !important;\n",
    "color: black !important;\n",
    "background-color: white;\n",
    "font-size:2.4em;\n",
    "}\n",
    "hr {\n",
    "    border: 0;\n",
    "    height: 1px;\n",
    "    background: #333;\n",
    "    background-image: linear-gradient(to right, #ccc, #333, #ccc);}\n",
    "</style>"
   ]
  },
  {
   "cell_type": "markdown",
   "metadata": {
    "slideshow": {
     "slide_type": "slide"
    }
   },
   "source": [
    "# XSLT<img src=\"https://img.icons8.com/change/80\" style=\"display:inline-block;vertical-align:middle;\">"
   ]
  },
  {
   "cell_type": "markdown",
   "metadata": {
    "slideshow": {
     "slide_type": ""
    }
   },
   "source": [
    "* Press `Space` to navigate through the slides\n",
    "* Use `Shift+Space` to go back"
   ]
  },
  {
   "cell_type": "markdown",
   "metadata": {
    "slideshow": {
     "slide_type": "slide"
    }
   },
   "source": [
    "## Introduction to XSL <img src=\"https://img.icons8.com/stop-property/80\" style=\"display:inline-block;vertical-align:middle;\">"
   ]
  },
  {
   "cell_type": "markdown",
   "metadata": {
    "slideshow": {
     "slide_type": "fragment"
    }
   },
   "source": [
    "* **eXtensible Stylesheet Language** consists of:\n",
    "    * A language for **transforming XML** documents\n",
    "    * A language for **specifying formatting properties**\n",
    "* Based on existing style sheets languages:\n",
    "    * **Document Style Semantics and Specification Language (DSSSL)**\n",
    "    * **Cascading Style Sheets (CSS)**\n",
    "* A style sheet language specifically for XML documents\n",
    "* Uses an XML syntax\n",
    "* XSL is a combination of three specifications:\n",
    "    * **XML Path Language (XPath)**\n",
    "    * **XSL Transformations (XSLT)**\n",
    "    * **XSL-FO (Formatting Objects)**"
   ]
  },
  {
   "cell_type": "markdown",
   "metadata": {
    "slideshow": {
     "slide_type": "slide"
    }
   },
   "source": [
    "## What is XSLT?<img src=\"https://img.icons8.com/material/xml-transformer/80\" style=\"display:inline-block;vertical-align:middle;\">"
   ]
  },
  {
   "cell_type": "markdown",
   "metadata": {
    "slideshow": {
     "slide_type": "-"
    }
   },
   "source": [
    "* **eXtensible Stylesheet Language Transformations** \n",
    "* **Language** for transforming XML documents into other XML/other documents\n",
    "    * More generally input can be any document as longas it is represented as tree\n",
    "* Uses a collection of **templates (rules)** to transform the source document\n",
    "* **XPath** is used to select the parts of a sourcedocument to transform\n",
    "* Server-side/client-side execution\n"
   ]
  },
  {
   "cell_type": "markdown",
   "metadata": {
    "slideshow": {
     "slide_type": "slide"
    }
   },
   "source": [
    "## Why use XSLT?<img src=\"https://img.icons8.com/material/xml-transformer/80\" style=\"display:inline-block;vertical-align:middle;\">"
   ]
  },
  {
   "cell_type": "markdown",
   "metadata": {
    "slideshow": {
     "slide_type": "-"
    }
   },
   "source": [
    "* Powerful transformation functionality, i.e. **XML conversion**\n",
    "* An XML document may be completely **re-structured**\n",
    "    * **XML** to **HTML**\n",
    "    * **XML** to **TXT**\n",
    "    * **XML** to **JSON**\n",
    "    * **XML** to **?**\n",
    "* A variety of **XSLT processors** are available\n",
    "* Easy and fast **prototyping** is possible\n"
   ]
  },
  {
   "cell_type": "markdown",
   "metadata": {
    "slideshow": {
     "slide_type": "slide"
    }
   },
   "source": [
    "## Inputs and Outputs in XSLT<img src=\"https://img.icons8.com/conversion/80\" style=\"display:inline-block;vertical-align:middle;\">\n",
    "<center><img src=\"https://upload.wikimedia.org/wikipedia/commons/thumb/e/e6/XSLT_en.svg/440px-XSLT_en.svg.png\" width=\"380px\"></center>"
   ]
  },
  {
   "cell_type": "markdown",
   "metadata": {
    "cell_style": "center",
    "slideshow": {
     "slide_type": "slide"
    }
   },
   "source": [
    "## Node Types in XML\n",
    "* **Document Node:** complete XML document structure is a document node.\n",
    "\n",
    "* **Element Node:** every XML element is an element node.\n",
    "    * This is also the only type of node that can have attributes.\n",
    "\n",
    "* **Attribute Node:** each attribute is considered an attribute node.\n",
    "    * It contains information about an element node, but is not actually considered to be children of the element.\n",
    "* **Text Node:** the document texts are considered as text node.\n",
    "    * It can consist of more information or just white space."
   ]
  },
  {
   "cell_type": "markdown",
   "metadata": {
    "slideshow": {
     "slide_type": "slide"
    }
   },
   "source": [
    "## Less Common Node Types"
   ]
  },
  {
   "cell_type": "markdown",
   "metadata": {
    "cell_style": "split",
    "hideCode": false,
    "slideshow": {
     "slide_type": "-"
    }
   },
   "source": [
    "* **CData Node:** this node contains information that should not be analysed by the parser.\n",
    "* **Comment Node:** this node includes information about the data, and is usually ignored by the application.\n",
    "* **Processing Instructions Node:** this node contains information specifically aimed at the application.\n",
    "* **Document Fragments Node**, **Entities Node**, **Entity reference nodes**, **Notations Node**"
   ]
  },
  {
   "cell_type": "markdown",
   "metadata": {
    "cell_style": "split"
   },
   "source": [
    "<center><img src=\"https://www.tutorialspoint.com/dom/images/xml_dom_nodes.jpg\"></center>"
   ]
  },
  {
   "cell_type": "markdown",
   "metadata": {
    "cell_style": "center",
    "slideshow": {
     "slide_type": "slide"
    }
   },
   "source": [
    "## xslt:template\n",
    "* The `<xsl:template>` element is used to build templates\n",
    "* Elements in a template body classified as either **data node** or **instruction**\n",
    "    * `<html>...</html>` and `<body>...</body>` below are **data nodes**\n",
    "    * `<xsl:value-of select=\"//message\" />` is an **instruction**\n",
    "\n",
    "```\n",
    "<xsl:template match=\"/\">\n",
    "    <html>\n",
    "        <body>\n",
    "            <h1><xsl:value-of select=\"//message\" /></h1>\n",
    "        </body>\n",
    "    </html>\n",
    "</xsl:template>\n",
    "```"
   ]
  },
  {
   "cell_type": "markdown",
   "metadata": {
    "cell_style": "center",
    "slideshow": {
     "slide_type": "slide"
    }
   },
   "source": [
    "## xslt:template\n",
    "```\n",
    "<xsl:template match=\"/\">\n",
    "    <html>\n",
    "        <body>\n",
    "            <h1><xsl:value-of select=\"//message\" /></h1>\n",
    "        </body>\n",
    "    </html>\n",
    "</xsl:template>\n",
    "```\n",
    "* The `match` attribute is used to associate a template with an XML element\n",
    "* The `match` can also be used to define a template for the entire XML document.\n",
    "* The value of the `match` attribute is an **XPath expression** (i.e. `match=\"/\"` defines the whole document)."
   ]
  },
  {
   "cell_type": "markdown",
   "metadata": {
    "slideshow": {
     "slide_type": "slide"
    }
   },
   "source": [
    "## Example"
   ]
  },
  {
   "cell_type": "code",
   "execution_count": null,
   "metadata": {
    "cell_style": "center",
    "scrolled": false,
    "slideshow": {
     "slide_type": "fragment"
    }
   },
   "outputs": [],
   "source": [
    "# %load examples/test.xml\n",
    "<?xml version=\"1.0\"?>\n",
    "<document>\n",
    "    <message>It worked</message>\n",
    "</document>\n"
   ]
  },
  {
   "cell_type": "code",
   "execution_count": null,
   "metadata": {
    "cell_style": "center",
    "scrolled": false,
    "slideshow": {
     "slide_type": "fragment"
    }
   },
   "outputs": [],
   "source": [
    "# %load examples/test.xsl\n",
    "<?xml version=\"1.0\"?>\n",
    "<xsl:transform xmlns:xsl=\"http://www.w3.org/1999/XSL/Transform\" version=\"1.0\">\n",
    "<xsl:template match=\"/\">\n",
    "    <html>\n",
    "        <body>\n",
    "            <h1><xsl:value-of select=\"//message\" /></h1>\n",
    "        </body>\n",
    "    </html>\n",
    "</xsl:template>\n",
    "</xsl:transform>"
   ]
  },
  {
   "cell_type": "markdown",
   "metadata": {
    "slideshow": {
     "slide_type": "slide"
    }
   },
   "source": [
    "## Result"
   ]
  },
  {
   "cell_type": "code",
   "execution_count": 607,
   "metadata": {
    "hideCode": true,
    "hidePrompt": true,
    "scrolled": true,
    "slideshow": {
     "slide_type": "-"
    }
   },
   "outputs": [
    {
     "name": "stdout",
     "output_type": "stream",
     "text": [
      "<html>\n",
      " <body>\n",
      "  <h1>\n",
      "   It worked\n",
      "  </h1>\n",
      " </body>\n",
      "</html>\n",
      "\n"
     ]
    },
    {
     "data": {
      "text/html": [
       "<html>\n",
       " <body>\n",
       "  <h1>\n",
       "   It worked\n",
       "  </h1>\n",
       " </body>\n",
       "</html>\n"
      ],
      "text/plain": [
       "<IPython.core.display.HTML object>"
      ]
     },
     "metadata": {},
     "output_type": "display_data"
    }
   ],
   "source": [
    "from IPython.core.display import display, HTML\n",
    "from bs4 import BeautifulSoup\n",
    "from io import StringIO\n",
    "import lxml.etree as ET\n",
    "\n",
    "dom = ET.parse('test.xml')\n",
    "xslt = ET.parse('test.xsl')\n",
    "transform = ET.XSLT(xslt)\n",
    "newdom = transform(dom)\n",
    "result = BeautifulSoup(ET.tostring(newdom, pretty_print=True))\n",
    "print(result.prettify())\n",
    "\n",
    "display(HTML(result.prettify()))"
   ]
  },
  {
   "cell_type": "markdown",
   "metadata": {
    "slideshow": {
     "slide_type": "slide"
    }
   },
   "source": [
    "## product.xml"
   ]
  },
  {
   "cell_type": "code",
   "execution_count": null,
   "metadata": {
    "cell_style": "center",
    "scrolled": false,
    "slideshow": {
     "slide_type": "-"
    }
   },
   "outputs": [],
   "source": [
    "# %load examples/product.xml\n",
    "<?xml version=\"1.0\"?>\n",
    "<products>\n",
    "    <vendor webvendor=\"full\" id=\"conners\">\n",
    "        <vendor_name>Conners Chair Company</vendor_name>\n",
    "        <advertisement>\n",
    "            <ad_sentence>\n",
    "  Conners Chair Company presents their annual big three day only chair sale. We're making way for our new stock! \n",
    "  <b>All current inventory must go!</b> \n",
    "  Regular prices slashed by up to 60%! \n",
    "  </ad_sentence>\n",
    "        </advertisement>\n",
    "        <product>\n",
    "            <product_id>QA3452</product_id>\n",
    "            <short_desc>Queen Anne Chair</short_desc>\n",
    "            <price pricetype=\"cost\">$85</price>\n",
    "            <price pricetype=\"sale\">$125</price>\n",
    "            <price pricetype=\"retail\">$195</price>\n",
    "            <inventory color=\"royal blue\" location=\"warehouse\">12</inventory>\n",
    "            <inventory color=\"royal blue\" location=\"showroom\">5</inventory>\n",
    "            <inventory color=\"flower print\" location=\"warehouse\">16</inventory>\n",
    "            <inventory color=\"flower print\" location=\"showroom\">3</inventory>\n",
    "            <inventory color=\"seafoam green\" location=\"warehouse\">20</inventory>\n",
    "            <inventory color=\"teal\" location=\"warehouse\">14</inventory>\n",
    "            <inventory color=\"burgundy\" location=\"warehouse\">34</inventory>\n",
    "            <giveaway>\n",
    "                <giveaway_item>Matching Ottoman included</giveaway_item>\n",
    "                <giveaway_desc>while supplies last</giveaway_desc>\n",
    "            </giveaway>\n",
    "        </product>\n",
    "        <product>\n",
    "            <product_id>RC2342</product_id>\n",
    "            <short_desc>Early American Rocking Chair</short_desc>\n",
    "            <product_desc>with brown and tan plaid upholstery</product_desc>\n",
    "            <price pricetype=\"cost\">$75</price>\n",
    "            <price pricetype=\"sale\">$62</price>\n",
    "            <price pricetype=\"retail\">$120</price>\n",
    "            <inventory location=\"warehouse\">40</inventory>\n",
    "            <inventory location=\"showroom\">2</inventory>\n",
    "        </product>\n",
    "        <product>\n",
    "            <product_id>BR3452</product_id>\n",
    "            <short_desc>Bentwood Rocker</short_desc>\n",
    "            <price pricetype=\"cost\">$125</price>\n",
    "            <price pricetype=\"sale\">$160</price>\n",
    "            <price pricetype=\"retail\">$210</price>\n",
    "            <inventory location=\"showroom\">3</inventory>\n",
    "        </product>\n",
    "    </vendor>\n",
    "    <vendor webvendor=\"partial\" id=\"wally\">\n",
    "        <vendor_name>Wally's Wonderful World of Furniture</vendor_name>\n",
    "        <advertisement>\n",
    "            <ad_sentence>Wally's Wonderful World of Furniture is closing its doors forever. Last chance to get great bargains. Make us an offer. We can't refuse!</ad_sentence>\n",
    "        </advertisement>\n",
    "        <suite>\n",
    "            <product_id>CDRS</product_id>\n",
    "            <short_desc>Complete Dining Room Set</short_desc>\n",
    "            <long_desc>This five piece dining site set features swivel chairs with cushions in five exciting colors.</long_desc>\n",
    "            <price pricetype=\"cost\">$435</price>\n",
    "            <price pricetype=\"sale\">$699</price>\n",
    "            <price pricetype=\"retail\">$999</price>\n",
    "            <product>\n",
    "                <product_id>WWWdrt</product_id>\n",
    "                <short_desc>Dining Room Table</short_desc>\n",
    "                <price pricetype=\"cost\">$105</price>\n",
    "                <price pricetype=\"sale\">$145</price>\n",
    "                <price pricetype=\"retail\">$195</price>\n",
    "                <inventory location=\"warehouse\">132</inventory>\n",
    "            </product>\n",
    "            <product>\n",
    "                <product_id>WWWsc</product_id>\n",
    "                <short_desc>Swivel Chair</short_desc>\n",
    "                <price pricetype=\"cost\">$50</price>\n",
    "                <price pricetype=\"sale\">$45</price>\n",
    "                <price pricetype=\"retail\">$99</price>\n",
    "                <inventory location=\"warehouse\">300</inventory>\n",
    "            </product>\n",
    "            <product>\n",
    "                <product_id>WWWhch</product_id>\n",
    "                <short_desc>Hutch</short_desc>\n",
    "                <price pricetype=\"cost\">$346</price>\n",
    "                <price pricetype=\"sale\">$425</price>\n",
    "                <price pricetype=\"retail\">$600</price>\n",
    "                <inventory location=\"warehouse\">232</inventory>\n",
    "            </product>\n",
    "        </suite>\n",
    "        <product>\n",
    "            <product_id>HallBench</product_id>\n",
    "            <short_desc>Hall Bench</short_desc>\n",
    "            <price pricetype=\"cost\">$75</price>\n",
    "            <price pricetype=\"sale\">$62</price>\n",
    "            <price pricetype=\"retail\">$120</price>\n",
    "            <inventory location=\"warehouse\">143</inventory>\n",
    "            <inventory location=\"showroom\">5</inventory>\n",
    "        </product>\n",
    "        <product>\n",
    "            <product_id>SofaLoveSeat</product_id>\n",
    "            <short_desc>Sofa and Love Seat</short_desc>\n",
    "            <price color=\"magnolia print\" pricetype=\"cost\">$125</price>\n",
    "            <price color=\"nautical print\" pricetype=\"cost\">$145</price>\n",
    "            <price pricetype=\"sale\">$175</price>\n",
    "            <price pricetype=\"retail\">$250</price>\n",
    "            <inventory color=\"magnolia print\" location=\"showroom\">3</inventory>\n",
    "            <inventory color=\"magnolia print\" location=\"warehouse\">36</inventory>\n",
    "            <inventory color=\"nautical print\" location=\"warehouse\">1</inventory>\n",
    "            <inventory color=\"nautical print\" location=\"showroom\">432</inventory>\n",
    "        </product>\n",
    "    </vendor>\n",
    "    <vendor webvendor=\"no\" id=\"marge\">\n",
    "        <vendor_name>Crazy Marge's Bed Emporium</vendor_name>\n",
    "        <advertisement>\n",
    "            <ad_sentence>We never have a sale because we've got the lowest prices in town! Come in today and shop around. If you can find lower prices anywhere Crazy Marge will shave her husband's head!!!</ad_sentence>\n",
    "            <ad_sentence>We have all kinds, all sizes. Don't see what you want? Don't worry. We customize orders!</ad_sentence>\n",
    "        </advertisement>\n",
    "        <product>\n",
    "            <product_id>3253435</product_id>\n",
    "            <short_desc>Sleepeazy Mattresses</short_desc>\n",
    "            <product_desc>per set, any size</product_desc>\n",
    "            <price pricetype=\"cost\">$162</price>\n",
    "            <price pricetype=\"retail\">$300</price>\n",
    "            <inventory location=\"showroom\">23</inventory>\n",
    "            <inventory location=\"warehouse\">15</inventory>\n",
    "            <giveaway>\n",
    "                <giveaway_item>Free pillows</giveaway_item>\n",
    "                <giveaway_desc>with every set</giveaway_desc>\n",
    "            </giveaway>\n",
    "        </product>\n",
    "        <product>\n",
    "            <product_id>5622345</product_id>\n",
    "            <short_desc>CozyComfort Mattresses</short_desc>\n",
    "            <price pricetype=\"starting\">starting at only $99.99</price>\n",
    "            <item>\n",
    "                <product_desc>Queen</product_desc>\n",
    "                <price pricetype=\"cost\">$59.00</price>\n",
    "                <price pricetype=\"sale\">$69.00</price>\n",
    "                <price pricetype=\"retail\">$99.00</price>\n",
    "            </item>\n",
    "            <item>\n",
    "                <product_desc>King</product_desc>\n",
    "                <price pricetype=\"cost\">$159.00</price>\n",
    "                <price pricetype=\"sale\">$209.00</price>\n",
    "                <price pricetype=\"retail\">$359.00</price>\n",
    "            </item>\n",
    "            <giveaway>\n",
    "                <giveaway_item>Free sheets</giveaway_item>\n",
    "                <giveaway_desc>with every set</giveaway_desc>\n",
    "            </giveaway>\n",
    "        </product>\n",
    "        <product>\n",
    "            <product_id>39981234</product_id>\n",
    "            <short_desc>Floataway Waterbeds</short_desc>\n",
    "            <price pricetype=\"cost\">TBD</price>\n",
    "            <giveaway>\n",
    "                <giveaway_item>15 different styles to choose from\n",
    "  </giveaway_item>\n",
    "                <giveaway_desc>with free delivery -- we'll take your old mattress as a trade in!</giveaway_desc>\n",
    "            </giveaway>\n",
    "        </product>\n",
    "    </vendor>\n",
    "\t<special specialtype=\"weekly\" vendor_id=\"marge\">This week only: Round beds with rotating motors starting at a price that will make your head spin. Just talk to Crazy Marge, she'll tell you all about it!</special>\n",
    "</products>"
   ]
  },
  {
   "cell_type": "markdown",
   "metadata": {
    "slideshow": {
     "slide_type": "slide"
    }
   },
   "source": [
    "## product.xml"
   ]
  },
  {
   "cell_type": "code",
   "execution_count": 588,
   "metadata": {
    "hideCode": true,
    "hidePrompt": true
   },
   "outputs": [
    {
     "data": {
      "text/html": [
       "\n",
       "        <iframe\n",
       "            width=\"100%\"\n",
       "            height=\"600px\"\n",
       "            src=\"https://xmlgrid.net\"\n",
       "            frameborder=\"0\"\n",
       "            allowfullscreen\n",
       "        ></iframe>\n",
       "        "
      ],
      "text/plain": [
       "<IPython.lib.display.IFrame at 0x108a71350>"
      ]
     },
     "execution_count": 588,
     "metadata": {},
     "output_type": "execute_result"
    }
   ],
   "source": [
    "from IPython.display import IFrame\n",
    "IFrame(src='https://xmlgrid.net', width=\"100%\", height=\"600px\")"
   ]
  },
  {
   "cell_type": "markdown",
   "metadata": {
    "slideshow": {
     "slide_type": "skip"
    }
   },
   "source": [
    "## product.xml"
   ]
  },
  {
   "cell_type": "code",
   "execution_count": 619,
   "metadata": {
    "hideCode": true,
    "hidePrompt": true,
    "scrolled": true,
    "slideshow": {
     "slide_type": "skip"
    }
   },
   "outputs": [
    {
     "data": {
      "text/html": [
       "<?xml version=\"1.0\"?>\n",
       "<products>\n",
       "    <vendor webvendor=\"full\" id=\"conners\">\n",
       "        <vendor_name>Conners Chair Company</vendor_name>\n",
       "        <advertisement>\n",
       "            <ad_sentence>\n",
       "  Conners Chair Company presents their annual big three day only chair sale. We're making way for our new stock! \n",
       "  <b>All current inventory must go!</b> \n",
       "  Regular prices slashed by up to 60%! \n",
       "  </ad_sentence>\n",
       "        </advertisement>\n",
       "        <product>\n",
       "            <product_id>QA3452</product_id>\n",
       "            <short_desc>Queen Anne Chair</short_desc>\n",
       "            <price pricetype=\"cost\">$85</price>\n",
       "            <price pricetype=\"sale\">$125</price>\n",
       "            <price pricetype=\"retail\">$195</price>\n",
       "            <inventory color=\"royal blue\" location=\"warehouse\">12</inventory>\n",
       "            <inventory color=\"royal blue\" location=\"showroom\">5</inventory>\n",
       "            <inventory color=\"flower print\" location=\"warehouse\">16</inventory>\n",
       "            <inventory color=\"flower print\" location=\"showroom\">3</inventory>\n",
       "            <inventory color=\"seafoam green\" location=\"warehouse\">20</inventory>\n",
       "            <inventory color=\"teal\" location=\"warehouse\">14</inventory>\n",
       "            <inventory color=\"burgundy\" location=\"warehouse\">34</inventory>\n",
       "            <giveaway>\n",
       "                <giveaway_item>Matching Ottoman included</giveaway_item>\n",
       "                <giveaway_desc>while supplies last</giveaway_desc>\n",
       "            </giveaway>\n",
       "        </product>\n",
       "        <product>\n",
       "            <product_id>RC2342</product_id>\n",
       "            <short_desc>Early American Rocking Chair</short_desc>\n",
       "            <product_desc>with brown and tan plaid upholstery</product_desc>\n",
       "            <price pricetype=\"cost\">$75</price>\n",
       "            <price pricetype=\"sale\">$62</price>\n",
       "            <price pricetype=\"retail\">$120</price>\n",
       "            <inventory location=\"warehouse\">40</inventory>\n",
       "            <inventory location=\"showroom\">2</inventory>\n",
       "        </product>\n",
       "        <product>\n",
       "            <product_id>BR3452</product_id>\n",
       "            <short_desc>Bentwood Rocker</short_desc>\n",
       "            <price pricetype=\"cost\">$125</price>\n",
       "            <price pricetype=\"sale\">$160</price>\n",
       "            <price pricetype=\"retail\">$210</price>\n",
       "            <inventory location=\"showroom\">3</inventory>\n",
       "        </product>\n",
       "    </vendor>\n",
       "    <vendor webvendor=\"partial\" id=\"wally\">\n",
       "        <vendor_name>Wally's Wonderful World of Furniture</vendor_name>\n",
       "        <advertisement>\n",
       "            <ad_sentence>Wally's Wonderful World of Furniture is closing its doors forever. Last chance to get great bargains. Make us an offer. We can't refuse!</ad_sentence>\n",
       "        </advertisement>\n",
       "        <suite>\n",
       "            <product_id>CDRS</product_id>\n",
       "            <short_desc>Complete Dining Room Set</short_desc>\n",
       "            <long_desc>This five piece dining site set features swivel chairs with cushions in five exciting colors.</long_desc>\n",
       "            <price pricetype=\"cost\">$435</price>\n",
       "            <price pricetype=\"sale\">$699</price>\n",
       "            <price pricetype=\"retail\">$999</price>\n",
       "            <product>\n",
       "                <product_id>WWWdrt</product_id>\n",
       "                <short_desc>Dining Room Table</short_desc>\n",
       "                <price pricetype=\"cost\">$105</price>\n",
       "                <price pricetype=\"sale\">$145</price>\n",
       "                <price pricetype=\"retail\">$195</price>\n",
       "                <inventory location=\"warehouse\">132</inventory>\n",
       "            </product>\n",
       "            <product>\n",
       "                <product_id>WWWsc</product_id>\n",
       "                <short_desc>Swivel Chair</short_desc>\n",
       "                <price pricetype=\"cost\">$50</price>\n",
       "                <price pricetype=\"sale\">$45</price>\n",
       "                <price pricetype=\"retail\">$99</price>\n",
       "                <inventory location=\"warehouse\">300</inventory>\n",
       "            </product>\n",
       "            <product>\n",
       "                <product_id>WWWhch</product_id>\n",
       "                <short_desc>Hutch</short_desc>\n",
       "                <price pricetype=\"cost\">$346</price>\n",
       "                <price pricetype=\"sale\">$425</price>\n",
       "                <price pricetype=\"retail\">$600</price>\n",
       "                <inventory location=\"warehouse\">232</inventory>\n",
       "            </product>\n",
       "        </suite>\n",
       "        <product>\n",
       "            <product_id>HallBench</product_id>\n",
       "            <short_desc>Hall Bench</short_desc>\n",
       "            <price pricetype=\"cost\">$75</price>\n",
       "            <price pricetype=\"sale\">$62</price>\n",
       "            <price pricetype=\"retail\">$120</price>\n",
       "            <inventory location=\"warehouse\">143</inventory>\n",
       "            <inventory location=\"showroom\">5</inventory>\n",
       "        </product>\n",
       "        <product>\n",
       "            <product_id>SofaLoveSeat</product_id>\n",
       "            <short_desc>Sofa and Love Seat</short_desc>\n",
       "            <price color=\"magnolia print\" pricetype=\"cost\">$125</price>\n",
       "            <price color=\"nautical print\" pricetype=\"cost\">$145</price>\n",
       "            <price pricetype=\"sale\">$175</price>\n",
       "            <price pricetype=\"retail\">$250</price>\n",
       "            <inventory color=\"magnolia print\" location=\"showroom\">3</inventory>\n",
       "            <inventory color=\"magnolia print\" location=\"warehouse\">36</inventory>\n",
       "            <inventory color=\"nautical print\" location=\"warehouse\">1</inventory>\n",
       "            <inventory color=\"nautical print\" location=\"showroom\">432</inventory>\n",
       "        </product>\n",
       "    </vendor>\n",
       "    <vendor webvendor=\"no\" id=\"marge\">\n",
       "        <vendor_name>Crazy Marge's Bed Emporium</vendor_name>\n",
       "        <advertisement>\n",
       "            <ad_sentence>We never have a sale because we've got the lowest prices in town! Come in today and shop around. If you can find lower prices anywhere Crazy Marge will shave her husband's head!!!</ad_sentence>\n",
       "            <ad_sentence>We have all kinds, all sizes. Don't see what you want? Don't worry. We customize orders!</ad_sentence>\n",
       "        </advertisement>\n",
       "        <product>\n",
       "            <product_id>3253435</product_id>\n",
       "            <short_desc>Sleepeazy Mattresses</short_desc>\n",
       "            <product_desc>per set, any size</product_desc>\n",
       "            <price pricetype=\"cost\">$162</price>\n",
       "            <price pricetype=\"retail\">$300</price>\n",
       "            <inventory location=\"showroom\">23</inventory>\n",
       "            <inventory location=\"warehouse\">15</inventory>\n",
       "            <giveaway>\n",
       "                <giveaway_item>Free pillows</giveaway_item>\n",
       "                <giveaway_desc>with every set</giveaway_desc>\n",
       "            </giveaway>\n",
       "        </product>\n",
       "        <product>\n",
       "            <product_id>5622345</product_id>\n",
       "            <short_desc>CozyComfort Mattresses</short_desc>\n",
       "            <price pricetype=\"starting\">starting at only $99.99</price>\n",
       "            <item>\n",
       "                <product_desc>Queen</product_desc>\n",
       "                <price pricetype=\"cost\">$59.00</price>\n",
       "                <price pricetype=\"sale\">$69.00</price>\n",
       "                <price pricetype=\"retail\">$99.00</price>\n",
       "            </item>\n",
       "            <item>\n",
       "                <product_desc>King</product_desc>\n",
       "                <price pricetype=\"cost\">$159.00</price>\n",
       "                <price pricetype=\"sale\">$209.00</price>\n",
       "                <price pricetype=\"retail\">$359.00</price>\n",
       "            </item>\n",
       "            <giveaway>\n",
       "                <giveaway_item>Free sheets</giveaway_item>\n",
       "                <giveaway_desc>with every set</giveaway_desc>\n",
       "            </giveaway>\n",
       "        </product>\n",
       "        <product>\n",
       "            <product_id>39981234</product_id>\n",
       "            <short_desc>Floataway Waterbeds</short_desc>\n",
       "            <price pricetype=\"cost\">TBD</price>\n",
       "            <giveaway>\n",
       "                <giveaway_item>15 different styles to choose from\n",
       "  </giveaway_item>\n",
       "                <giveaway_desc>with free delivery -- we'll take your old mattress as a trade in!</giveaway_desc>\n",
       "            </giveaway>\n",
       "        </product>\n",
       "    </vendor>\n",
       "\t<special specialtype=\"weekly\" vendor_id=\"marge\">This week only: Round beds with rotating motors starting at a price that will make your head spin. Just talk to Crazy Marge, she'll tell you all about it!</special>\n",
       "</products>"
      ],
      "text/plain": [
       "<IPython.core.display.HTML object>"
      ]
     },
     "metadata": {},
     "output_type": "display_data"
    }
   ],
   "source": [
    "from IPython.core.display import display, HTML\n",
    "display(HTML('examples/product.xml'))"
   ]
  },
  {
   "cell_type": "code",
   "execution_count": null,
   "metadata": {
    "cell_style": "center",
    "scrolled": false,
    "slideshow": {
     "slide_type": "slide"
    }
   },
   "outputs": [],
   "source": [
    "# %load examples/product.xsl\n",
    "<?xml version=\"1.0\" encoding=\"UTF-8\" ?>\n",
    "<xsl:transform xmlns:xsl=\"http://www.w3.org/1999/XSL/Transform\" version=\"1.0\">\n",
    "    <xsl:template match=\"*\">\n",
    "        <xsl:apply-templates/>\n",
    "    </xsl:template>\n",
    "    <xsl:template match=\"text()\">\n",
    "       <div style=\"border: solid 1px\">\n",
    "          <xsl:value-of select=\".\"/>\n",
    "       </div>\n",
    "    </xsl:template> \n",
    "    <xsl:template match=\"/\">\n",
    "       <div style=\"border: solid 3px red; padding: 10px\">\n",
    "          <xsl:apply-templates/>\n",
    "       </div>\n",
    "    </xsl:template>\n",
    "</xsl:transform>"
   ]
  },
  {
   "cell_type": "markdown",
   "metadata": {
    "slideshow": {
     "slide_type": "slide"
    }
   },
   "source": [
    "## Result"
   ]
  },
  {
   "cell_type": "code",
   "execution_count": 624,
   "metadata": {
    "hideCode": true,
    "hidePrompt": true,
    "scrolled": false,
    "slideshow": {
     "slide_type": "-"
    }
   },
   "outputs": [
    {
     "data": {
      "text/html": [
       "<html>\n",
       " <body>\n",
       "  <div style=\"border: solid 3px red; padding: 10px\">\n",
       "   <div style=\"border: solid 1px\">\n",
       "   </div>\n",
       "   <div style=\"border: solid 1px\">\n",
       "   </div>\n",
       "   <div style=\"border: solid 1px\">\n",
       "    Conners Chair Company\n",
       "   </div>\n",
       "   <div style=\"border: solid 1px\">\n",
       "   </div>\n",
       "   <div style=\"border: solid 1px\">\n",
       "   </div>\n",
       "   <div style=\"border: solid 1px\">\n",
       "    Conners Chair Company presents their annual big three day only chair sale. We're making way for our new stock!\n",
       "   </div>\n",
       "   <div style=\"border: solid 1px\">\n",
       "    All current inventory must go!\n",
       "   </div>\n",
       "   <div style=\"border: solid 1px\">\n",
       "    Regular prices slashed by up to 60%!\n",
       "   </div>\n",
       "   <div style=\"border: solid 1px\">\n",
       "   </div>\n",
       "   <div style=\"border: solid 1px\">\n",
       "   </div>\n",
       "   <div style=\"border: solid 1px\">\n",
       "   </div>\n",
       "   <div style=\"border: solid 1px\">\n",
       "    QA3452\n",
       "   </div>\n",
       "   <div style=\"border: solid 1px\">\n",
       "   </div>\n",
       "   <div style=\"border: solid 1px\">\n",
       "    Queen Anne Chair\n",
       "   </div>\n",
       "   <div style=\"border: solid 1px\">\n",
       "   </div>\n",
       "   <div style=\"border: solid 1px\">\n",
       "    $85\n",
       "   </div>\n",
       "   <div style=\"border: solid 1px\">\n",
       "   </div>\n",
       "   <div style=\"border: solid 1px\">\n",
       "    $125\n",
       "   </div>\n",
       "   <div style=\"border: solid 1px\">\n",
       "   </div>\n",
       "   <div style=\"border: solid 1px\">\n",
       "    $195\n",
       "   </div>\n",
       "   <div style=\"border: solid 1px\">\n",
       "   </div>\n",
       "   <div style=\"border: solid 1px\">\n",
       "    12\n",
       "   </div>\n",
       "   <div style=\"border: solid 1px\">\n",
       "   </div>\n",
       "   <div style=\"border: solid 1px\">\n",
       "    5\n",
       "   </div>\n",
       "   <div style=\"border: solid 1px\">\n",
       "   </div>\n",
       "   <div style=\"border: solid 1px\">\n",
       "    16\n",
       "   </div>\n",
       "   <div style=\"border: solid 1px\">\n",
       "   </div>\n",
       "   <div style=\"border: solid 1px\">\n",
       "    3\n",
       "   </div>\n",
       "   <div style=\"border: solid 1px\">\n",
       "   </div>\n",
       "   <div style=\"border: solid 1px\">\n",
       "    20\n",
       "   </div>\n",
       "   <div style=\"border: solid 1px\">\n",
       "   </div>\n",
       "   <div style=\"border: solid 1px\">\n",
       "    14\n",
       "   </div>\n",
       "   <div style=\"border: solid 1px\">\n",
       "   </div>\n",
       "   <div style=\"border: solid 1px\">\n",
       "    34\n",
       "   </div>\n",
       "   <div style=\"border: solid 1px\">\n",
       "   </div>\n",
       "   <div style=\"border: solid 1px\">\n",
       "   </div>\n",
       "   <div style=\"border: solid 1px\">\n",
       "    Matching Ottoman included\n",
       "   </div>\n",
       "   <div style=\"border: solid 1px\">\n",
       "   </div>\n",
       "   <div style=\"border: solid 1px\">\n",
       "    while supplies last\n",
       "   </div>\n",
       "   <div style=\"border: solid 1px\">\n",
       "   </div>\n",
       "   <div style=\"border: solid 1px\">\n",
       "   </div>\n",
       "   <div style=\"border: solid 1px\">\n",
       "   </div>\n",
       "   <div style=\"border: solid 1px\">\n",
       "   </div>\n",
       "   <div style=\"border: solid 1px\">\n",
       "    RC2342\n",
       "   </div>\n",
       "   <div style=\"border: solid 1px\">\n",
       "   </div>\n",
       "   <div style=\"border: solid 1px\">\n",
       "    Early American Rocking Chair\n",
       "   </div>\n",
       "   <div style=\"border: solid 1px\">\n",
       "   </div>\n",
       "   <div style=\"border: solid 1px\">\n",
       "    with brown and tan plaid upholstery\n",
       "   </div>\n",
       "   <div style=\"border: solid 1px\">\n",
       "   </div>\n",
       "   <div style=\"border: solid 1px\">\n",
       "    $75\n",
       "   </div>\n",
       "   <div style=\"border: solid 1px\">\n",
       "   </div>\n",
       "   <div style=\"border: solid 1px\">\n",
       "    $62\n",
       "   </div>\n",
       "   <div style=\"border: solid 1px\">\n",
       "   </div>\n",
       "   <div style=\"border: solid 1px\">\n",
       "    $120\n",
       "   </div>\n",
       "   <div style=\"border: solid 1px\">\n",
       "   </div>\n",
       "   <div style=\"border: solid 1px\">\n",
       "    40\n",
       "   </div>\n",
       "   <div style=\"border: solid 1px\">\n",
       "   </div>\n",
       "   <div style=\"border: solid 1px\">\n",
       "    2\n",
       "   </div>\n",
       "   <div style=\"border: solid 1px\">\n",
       "   </div>\n",
       "   <div style=\"border: solid 1px\">\n",
       "   </div>\n",
       "   <div style=\"border: solid 1px\">\n",
       "   </div>\n",
       "   <div style=\"border: solid 1px\">\n",
       "    BR3452\n",
       "   </div>\n",
       "   <div style=\"border: solid 1px\">\n",
       "   </div>\n",
       "   <div style=\"border: solid 1px\">\n",
       "    Bentwood Rocker\n",
       "   </div>\n",
       "   <div style=\"border: solid 1px\">\n",
       "   </div>\n",
       "   <div style=\"border: solid 1px\">\n",
       "    $125\n",
       "   </div>\n",
       "   <div style=\"border: solid 1px\">\n",
       "   </div>\n",
       "   <div style=\"border: solid 1px\">\n",
       "    $160\n",
       "   </div>\n",
       "   <div style=\"border: solid 1px\">\n",
       "   </div>\n",
       "   <div style=\"border: solid 1px\">\n",
       "    $210\n",
       "   </div>\n",
       "   <div style=\"border: solid 1px\">\n",
       "   </div>\n",
       "   <div style=\"border: solid 1px\">\n",
       "    3\n",
       "   </div>\n",
       "   <div style=\"border: solid 1px\">\n",
       "   </div>\n",
       "   <div style=\"border: solid 1px\">\n",
       "   </div>\n",
       "   <div style=\"border: solid 1px\">\n",
       "   </div>\n",
       "   <div style=\"border: solid 1px\">\n",
       "   </div>\n",
       "   <div style=\"border: solid 1px\">\n",
       "    Wally's Wonderful World of Furniture\n",
       "   </div>\n",
       "   <div style=\"border: solid 1px\">\n",
       "   </div>\n",
       "   <div style=\"border: solid 1px\">\n",
       "   </div>\n",
       "   <div style=\"border: solid 1px\">\n",
       "    Wally's Wonderful World of Furniture is closing its doors forever. Last chance to get great bargains. Make us an offer. We can't refuse!\n",
       "   </div>\n",
       "   <div style=\"border: solid 1px\">\n",
       "   </div>\n",
       "   <div style=\"border: solid 1px\">\n",
       "   </div>\n",
       "   <div style=\"border: solid 1px\">\n",
       "   </div>\n",
       "   <div style=\"border: solid 1px\">\n",
       "    CDRS\n",
       "   </div>\n",
       "   <div style=\"border: solid 1px\">\n",
       "   </div>\n",
       "   <div style=\"border: solid 1px\">\n",
       "    Complete Dining Room Set\n",
       "   </div>\n",
       "   <div style=\"border: solid 1px\">\n",
       "   </div>\n",
       "   <div style=\"border: solid 1px\">\n",
       "    This five piece dining site set features swivel chairs with cushions in five exciting colors.\n",
       "   </div>\n",
       "   <div style=\"border: solid 1px\">\n",
       "   </div>\n",
       "   <div style=\"border: solid 1px\">\n",
       "    $435\n",
       "   </div>\n",
       "   <div style=\"border: solid 1px\">\n",
       "   </div>\n",
       "   <div style=\"border: solid 1px\">\n",
       "    $699\n",
       "   </div>\n",
       "   <div style=\"border: solid 1px\">\n",
       "   </div>\n",
       "   <div style=\"border: solid 1px\">\n",
       "    $999\n",
       "   </div>\n",
       "   <div style=\"border: solid 1px\">\n",
       "   </div>\n",
       "   <div style=\"border: solid 1px\">\n",
       "   </div>\n",
       "   <div style=\"border: solid 1px\">\n",
       "    WWWdrt\n",
       "   </div>\n",
       "   <div style=\"border: solid 1px\">\n",
       "   </div>\n",
       "   <div style=\"border: solid 1px\">\n",
       "    Dining Room Table\n",
       "   </div>\n",
       "   <div style=\"border: solid 1px\">\n",
       "   </div>\n",
       "   <div style=\"border: solid 1px\">\n",
       "    $105\n",
       "   </div>\n",
       "   <div style=\"border: solid 1px\">\n",
       "   </div>\n",
       "   <div style=\"border: solid 1px\">\n",
       "    $145\n",
       "   </div>\n",
       "   <div style=\"border: solid 1px\">\n",
       "   </div>\n",
       "   <div style=\"border: solid 1px\">\n",
       "    $195\n",
       "   </div>\n",
       "   <div style=\"border: solid 1px\">\n",
       "   </div>\n",
       "   <div style=\"border: solid 1px\">\n",
       "    132\n",
       "   </div>\n",
       "   <div style=\"border: solid 1px\">\n",
       "   </div>\n",
       "   <div style=\"border: solid 1px\">\n",
       "   </div>\n",
       "   <div style=\"border: solid 1px\">\n",
       "   </div>\n",
       "   <div style=\"border: solid 1px\">\n",
       "    WWWsc\n",
       "   </div>\n",
       "   <div style=\"border: solid 1px\">\n",
       "   </div>\n",
       "   <div style=\"border: solid 1px\">\n",
       "    Swivel Chair\n",
       "   </div>\n",
       "   <div style=\"border: solid 1px\">\n",
       "   </div>\n",
       "   <div style=\"border: solid 1px\">\n",
       "    $50\n",
       "   </div>\n",
       "   <div style=\"border: solid 1px\">\n",
       "   </div>\n",
       "   <div style=\"border: solid 1px\">\n",
       "    $45\n",
       "   </div>\n",
       "   <div style=\"border: solid 1px\">\n",
       "   </div>\n",
       "   <div style=\"border: solid 1px\">\n",
       "    $99\n",
       "   </div>\n",
       "   <div style=\"border: solid 1px\">\n",
       "   </div>\n",
       "   <div style=\"border: solid 1px\">\n",
       "    300\n",
       "   </div>\n",
       "   <div style=\"border: solid 1px\">\n",
       "   </div>\n",
       "   <div style=\"border: solid 1px\">\n",
       "   </div>\n",
       "   <div style=\"border: solid 1px\">\n",
       "   </div>\n",
       "   <div style=\"border: solid 1px\">\n",
       "    WWWhch\n",
       "   </div>\n",
       "   <div style=\"border: solid 1px\">\n",
       "   </div>\n",
       "   <div style=\"border: solid 1px\">\n",
       "    Hutch\n",
       "   </div>\n",
       "   <div style=\"border: solid 1px\">\n",
       "   </div>\n",
       "   <div style=\"border: solid 1px\">\n",
       "    $346\n",
       "   </div>\n",
       "   <div style=\"border: solid 1px\">\n",
       "   </div>\n",
       "   <div style=\"border: solid 1px\">\n",
       "    $425\n",
       "   </div>\n",
       "   <div style=\"border: solid 1px\">\n",
       "   </div>\n",
       "   <div style=\"border: solid 1px\">\n",
       "    $600\n",
       "   </div>\n",
       "   <div style=\"border: solid 1px\">\n",
       "   </div>\n",
       "   <div style=\"border: solid 1px\">\n",
       "    232\n",
       "   </div>\n",
       "   <div style=\"border: solid 1px\">\n",
       "   </div>\n",
       "   <div style=\"border: solid 1px\">\n",
       "   </div>\n",
       "   <div style=\"border: solid 1px\">\n",
       "   </div>\n",
       "   <div style=\"border: solid 1px\">\n",
       "   </div>\n",
       "   <div style=\"border: solid 1px\">\n",
       "    HallBench\n",
       "   </div>\n",
       "   <div style=\"border: solid 1px\">\n",
       "   </div>\n",
       "   <div style=\"border: solid 1px\">\n",
       "    Hall Bench\n",
       "   </div>\n",
       "   <div style=\"border: solid 1px\">\n",
       "   </div>\n",
       "   <div style=\"border: solid 1px\">\n",
       "    $75\n",
       "   </div>\n",
       "   <div style=\"border: solid 1px\">\n",
       "   </div>\n",
       "   <div style=\"border: solid 1px\">\n",
       "    $62\n",
       "   </div>\n",
       "   <div style=\"border: solid 1px\">\n",
       "   </div>\n",
       "   <div style=\"border: solid 1px\">\n",
       "    $120\n",
       "   </div>\n",
       "   <div style=\"border: solid 1px\">\n",
       "   </div>\n",
       "   <div style=\"border: solid 1px\">\n",
       "    143\n",
       "   </div>\n",
       "   <div style=\"border: solid 1px\">\n",
       "   </div>\n",
       "   <div style=\"border: solid 1px\">\n",
       "    5\n",
       "   </div>\n",
       "   <div style=\"border: solid 1px\">\n",
       "   </div>\n",
       "   <div style=\"border: solid 1px\">\n",
       "   </div>\n",
       "   <div style=\"border: solid 1px\">\n",
       "   </div>\n",
       "   <div style=\"border: solid 1px\">\n",
       "    SofaLoveSeat\n",
       "   </div>\n",
       "   <div style=\"border: solid 1px\">\n",
       "   </div>\n",
       "   <div style=\"border: solid 1px\">\n",
       "    Sofa and Love Seat\n",
       "   </div>\n",
       "   <div style=\"border: solid 1px\">\n",
       "   </div>\n",
       "   <div style=\"border: solid 1px\">\n",
       "    $125\n",
       "   </div>\n",
       "   <div style=\"border: solid 1px\">\n",
       "   </div>\n",
       "   <div style=\"border: solid 1px\">\n",
       "    $145\n",
       "   </div>\n",
       "   <div style=\"border: solid 1px\">\n",
       "   </div>\n",
       "   <div style=\"border: solid 1px\">\n",
       "    $175\n",
       "   </div>\n",
       "   <div style=\"border: solid 1px\">\n",
       "   </div>\n",
       "   <div style=\"border: solid 1px\">\n",
       "    $250\n",
       "   </div>\n",
       "   <div style=\"border: solid 1px\">\n",
       "   </div>\n",
       "   <div style=\"border: solid 1px\">\n",
       "    3\n",
       "   </div>\n",
       "   <div style=\"border: solid 1px\">\n",
       "   </div>\n",
       "   <div style=\"border: solid 1px\">\n",
       "    36\n",
       "   </div>\n",
       "   <div style=\"border: solid 1px\">\n",
       "   </div>\n",
       "   <div style=\"border: solid 1px\">\n",
       "    1\n",
       "   </div>\n",
       "   <div style=\"border: solid 1px\">\n",
       "   </div>\n",
       "   <div style=\"border: solid 1px\">\n",
       "    432\n",
       "   </div>\n",
       "   <div style=\"border: solid 1px\">\n",
       "   </div>\n",
       "   <div style=\"border: solid 1px\">\n",
       "   </div>\n",
       "   <div style=\"border: solid 1px\">\n",
       "   </div>\n",
       "   <div style=\"border: solid 1px\">\n",
       "   </div>\n",
       "   <div style=\"border: solid 1px\">\n",
       "    Crazy Marge's Bed Emporium\n",
       "   </div>\n",
       "   <div style=\"border: solid 1px\">\n",
       "   </div>\n",
       "   <div style=\"border: solid 1px\">\n",
       "   </div>\n",
       "   <div style=\"border: solid 1px\">\n",
       "    We never have a sale because we've got the lowest prices in town! Come in today and shop around. If you can find lower prices anywhere Crazy Marge will shave her husband's head!!!\n",
       "   </div>\n",
       "   <div style=\"border: solid 1px\">\n",
       "   </div>\n",
       "   <div style=\"border: solid 1px\">\n",
       "    We have all kinds, all sizes. Don't see what you want? Don't worry. We customize orders!\n",
       "   </div>\n",
       "   <div style=\"border: solid 1px\">\n",
       "   </div>\n",
       "   <div style=\"border: solid 1px\">\n",
       "   </div>\n",
       "   <div style=\"border: solid 1px\">\n",
       "   </div>\n",
       "   <div style=\"border: solid 1px\">\n",
       "    3253435\n",
       "   </div>\n",
       "   <div style=\"border: solid 1px\">\n",
       "   </div>\n",
       "   <div style=\"border: solid 1px\">\n",
       "    Sleepeazy Mattresses\n",
       "   </div>\n",
       "   <div style=\"border: solid 1px\">\n",
       "   </div>\n",
       "   <div style=\"border: solid 1px\">\n",
       "    per set, any size\n",
       "   </div>\n",
       "   <div style=\"border: solid 1px\">\n",
       "   </div>\n",
       "   <div style=\"border: solid 1px\">\n",
       "    $162\n",
       "   </div>\n",
       "   <div style=\"border: solid 1px\">\n",
       "   </div>\n",
       "   <div style=\"border: solid 1px\">\n",
       "    $300\n",
       "   </div>\n",
       "   <div style=\"border: solid 1px\">\n",
       "   </div>\n",
       "   <div style=\"border: solid 1px\">\n",
       "    23\n",
       "   </div>\n",
       "   <div style=\"border: solid 1px\">\n",
       "   </div>\n",
       "   <div style=\"border: solid 1px\">\n",
       "    15\n",
       "   </div>\n",
       "   <div style=\"border: solid 1px\">\n",
       "   </div>\n",
       "   <div style=\"border: solid 1px\">\n",
       "   </div>\n",
       "   <div style=\"border: solid 1px\">\n",
       "    Free pillows\n",
       "   </div>\n",
       "   <div style=\"border: solid 1px\">\n",
       "   </div>\n",
       "   <div style=\"border: solid 1px\">\n",
       "    with every set\n",
       "   </div>\n",
       "   <div style=\"border: solid 1px\">\n",
       "   </div>\n",
       "   <div style=\"border: solid 1px\">\n",
       "   </div>\n",
       "   <div style=\"border: solid 1px\">\n",
       "   </div>\n",
       "   <div style=\"border: solid 1px\">\n",
       "   </div>\n",
       "   <div style=\"border: solid 1px\">\n",
       "    5622345\n",
       "   </div>\n",
       "   <div style=\"border: solid 1px\">\n",
       "   </div>\n",
       "   <div style=\"border: solid 1px\">\n",
       "    CozyComfort Mattresses\n",
       "   </div>\n",
       "   <div style=\"border: solid 1px\">\n",
       "   </div>\n",
       "   <div style=\"border: solid 1px\">\n",
       "    starting at only $99.99\n",
       "   </div>\n",
       "   <div style=\"border: solid 1px\">\n",
       "   </div>\n",
       "   <div style=\"border: solid 1px\">\n",
       "   </div>\n",
       "   <div style=\"border: solid 1px\">\n",
       "    Queen\n",
       "   </div>\n",
       "   <div style=\"border: solid 1px\">\n",
       "   </div>\n",
       "   <div style=\"border: solid 1px\">\n",
       "    $59.00\n",
       "   </div>\n",
       "   <div style=\"border: solid 1px\">\n",
       "   </div>\n",
       "   <div style=\"border: solid 1px\">\n",
       "    $69.00\n",
       "   </div>\n",
       "   <div style=\"border: solid 1px\">\n",
       "   </div>\n",
       "   <div style=\"border: solid 1px\">\n",
       "    $99.00\n",
       "   </div>\n",
       "   <div style=\"border: solid 1px\">\n",
       "   </div>\n",
       "   <div style=\"border: solid 1px\">\n",
       "   </div>\n",
       "   <div style=\"border: solid 1px\">\n",
       "   </div>\n",
       "   <div style=\"border: solid 1px\">\n",
       "    King\n",
       "   </div>\n",
       "   <div style=\"border: solid 1px\">\n",
       "   </div>\n",
       "   <div style=\"border: solid 1px\">\n",
       "    $159.00\n",
       "   </div>\n",
       "   <div style=\"border: solid 1px\">\n",
       "   </div>\n",
       "   <div style=\"border: solid 1px\">\n",
       "    $209.00\n",
       "   </div>\n",
       "   <div style=\"border: solid 1px\">\n",
       "   </div>\n",
       "   <div style=\"border: solid 1px\">\n",
       "    $359.00\n",
       "   </div>\n",
       "   <div style=\"border: solid 1px\">\n",
       "   </div>\n",
       "   <div style=\"border: solid 1px\">\n",
       "   </div>\n",
       "   <div style=\"border: solid 1px\">\n",
       "   </div>\n",
       "   <div style=\"border: solid 1px\">\n",
       "    Free sheets\n",
       "   </div>\n",
       "   <div style=\"border: solid 1px\">\n",
       "   </div>\n",
       "   <div style=\"border: solid 1px\">\n",
       "    with every set\n",
       "   </div>\n",
       "   <div style=\"border: solid 1px\">\n",
       "   </div>\n",
       "   <div style=\"border: solid 1px\">\n",
       "   </div>\n",
       "   <div style=\"border: solid 1px\">\n",
       "   </div>\n",
       "   <div style=\"border: solid 1px\">\n",
       "   </div>\n",
       "   <div style=\"border: solid 1px\">\n",
       "    39981234\n",
       "   </div>\n",
       "   <div style=\"border: solid 1px\">\n",
       "   </div>\n",
       "   <div style=\"border: solid 1px\">\n",
       "    Floataway Waterbeds\n",
       "   </div>\n",
       "   <div style=\"border: solid 1px\">\n",
       "   </div>\n",
       "   <div style=\"border: solid 1px\">\n",
       "    TBD\n",
       "   </div>\n",
       "   <div style=\"border: solid 1px\">\n",
       "   </div>\n",
       "   <div style=\"border: solid 1px\">\n",
       "   </div>\n",
       "   <div style=\"border: solid 1px\">\n",
       "    15 different styles to choose from\n",
       "   </div>\n",
       "   <div style=\"border: solid 1px\">\n",
       "   </div>\n",
       "   <div style=\"border: solid 1px\">\n",
       "    with free delivery -- we'll take your old mattress as a trade in!\n",
       "   </div>\n",
       "   <div style=\"border: solid 1px\">\n",
       "   </div>\n",
       "   <div style=\"border: solid 1px\">\n",
       "   </div>\n",
       "   <div style=\"border: solid 1px\">\n",
       "   </div>\n",
       "   <div style=\"border: solid 1px\">\n",
       "   </div>\n",
       "   <div style=\"border: solid 1px\">\n",
       "    This week only: Round beds with rotating motors starting at a price that will make your head spin. Just talk to Crazy Marge, she'll tell you all about it!\n",
       "   </div>\n",
       "   <div style=\"border: solid 1px\">\n",
       "   </div>\n",
       "  </div>\n",
       " </body>\n",
       "</html>"
      ],
      "text/plain": [
       "<IPython.core.display.HTML object>"
      ]
     },
     "metadata": {},
     "output_type": "display_data"
    }
   ],
   "source": [
    "from bs4 import BeautifulSoup\n",
    "from io import StringIO\n",
    "import lxml.etree as ET\n",
    "from IPython.core.display import display, HTML\n",
    "\n",
    "dom = ET.parse('examples/product.xml')\n",
    "xslt = ET.parse('examples/product.xsl')\n",
    "transform = ET.XSLT(xslt)\n",
    "newdom = transform(dom)\n",
    "result = BeautifulSoup(ET.tostring(newdom, pretty_print=True))\n",
    "\n",
    "\n",
    "display(HTML(result.prettify()))"
   ]
  },
  {
   "cell_type": "markdown",
   "metadata": {
    "slideshow": {
     "slide_type": "slide"
    }
   },
   "source": [
    "## Select Specific Data\n",
    "* Let's try and select all present **vendor names** in **product.xml**"
   ]
  },
  {
   "cell_type": "code",
   "execution_count": 625,
   "metadata": {},
   "outputs": [
    {
     "name": "stdout",
     "output_type": "stream",
     "text": [
      "Overwriting examples/product1.xsl\n"
     ]
    }
   ],
   "source": [
    "%%writefile examples/product1.xsl\n",
    "\n",
    "<xsl:transform xmlns:xsl=\"http://www.w3.org/1999/XSL/Transform\" version=\"1.0\">\n",
    "\n",
    "   <xsl:template match=\"/\">\n",
    "     <html>\n",
    "        <body>\n",
    "            <xsl:apply-templates select=\"//vendor\"/>\n",
    "        </body>\n",
    "     </html>\n",
    "    </xsl:template>\n",
    "\n",
    "    \n",
    "    <xsl:template match=\"//vendor\">\n",
    "       <p><xsl:value-of select=\"vendor_name\"/></p>\n",
    "    </xsl:template>\n",
    "\n",
    "\n",
    "</xsl:transform>"
   ]
  },
  {
   "cell_type": "markdown",
   "metadata": {
    "slideshow": {
     "slide_type": "slide"
    }
   },
   "source": [
    "## Resulting XML"
   ]
  },
  {
   "cell_type": "code",
   "execution_count": 626,
   "metadata": {
    "hideCode": true,
    "hidePrompt": true
   },
   "outputs": [
    {
     "name": "stdout",
     "output_type": "stream",
     "text": [
      "<html>\n",
      " <body>\n",
      "  <p>\n",
      "   Conners Chair Company\n",
      "  </p>\n",
      "  <p>\n",
      "   Wally's Wonderful World of Furniture\n",
      "  </p>\n",
      "  <p>\n",
      "   Crazy Marge's Bed Emporium\n",
      "  </p>\n",
      " </body>\n",
      "</html>\n",
      "\n"
     ]
    }
   ],
   "source": [
    "from bs4 import BeautifulSoup\n",
    "import lxml.etree as ET\n",
    "\n",
    "dom = ET.parse('examples/product.xml')\n",
    "xslt = ET.parse('examples/product1.xsl')\n",
    "transform = ET.XSLT(xslt)\n",
    "newdom = transform(dom)\n",
    "result = BeautifulSoup(str(newdom))\n",
    "print(result.prettify())"
   ]
  },
  {
   "cell_type": "markdown",
   "metadata": {
    "slideshow": {
     "slide_type": "slide"
    }
   },
   "source": [
    "## Resulting XML Viewed In browser:\n"
   ]
  },
  {
   "cell_type": "code",
   "execution_count": 627,
   "metadata": {
    "hideCode": true,
    "hidePrompt": true,
    "scrolled": true
   },
   "outputs": [
    {
     "data": {
      "text/html": [
       "<html><body>\n",
       "<p>Conners Chair Company</p>\n",
       "<p>Wally's Wonderful World of Furniture</p>\n",
       "<p>Crazy Marge's Bed Emporium</p>\n",
       "</body></html>\n"
      ],
      "text/plain": [
       "<IPython.core.display.HTML object>"
      ]
     },
     "metadata": {},
     "output_type": "display_data"
    }
   ],
   "source": [
    "from IPython.core.display import display, HTML\n",
    "display(HTML(str(newdom)))"
   ]
  },
  {
   "cell_type": "markdown",
   "metadata": {
    "hideCode": false,
    "hidePrompt": false,
    "slideshow": {
     "slide_type": "slide"
    }
   },
   "source": [
    "## Select Attributes\n",
    "* Let's print out available inventory `color` instances"
   ]
  },
  {
   "cell_type": "code",
   "execution_count": 628,
   "metadata": {},
   "outputs": [
    {
     "name": "stdout",
     "output_type": "stream",
     "text": [
      "Overwriting examples/product2.xsl\n"
     ]
    }
   ],
   "source": [
    "%%writefile examples/product2.xsl\n",
    "<?xml version=\"1.0\" encoding=\"UTF-8\" ?>\n",
    "<xsl:transform xmlns:xsl=\"http://www.w3.org/1999/XSL/Transform\" version=\"1.0\">\n",
    "\n",
    "    <xsl:template match=\"/\">\n",
    "\t<html>\n",
    "\t<body>\n",
    "            <xsl:apply-templates select=\"products/vendor\" />\n",
    "\t</body>\n",
    "\t</html>\n",
    "    </xsl:template>\n",
    "    \n",
    "    \n",
    "    <xsl:template match=\"product\">\n",
    "        <ul><li>\n",
    "            <xsl:apply-templates select=\"product_id\"/>\n",
    "            <xsl:value-of select=\"short_desc\"/>\n",
    "            <br/><xsl:apply-templates select=\"inventory[@color]\"/>\n",
    "        </li></ul>\n",
    "    </xsl:template>\n",
    "    \n",
    "    <xsl:template match=\"inventory[@color]\">\n",
    "    \t--<xsl:value-of select=\"@color\"/><br/>\n",
    "    </xsl:template>\n",
    "\n",
    "    <xsl:template match=\"product/product_id\">\n",
    "        <xsl:value-of select=\".\"/>:\n",
    "    </xsl:template>\n",
    "    \n",
    "    <xsl:template match=\"products/vendor\">\n",
    "       <p><xsl:value-of select=\"vendor_name\"/></p>\n",
    "\t<xsl:apply-templates select=\"product\" />\n",
    "    </xsl:template>\n",
    "\n",
    "</xsl:transform>"
   ]
  },
  {
   "cell_type": "code",
   "execution_count": 635,
   "metadata": {
    "hideCode": true,
    "hidePrompt": true,
    "scrolled": true,
    "slideshow": {
     "slide_type": "slide"
    }
   },
   "outputs": [
    {
     "name": "stdout",
     "output_type": "stream",
     "text": [
      "<html>\n",
      " <body>\n",
      "  <p>\n",
      "   Conners Chair Company\n",
      "  </p>\n",
      "  <ul>\n",
      "   <li>\n",
      "    QA3452:\n",
      "    Queen Anne Chair\n",
      "    <br/>\n",
      "    --royal blue\n",
      "    <br/>\n",
      "    --royal blue\n",
      "    <br/>\n",
      "    --flower print\n",
      "    <br/>\n",
      "    --flower print\n",
      "    <br/>\n",
      "    --seafoam green\n",
      "    <br/>\n",
      "    --teal\n",
      "    <br/>\n",
      "    --burgundy\n",
      "    <br/>\n",
      "   </li>\n",
      "  </ul>\n",
      "  <ul>\n",
      "   <li>\n",
      "    RC2342:\n",
      "    Early American Rocking Chair\n",
      "    <br/>\n",
      "   </li>\n",
      "  </ul>\n",
      "  <ul>\n",
      "   <li>\n",
      "    BR3452:\n",
      "    Bentwood Rocker\n",
      "    <br/>\n",
      "   </li>\n",
      "  </ul>\n",
      "  <p>\n",
      "   Wally's Wonderful World of Furniture\n",
      "  </p>\n",
      "  <ul>\n",
      "   <li>\n",
      "    HallBench:\n",
      "    Hall Bench\n",
      "    <br/>\n",
      "   </li>\n",
      "  </ul>\n",
      "  <ul>\n",
      "   <li>\n",
      "    SofaLoveSeat:\n",
      "    Sofa and Love Seat\n",
      "    <br/>\n",
      "    --magnolia print\n",
      "    <br/>\n",
      "    --magnolia print\n",
      "    <br/>\n",
      "    --nautical print\n",
      "    <br/>\n",
      "    --nautical print\n",
      "    <br/>\n",
      "   </li>\n",
      "  </ul>\n",
      "  <p>\n",
      "   Crazy Marge's Bed Emporium\n",
      "  </p>\n",
      "  <ul>\n",
      "   <li>\n",
      "    3253435:\n",
      "    Sleepeazy Mattresses\n",
      "    <br/>\n",
      "   </li>\n",
      "  </ul>\n",
      "  <ul>\n",
      "   <li>\n",
      "    5622345:\n",
      "    CozyComfort Mattresses\n",
      "    <br/>\n",
      "   </li>\n",
      "  </ul>\n",
      "  <ul>\n",
      "   <li>\n",
      "    39981234:\n",
      "    Floataway Waterbeds\n",
      "    <br/>\n",
      "   </li>\n",
      "  </ul>\n",
      " </body>\n",
      "</html>\n",
      "\n"
     ]
    },
    {
     "data": {
      "text/plain": [
       "1111"
      ]
     },
     "execution_count": 635,
     "metadata": {},
     "output_type": "execute_result"
    }
   ],
   "source": [
    "from bs4 import BeautifulSoup\n",
    "     import lxml.etree as ET\n",
    "from IPython.core.display import display, HTML\n",
    "\n",
    "dom = ET.parse('examples/product.xml')\n",
    "xslt = ET.parse('examples/product2.xsl')\n",
    "transform = ET.XSLT(xslt)\n",
    "newdom = transform(dom)\n",
    "result = BeautifulSoup(str(newdom))\n",
    "html = result.prettify()\n",
    "print(html)\n",
    "f=open(\"examples/product2.html\",\"w+\")\n",
    "f.write(html)"
   ]
  },
  {
   "cell_type": "code",
   "execution_count": 648,
   "metadata": {
    "hideCode": true,
    "hidePrompt": true,
    "slideshow": {
     "slide_type": "slide"
    }
   },
   "outputs": [
    {
     "data": {
      "text/html": [
       "\n",
       "        <iframe\n",
       "            width=\"100%\"\n",
       "            height=\"800px\"\n",
       "            src=\"examples/product2.html\"\n",
       "            frameborder=\"0\"\n",
       "            allowfullscreen\n",
       "        ></iframe>\n",
       "        "
      ],
      "text/plain": [
       "<IPython.lib.display.IFrame at 0x107e67810>"
      ]
     },
     "execution_count": 648,
     "metadata": {},
     "output_type": "execute_result"
    }
   ],
   "source": [
    "from IPython.display import IFrame\n",
    "IFrame(src='examples/product2.html', width=\"100%\", height=\"800px\")"
   ]
  },
  {
   "cell_type": "markdown",
   "metadata": {
    "slideshow": {
     "slide_type": "slide"
    }
   },
   "source": [
    "## Select Attributes with Values\n",
    "* Let's select inventory `color` and a specific `location`"
   ]
  },
  {
   "cell_type": "code",
   "execution_count": 653,
   "metadata": {},
   "outputs": [
    {
     "name": "stdout",
     "output_type": "stream",
     "text": [
      "Overwriting examples/product3.xsl\n"
     ]
    }
   ],
   "source": [
    "%%writefile examples/product3.xsl\n",
    "<?xml version=\"1.0\" encoding=\"UTF-8\" ?>\n",
    "<xsl:transform xmlns:xsl=\"http://www.w3.org/1999/XSL/Transform\" version=\"1.0\">\n",
    "\n",
    "    <xsl:template match=\"/\">\n",
    "    <html>\n",
    "    <head><title></title></head>\n",
    "    <body>\n",
    "            <xsl:apply-templates select=\"/products/vendor\" />\n",
    "    </body>\n",
    "    </html>\n",
    "    </xsl:template>\n",
    "    \n",
    "    \n",
    "    \n",
    "    <xsl:template match=\"product\">\n",
    "        <ul><li>\n",
    "            <xsl:apply-templates select=\"product_id\"/>\n",
    "            <xsl:value-of select=\"short_desc\"/>\n",
    "            <br/><xsl:apply-templates select=\"inventory[@color and @location='warehouse']\"/>\n",
    "        </li></ul>\n",
    "    </xsl:template>\n",
    "    \n",
    "    <xsl:template match=\"inventory[@color and @location='warehouse']\">\n",
    "        --<xsl:value-of select=\"@color\"/><br/>\n",
    "    </xsl:template>\n",
    "\n",
    "    <xsl:template match=\"product/product_id\">\n",
    "        <xsl:value-of select=\".\"/>:\n",
    "    </xsl:template>\n",
    "    \n",
    "    <xsl:template match=\"products/vendor\">\n",
    "       <p><xsl:value-of select=\"vendor_name\"/></p>\n",
    "       <xsl:apply-templates select=\".//product\" />\n",
    "    </xsl:template>\n",
    "\n",
    "</xsl:transform>\n"
   ]
  },
  {
   "cell_type": "code",
   "execution_count": 654,
   "metadata": {
    "hideCode": true,
    "hidePrompt": true,
    "slideshow": {
     "slide_type": "slide"
    }
   },
   "outputs": [
    {
     "name": "stdout",
     "output_type": "stream",
     "text": [
      "<html>\n",
      " <head>\n",
      "  <meta content=\"text/html; charset=utf-8\" http-equiv=\"Content-Type\"/>\n",
      "  <title>\n",
      "  </title>\n",
      " </head>\n",
      " <body>\n",
      "  <p>\n",
      "   Conners Chair Company\n",
      "  </p>\n",
      "  <ul>\n",
      "   <li>\n",
      "    QA3452:\n",
      "    Queen Anne Chair\n",
      "    <br/>\n",
      "    --royal blue\n",
      "    <br/>\n",
      "    --flower print\n",
      "    <br/>\n",
      "    --seafoam green\n",
      "    <br/>\n",
      "    --teal\n",
      "    <br/>\n",
      "    --burgundy\n",
      "    <br/>\n",
      "   </li>\n",
      "  </ul>\n",
      "  <ul>\n",
      "   <li>\n",
      "    RC2342:\n",
      "    Early American Rocking Chair\n",
      "    <br/>\n",
      "   </li>\n",
      "  </ul>\n",
      "  <ul>\n",
      "   <li>\n",
      "    BR3452:\n",
      "    Bentwood Rocker\n",
      "    <br/>\n",
      "   </li>\n",
      "  </ul>\n",
      "  <p>\n",
      "   Wally's Wonderful World of Furniture\n",
      "  </p>\n",
      "  <ul>\n",
      "   <li>\n",
      "    WWWdrt:\n",
      "    Dining Room Table\n",
      "    <br/>\n",
      "   </li>\n",
      "  </ul>\n",
      "  <ul>\n",
      "   <li>\n",
      "    WWWsc:\n",
      "    Swivel Chair\n",
      "    <br/>\n",
      "   </li>\n",
      "  </ul>\n",
      "  <ul>\n",
      "   <li>\n",
      "    WWWhch:\n",
      "    Hutch\n",
      "    <br/>\n",
      "   </li>\n",
      "  </ul>\n",
      "  <ul>\n",
      "   <li>\n",
      "    HallBench:\n",
      "    Hall Bench\n",
      "    <br/>\n",
      "   </li>\n",
      "  </ul>\n",
      "  <ul>\n",
      "   <li>\n",
      "    SofaLoveSeat:\n",
      "    Sofa and Love Seat\n",
      "    <br/>\n",
      "    --magnolia print\n",
      "    <br/>\n",
      "    --nautical print\n",
      "    <br/>\n",
      "   </li>\n",
      "  </ul>\n",
      "  <p>\n",
      "   Crazy Marge's Bed Emporium\n",
      "  </p>\n",
      "  <ul>\n",
      "   <li>\n",
      "    3253435:\n",
      "    Sleepeazy Mattresses\n",
      "    <br/>\n",
      "   </li>\n",
      "  </ul>\n",
      "  <ul>\n",
      "   <li>\n",
      "    5622345:\n",
      "    CozyComfort Mattresses\n",
      "    <br/>\n",
      "   </li>\n",
      "  </ul>\n",
      "  <ul>\n",
      "   <li>\n",
      "    39981234:\n",
      "    Floataway Waterbeds\n",
      "    <br/>\n",
      "   </li>\n",
      "  </ul>\n",
      " </body>\n",
      "</html>\n",
      "\n"
     ]
    },
    {
     "data": {
      "text/plain": [
       "1312"
      ]
     },
     "execution_count": 654,
     "metadata": {},
     "output_type": "execute_result"
    }
   ],
   "source": [
    "from bs4 import BeautifulSoup\n",
    "import lxml.etree as ET\n",
    "from IPython.core.display import display, HTML\n",
    "\n",
    "dom = ET.parse('examples/product.xml')\n",
    "xslt = ET.parse('examples/product3.xsl')\n",
    "transform = ET.XSLT(xslt)\n",
    "newdom = transform(dom)\n",
    "result = BeautifulSoup(str(newdom))\n",
    "html = result.prettify()\n",
    "print(html)\n",
    "f=open(\"examples/product3.html\",\"w+\")\n",
    "f.write(html)"
   ]
  },
  {
   "cell_type": "code",
   "execution_count": 655,
   "metadata": {
    "hideCode": true,
    "hidePrompt": true,
    "slideshow": {
     "slide_type": "slide"
    }
   },
   "outputs": [
    {
     "data": {
      "text/html": [
       "\n",
       "        <iframe\n",
       "            width=\"100%\"\n",
       "            height=\"800px\"\n",
       "            src=\"examples/product3.html\"\n",
       "            frameborder=\"0\"\n",
       "            allowfullscreen\n",
       "        ></iframe>\n",
       "        "
      ],
      "text/plain": [
       "<IPython.lib.display.IFrame at 0x108a602d0>"
      ]
     },
     "execution_count": 655,
     "metadata": {},
     "output_type": "execute_result"
    }
   ],
   "source": [
    "from IPython.display import IFrame\n",
    "IFrame(src='examples/product3.html', width=\"100%\", height=\"800px\")"
   ]
  },
  {
   "cell_type": "markdown",
   "metadata": {
    "slideshow": {
     "slide_type": "slide"
    }
   },
   "source": [
    "## Values and Logic\n",
    "* Let's select specific ``price`` based on attributes"
   ]
  },
  {
   "cell_type": "code",
   "execution_count": 657,
   "metadata": {},
   "outputs": [
    {
     "name": "stdout",
     "output_type": "stream",
     "text": [
      "Overwriting examples/product4.xsl\n"
     ]
    }
   ],
   "source": [
    "%%writefile examples/product4.xsl\n",
    "<?xml version=\"1.0\" encoding=\"UTF-8\" ?>\n",
    "<xsl:transform xmlns:xsl=\"http://www.w3.org/1999/XSL/Transform\" version=\"1.0\">\n",
    "\n",
    "    <xsl:template match=\"/\">\n",
    "\t<html>\n",
    "\t<head><title></title></head>\n",
    "\t<body>\n",
    "            <xsl:apply-templates select=\"products/vendor\" />\n",
    "\t</body>\n",
    "\t</html>\n",
    "    </xsl:template>\n",
    "    \n",
    "    \n",
    "    \n",
    "    <xsl:template match=\"product\">\n",
    "        <ul><li>\n",
    "            <xsl:apply-templates select=\"product_id\"/>\n",
    "            <xsl:value-of select=\"short_desc\"/>\n",
    "            <br/><xsl:apply-templates select=\"inventory[@color and @location='warehouse']\"/>\n",
    "            <p><xsl:value-of select=\"price[@pricetype='sale'] | \n",
    "            \t\t\t     price[@pricetype!='cost']\"/></p>\n",
    "            \n",
    "        </li></ul>\n",
    "    </xsl:template>\n",
    "    \n",
    "    <xsl:template match=\"inventory[@color and @location='warehouse']\">\n",
    "    \t--<xsl:value-of select=\"@color\"/><br/>\n",
    "    </xsl:template>\n",
    "\n",
    "    <xsl:template match=\"product/product_id\">\n",
    "        <xsl:value-of select=\".\"/>:\n",
    "    </xsl:template>\n",
    "    \n",
    "    <xsl:template match=\"vendor\">\n",
    "       <p><xsl:value-of select=\"vendor_name\"/></p>\n",
    "       <xsl:apply-templates select=\".//product\" />\n",
    "    </xsl:template>\n",
    "\n",
    "</xsl:transform>\n"
   ]
  },
  {
   "cell_type": "code",
   "execution_count": 664,
   "metadata": {
    "hideCode": true,
    "hidePrompt": true,
    "slideshow": {
     "slide_type": "slide"
    }
   },
   "outputs": [
    {
     "name": "stdout",
     "output_type": "stream",
     "text": [
      "<html>\n",
      " <head>\n",
      "  <meta content=\"text/html; charset=utf-8\" http-equiv=\"Content-Type\"/>\n",
      "  <title>\n",
      "  </title>\n",
      " </head>\n",
      " <body>\n",
      "  <p>\n",
      "   Conners Chair Company\n",
      "  </p>\n",
      "  <ul>\n",
      "   <li>\n",
      "    QA3452:\n",
      "    Queen Anne Chair\n",
      "    <br/>\n",
      "    --royal blue\n",
      "    <br/>\n",
      "    --flower print\n",
      "    <br/>\n",
      "    --seafoam green\n",
      "    <br/>\n",
      "    --teal\n",
      "    <br/>\n",
      "    --burgundy\n",
      "    <br/>\n",
      "    <p>\n",
      "     $125\n",
      "    </p>\n",
      "   </li>\n",
      "  </ul>\n",
      "  <ul>\n",
      "   <li>\n",
      "    RC2342:\n",
      "    Early American Rocking Chair\n",
      "    <br/>\n",
      "    <p>\n",
      "     $62\n",
      "    </p>\n",
      "   </li>\n",
      "  </ul>\n",
      "  <ul>\n",
      "   <li>\n",
      "    BR3452:\n",
      "    Bentwood Rocker\n",
      "    <br/>\n",
      "    <p>\n",
      "     $160\n",
      "    </p>\n",
      "   </li>\n",
      "  </ul>\n",
      "  <p>\n",
      "   Wally's Wonderful World of Furniture\n",
      "  </p>\n",
      "  <ul>\n",
      "   <li>\n",
      "    WWWdrt:\n",
      "    Dining Room Table\n",
      "    <br/>\n",
      "    <p>\n",
      "     $145\n",
      "    </p>\n",
      "   </li>\n",
      "  </ul>\n",
      "  <ul>\n",
      "   <li>\n",
      "    WWWsc:\n",
      "    Swivel Chair\n",
      "    <br/>\n",
      "    <p>\n",
      "     $45\n",
      "    </p>\n",
      "   </li>\n",
      "  </ul>\n",
      "  <ul>\n",
      "   <li>\n",
      "    WWWhch:\n",
      "    Hutch\n",
      "    <br/>\n",
      "    <p>\n",
      "     $425\n",
      "    </p>\n",
      "   </li>\n",
      "  </ul>\n",
      "  <ul>\n",
      "   <li>\n",
      "    HallBench:\n",
      "    Hall Bench\n",
      "    <br/>\n",
      "    <p>\n",
      "     $62\n",
      "    </p>\n",
      "   </li>\n",
      "  </ul>\n",
      "  <ul>\n",
      "   <li>\n",
      "    SofaLoveSeat:\n",
      "    Sofa and Love Seat\n",
      "    <br/>\n",
      "    --magnolia print\n",
      "    <br/>\n",
      "    --nautical print\n",
      "    <br/>\n",
      "    <p>\n",
      "     $175\n",
      "    </p>\n",
      "   </li>\n",
      "  </ul>\n",
      "  <p>\n",
      "   Crazy Marge's Bed Emporium\n",
      "  </p>\n",
      "  <ul>\n",
      "   <li>\n",
      "    3253435:\n",
      "    Sleepeazy Mattresses\n",
      "    <br/>\n",
      "    <p>\n",
      "     $300\n",
      "    </p>\n",
      "   </li>\n",
      "  </ul>\n",
      "  <ul>\n",
      "   <li>\n",
      "    5622345:\n",
      "    CozyComfort Mattresses\n",
      "    <br/>\n",
      "    <p>\n",
      "     starting at only $99.99\n",
      "    </p>\n",
      "   </li>\n",
      "  </ul>\n",
      "  <ul>\n",
      "   <li>\n",
      "    39981234:\n",
      "    Floataway Waterbeds\n",
      "    <br/>\n",
      "    <p>\n",
      "    </p>\n",
      "   </li>\n",
      "  </ul>\n",
      " </body>\n",
      "</html>\n",
      "\n"
     ]
    },
    {
     "data": {
      "text/plain": [
       "1615"
      ]
     },
     "execution_count": 664,
     "metadata": {},
     "output_type": "execute_result"
    }
   ],
   "source": [
    "from bs4 import BeautifulSoup\n",
    "import lxml.etree as ET\n",
    "from IPython.core.display import display, HTML\n",
    "\n",
    "dom = ET.parse('examples/product.xml')\n",
    "xslt = ET.parse('examples/product4.xsl')\n",
    "transform = ET.XSLT(xslt)\n",
    "newdom = transform(dom)\n",
    "result = BeautifulSoup(str(newdom))\n",
    "html = result.prettify()\n",
    "print(html)\n",
    "f=open(\"examples/product4.html\",\"w+\")\n",
    "f.write(html)"
   ]
  },
  {
   "cell_type": "code",
   "execution_count": 665,
   "metadata": {
    "hideCode": true,
    "hidePrompt": true,
    "slideshow": {
     "slide_type": "slide"
    }
   },
   "outputs": [
    {
     "data": {
      "text/html": [
       "\n",
       "        <iframe\n",
       "            width=\"100%\"\n",
       "            height=\"800px\"\n",
       "            src=\"examples/product4.html\"\n",
       "            frameborder=\"0\"\n",
       "            allowfullscreen\n",
       "        ></iframe>\n",
       "        "
      ],
      "text/plain": [
       "<IPython.lib.display.IFrame at 0x10903c290>"
      ]
     },
     "execution_count": 665,
     "metadata": {},
     "output_type": "execute_result"
    }
   ],
   "source": [
    "from IPython.display import IFrame\n",
    "IFrame(src='examples/product4.html', width=\"100%\", height=\"800px\")"
   ]
  },
  {
   "cell_type": "markdown",
   "metadata": {
    "slideshow": {
     "slide_type": "slide"
    }
   },
   "source": [
    "## Looping\n",
    "* Let's select specific ``price`` based on attributes"
   ]
  },
  {
   "cell_type": "code",
   "execution_count": 666,
   "metadata": {},
   "outputs": [
    {
     "name": "stdout",
     "output_type": "stream",
     "text": [
      "Overwriting examples/product5.xsl\n"
     ]
    }
   ],
   "source": [
    "%%writefile examples/product5.xsl\n",
    "<xsl:transform xmlns:xsl=\"http://www.w3.org/1999/XSL/Transform\" version=\"1.0\">\n",
    "\n",
    "    <xsl:template match=\"/\">\n",
    "\t<html>\n",
    "\t<head><title></title></head>\n",
    "\t<body>\n",
    "    \t<xsl:for-each select=\"//vendor_name\">\n",
    "    \t\t<h2><xsl:value-of select=\".\"/></h2>\n",
    "    \t</xsl:for-each>\t\n",
    "    \t<xsl:apply-templates select=\"products/vendor\" />\n",
    "\t</body>\n",
    "\t</html>\n",
    "    </xsl:template>\n",
    "    \n",
    "    <xsl:template match=\"product\">\n",
    "        <ul><li>\n",
    "            <xsl:apply-templates select=\"product_id\"/>\n",
    "            <xsl:value-of select=\"short_desc\"/>\n",
    "            <br/><xsl:apply-templates select=\"inventory[@color and @location='warehouse']\"/>\n",
    "            <p><xsl:value-of select=\"price[@pricetype='sale'] | \n",
    "            \t\t\t     price[@pricetype='retail']\"/></p>\n",
    "            \n",
    "        </li></ul>\n",
    "    </xsl:template>\n",
    "    \n",
    "    <xsl:template match=\"inventory[@color and @location='warehouse']\">\n",
    "    \t--<xsl:value-of select=\"@color\"/><br/>\n",
    "    </xsl:template>\n",
    "\n",
    "    <xsl:template match=\"product/product_id\">\n",
    "        <xsl:value-of select=\".\"/>:\n",
    "    </xsl:template>\n",
    "    \n",
    "    <xsl:template match=\"vendor\">\n",
    "       <p><xsl:value-of select=\"vendor_name\"/></p>\n",
    "       <xsl:apply-templates select=\".//product\" />\n",
    "    </xsl:template>\n",
    "\n",
    "    \n",
    "</xsl:transform>"
   ]
  },
  {
   "cell_type": "code",
   "execution_count": 669,
   "metadata": {
    "hideCode": true,
    "hidePrompt": true,
    "scrolled": true,
    "slideshow": {
     "slide_type": "slide"
    }
   },
   "outputs": [
    {
     "name": "stdout",
     "output_type": "stream",
     "text": [
      "<html>\n",
      " <head>\n",
      "  <meta content=\"text/html; charset=utf-8\" http-equiv=\"Content-Type\"/>\n",
      "  <title>\n",
      "  </title>\n",
      " </head>\n",
      " <body>\n",
      "  <h2>\n",
      "   Conners Chair Company\n",
      "  </h2>\n",
      "  <h2>\n",
      "   Wally's Wonderful World of Furniture\n",
      "  </h2>\n",
      "  <h2>\n",
      "   Crazy Marge's Bed Emporium\n",
      "  </h2>\n",
      "  <p>\n",
      "   Conners Chair Company\n",
      "  </p>\n",
      "  <ul>\n",
      "   <li>\n",
      "    QA3452:\n",
      "    Queen Anne Chair\n",
      "    <br/>\n",
      "    --royal blue\n",
      "    <br/>\n",
      "    --flower print\n",
      "    <br/>\n",
      "    --seafoam green\n",
      "    <br/>\n",
      "    --teal\n",
      "    <br/>\n",
      "    --burgundy\n",
      "    <br/>\n",
      "    <p>\n",
      "     $125\n",
      "    </p>\n",
      "   </li>\n",
      "  </ul>\n",
      "  <ul>\n",
      "   <li>\n",
      "    RC2342:\n",
      "    Early American Rocking Chair\n",
      "    <br/>\n",
      "    <p>\n",
      "     $62\n",
      "    </p>\n",
      "   </li>\n",
      "  </ul>\n",
      "  <ul>\n",
      "   <li>\n",
      "    BR3452:\n",
      "    Bentwood Rocker\n",
      "    <br/>\n",
      "    <p>\n",
      "     $160\n",
      "    </p>\n",
      "   </li>\n",
      "  </ul>\n",
      "  <p>\n",
      "   Wally's Wonderful World of Furniture\n",
      "  </p>\n",
      "  <ul>\n",
      "   <li>\n",
      "    WWWdrt:\n",
      "    Dining Room Table\n",
      "    <br/>\n",
      "    <p>\n",
      "     $145\n",
      "    </p>\n",
      "   </li>\n",
      "  </ul>\n",
      "  <ul>\n",
      "   <li>\n",
      "    WWWsc:\n",
      "    Swivel Chair\n",
      "    <br/>\n",
      "    <p>\n",
      "     $45\n",
      "    </p>\n",
      "   </li>\n",
      "  </ul>\n",
      "  <ul>\n",
      "   <li>\n",
      "    WWWhch:\n",
      "    Hutch\n",
      "    <br/>\n",
      "    <p>\n",
      "     $425\n",
      "    </p>\n",
      "   </li>\n",
      "  </ul>\n",
      "  <ul>\n",
      "   <li>\n",
      "    HallBench:\n",
      "    Hall Bench\n",
      "    <br/>\n",
      "    <p>\n",
      "     $62\n",
      "    </p>\n",
      "   </li>\n",
      "  </ul>\n",
      "  <ul>\n",
      "   <li>\n",
      "    SofaLoveSeat:\n",
      "    Sofa and Love Seat\n",
      "    <br/>\n",
      "    --magnolia print\n",
      "    <br/>\n",
      "    --nautical print\n",
      "    <br/>\n",
      "    <p>\n",
      "     $175\n",
      "    </p>\n",
      "   </li>\n",
      "  </ul>\n",
      "  <p>\n",
      "   Crazy Marge's Bed Emporium\n",
      "  </p>\n",
      "  <ul>\n",
      "   <li>\n",
      "    3253435:\n",
      "    Sleepeazy Mattresses\n",
      "    <br/>\n",
      "    <p>\n",
      "     $300\n",
      "    </p>\n",
      "   </li>\n",
      "  </ul>\n",
      "  <ul>\n",
      "   <li>\n",
      "    5622345:\n",
      "    CozyComfort Mattresses\n",
      "    <br/>\n",
      "    <p>\n",
      "    </p>\n",
      "   </li>\n",
      "  </ul>\n",
      "  <ul>\n",
      "   <li>\n",
      "    39981234:\n",
      "    Floataway Waterbeds\n",
      "    <br/>\n",
      "    <p>\n",
      "    </p>\n",
      "   </li>\n",
      "  </ul>\n",
      " </body>\n",
      "</html>\n",
      "\n"
     ]
    },
    {
     "data": {
      "text/plain": [
       "1726"
      ]
     },
     "execution_count": 669,
     "metadata": {},
     "output_type": "execute_result"
    }
   ],
   "source": [
    "from bs4 import BeautifulSoup\n",
    "import lxml.etree as ET\n",
    "from IPython.core.display import display, HTML\n",
    "\n",
    "dom = ET.parse('examples/product.xml')\n",
    "xslt = ET.parse('examples/product5.xsl')\n",
    "transform = ET.XSLT(xslt)\n",
    "newdom = transform(dom)\n",
    "result = BeautifulSoup(str(newdom))\n",
    "html = result.prettify()\n",
    "print(html)\n",
    "f=open(\"examples/product5.html\",\"w+\")\n",
    "f.write(html)"
   ]
  },
  {
   "cell_type": "code",
   "execution_count": 670,
   "metadata": {
    "hideCode": true,
    "hidePrompt": true,
    "slideshow": {
     "slide_type": "slide"
    }
   },
   "outputs": [
    {
     "data": {
      "text/html": [
       "\n",
       "        <iframe\n",
       "            width=\"100%\"\n",
       "            height=\"800px\"\n",
       "            src=\"examples/product5.html\"\n",
       "            frameborder=\"0\"\n",
       "            allowfullscreen\n",
       "        ></iframe>\n",
       "        "
      ],
      "text/plain": [
       "<IPython.lib.display.IFrame at 0x10964c390>"
      ]
     },
     "execution_count": 670,
     "metadata": {},
     "output_type": "execute_result"
    }
   ],
   "source": [
    "from IPython.display import IFrame\n",
    "IFrame(src='examples/product5.html', width=\"100%\", height=\"800px\")"
   ]
  },
  {
   "cell_type": "markdown",
   "metadata": {
    "slideshow": {
     "slide_type": "slide"
    }
   },
   "source": [
    "## Sorting"
   ]
  },
  {
   "cell_type": "code",
   "execution_count": 641,
   "metadata": {
    "hideCode": false,
    "hidePrompt": false,
    "slideshow": {
     "slide_type": "-"
    }
   },
   "outputs": [
    {
     "name": "stdout",
     "output_type": "stream",
     "text": [
      "Overwriting examples/product6.xsl\n"
     ]
    }
   ],
   "source": [
    "%%writefile examples/product6.xsl\n",
    "<?xml version=\"1.0\" encoding=\"UTF-8\" ?>\n",
    "<xsl:transform xmlns:xsl=\"http://www.w3.org/1999/XSL/Transform\" version=\"1.0\">\n",
    "\n",
    "    <xsl:template match=\"/\">\n",
    "\t<html>\n",
    "\t<head><title></title></head>\n",
    "\t<body>\n",
    "    \t<xsl:for-each select=\"//vendor_name\">\n",
    "\t\t<xsl:sort select=\".\"/>\n",
    "    \t\t<h2><xsl:value-of select=\".\"/></h2>\n",
    "    \t</xsl:for-each>\t\n",
    "    \t<xsl:apply-templates select=\"products/vendor\" />\n",
    "\t</body>\n",
    "\t</html>\n",
    "    </xsl:template>\n",
    "    \n",
    "    <xsl:template match=\"product\">\n",
    "        <ul><li>\n",
    "            <xsl:apply-templates select=\"product_id\"/>\n",
    "            <xsl:value-of select=\"short_desc\"/>\n",
    "            <br/><xsl:apply-templates select=\"inventory[@color and @location='warehouse']\"/>\n",
    "            <p><xsl:value-of select=\"price[@pricetype='sale'] | \n",
    "            \t\t\t     price[@pricetype='retail']\"/></p>\n",
    "            \n",
    "        </li></ul>\n",
    "    </xsl:template>\n",
    "    \n",
    "    <xsl:template match=\"inventory[@color and @location='warehouse']\">\n",
    "    \t--<xsl:value-of select=\"@color\"/><br/>\n",
    "    </xsl:template>\n",
    "\n",
    "    <xsl:template match=\"product/product_id\">\n",
    "        <xsl:value-of select=\".\"/>:\n",
    "    </xsl:template>\n",
    "    \n",
    "    <xsl:template match=\"vendor\">\n",
    "       <p><xsl:value-of select=\"vendor_name\"/></p>\n",
    "       <xsl:apply-templates select=\".//product\" />\n",
    "    </xsl:template>\n",
    "\n",
    "    \n",
    "</xsl:transform>"
   ]
  },
  {
   "cell_type": "code",
   "execution_count": 674,
   "metadata": {
    "hideCode": true,
    "hidePrompt": true,
    "slideshow": {
     "slide_type": "slide"
    }
   },
   "outputs": [
    {
     "name": "stdout",
     "output_type": "stream",
     "text": [
      "<html>\n",
      " <head>\n",
      "  <meta content=\"text/html; charset=utf-8\" http-equiv=\"Content-Type\"/>\n",
      "  <title>\n",
      "  </title>\n",
      " </head>\n",
      " <body>\n",
      "  <h2>\n",
      "   Conners Chair Company\n",
      "  </h2>\n",
      "  <h2>\n",
      "   Crazy Marge's Bed Emporium\n",
      "  </h2>\n",
      "  <h2>\n",
      "   Wally's Wonderful World of Furniture\n",
      "  </h2>\n",
      "  <p>\n",
      "   Conners Chair Company\n",
      "  </p>\n",
      "  <ul>\n",
      "   <li>\n",
      "    QA3452:\n",
      "    Queen Anne Chair\n",
      "    <br/>\n",
      "    --royal blue\n",
      "    <br/>\n",
      "    --flower print\n",
      "    <br/>\n",
      "    --seafoam green\n",
      "    <br/>\n",
      "    --teal\n",
      "    <br/>\n",
      "    --burgundy\n",
      "    <br/>\n",
      "    <p>\n",
      "     $125\n",
      "    </p>\n",
      "   </li>\n",
      "  </ul>\n",
      "  <ul>\n",
      "   <li>\n",
      "    RC2342:\n",
      "    Early American Rocking Chair\n",
      "    <br/>\n",
      "    <p>\n",
      "     $62\n",
      "    </p>\n",
      "   </li>\n",
      "  </ul>\n",
      "  <ul>\n",
      "   <li>\n",
      "    BR3452:\n",
      "    Bentwood Rocker\n",
      "    <br/>\n",
      "    <p>\n",
      "     $160\n",
      "    </p>\n",
      "   </li>\n",
      "  </ul>\n",
      "  <p>\n",
      "   Wally's Wonderful World of Furniture\n",
      "  </p>\n",
      "  <ul>\n",
      "   <li>\n",
      "    WWWdrt:\n",
      "    Dining Room Table\n",
      "    <br/>\n",
      "    <p>\n",
      "     $145\n",
      "    </p>\n",
      "   </li>\n",
      "  </ul>\n",
      "  <ul>\n",
      "   <li>\n",
      "    WWWsc:\n",
      "    Swivel Chair\n",
      "    <br/>\n",
      "    <p>\n",
      "     $45\n",
      "    </p>\n",
      "   </li>\n",
      "  </ul>\n",
      "  <ul>\n",
      "   <li>\n",
      "    WWWhch:\n",
      "    Hutch\n",
      "    <br/>\n",
      "    <p>\n",
      "     $425\n",
      "    </p>\n",
      "   </li>\n",
      "  </ul>\n",
      "  <ul>\n",
      "   <li>\n",
      "    HallBench:\n",
      "    Hall Bench\n",
      "    <br/>\n",
      "    <p>\n",
      "     $62\n",
      "    </p>\n",
      "   </li>\n",
      "  </ul>\n",
      "  <ul>\n",
      "   <li>\n",
      "    SofaLoveSeat:\n",
      "    Sofa and Love Seat\n",
      "    <br/>\n",
      "    --magnolia print\n",
      "    <br/>\n",
      "    --nautical print\n",
      "    <br/>\n",
      "    <p>\n",
      "     $175\n",
      "    </p>\n",
      "   </li>\n",
      "  </ul>\n",
      "  <p>\n",
      "   Crazy Marge's Bed Emporium\n",
      "  </p>\n",
      "  <ul>\n",
      "   <li>\n",
      "    3253435:\n",
      "    Sleepeazy Mattresses\n",
      "    <br/>\n",
      "    <p>\n",
      "     $300\n",
      "    </p>\n",
      "   </li>\n",
      "  </ul>\n",
      "  <ul>\n",
      "   <li>\n",
      "    5622345:\n",
      "    CozyComfort Mattresses\n",
      "    <br/>\n",
      "    <p>\n",
      "    </p>\n",
      "   </li>\n",
      "  </ul>\n",
      "  <ul>\n",
      "   <li>\n",
      "    39981234:\n",
      "    Floataway Waterbeds\n",
      "    <br/>\n",
      "    <p>\n",
      "    </p>\n",
      "   </li>\n",
      "  </ul>\n",
      " </body>\n",
      "</html>\n",
      "\n"
     ]
    },
    {
     "data": {
      "text/plain": [
       "1726"
      ]
     },
     "execution_count": 674,
     "metadata": {},
     "output_type": "execute_result"
    }
   ],
   "source": [
    "from bs4 import BeautifulSoup\n",
    "import lxml.etree as ET\n",
    "from IPython.core.display import display, HTML\n",
    "\n",
    "dom = ET.parse('examples/product.xml')\n",
    "xslt = ET.parse('examples/product6.xsl')\n",
    "transform = ET.XSLT(xslt)\n",
    "newdom = transform(dom)\n",
    "result = BeautifulSoup(str(newdom))\n",
    "html = result.prettify()\n",
    "print(html)\n",
    "f=open(\"examples/product6.html\",\"w+\")\n",
    "f.write(html)"
   ]
  },
  {
   "cell_type": "code",
   "execution_count": 675,
   "metadata": {
    "hideCode": true,
    "hidePrompt": true,
    "slideshow": {
     "slide_type": "slide"
    }
   },
   "outputs": [
    {
     "data": {
      "text/html": [
       "\n",
       "        <iframe\n",
       "            width=\"100%\"\n",
       "            height=\"800px\"\n",
       "            src=\"examples/product6.html\"\n",
       "            frameborder=\"0\"\n",
       "            allowfullscreen\n",
       "        ></iframe>\n",
       "        "
      ],
      "text/plain": [
       "<IPython.lib.display.IFrame at 0x10966e310>"
      ]
     },
     "execution_count": 675,
     "metadata": {},
     "output_type": "execute_result"
    }
   ],
   "source": [
    "from IPython.display import IFrame\n",
    "IFrame(src='examples/product6.html', width=\"100%\", height=\"800px\")"
   ]
  },
  {
   "cell_type": "markdown",
   "metadata": {
    "slideshow": {
     "slide_type": "slide"
    }
   },
   "source": [
    "## Creating Elements and Attributes"
   ]
  },
  {
   "cell_type": "code",
   "execution_count": 642,
   "metadata": {},
   "outputs": [
    {
     "name": "stdout",
     "output_type": "stream",
     "text": [
      "Overwriting examples/product7.xsl\n"
     ]
    }
   ],
   "source": [
    "%%writefile examples/product7.xsl\n",
    "<?xml version=\"1.0\" encoding=\"UTF-8\" ?>\n",
    "<xsl:transform xmlns:xsl=\"http://www.w3.org/1999/XSL/Transform\" version=\"1.0\">\n",
    "\n",
    "    <xsl:template match=\"/\">\n",
    "\t<html>\n",
    "\t<head><title></title></head>\n",
    "\t<body>\n",
    "    \t<xsl:for-each select=\"//vendor_name\">\n",
    "\t\t<xsl:sort select=\".\"/>\n",
    "\t\t<xsl:element name=\"a\">\n",
    "    \t\t\t\t<xsl:attribute name=\"href\">\n",
    "    \t\t\t\t\t#<xsl:value-of select=\".\"/>\n",
    "    \t\t\t\t</xsl:attribute>\n",
    "    \t\t\t\t<h2><xsl:value-of select=\".\"/></h2>\n",
    "    \t\t\t</xsl:element>\n",
    "    \t</xsl:for-each>\t\n",
    "    \t<xsl:apply-templates select=\"products/vendor\" />\n",
    "\t</body>\n",
    "\t</html>\n",
    "    </xsl:template>\n",
    "    \n",
    "    <xsl:template match=\"product\">\n",
    "        <ul><li>\n",
    "            <xsl:apply-templates select=\"product_id\"/>\n",
    "            <xsl:value-of select=\"short_desc\"/>\n",
    "            <br/><xsl:apply-templates select=\"inventory[@color and @location='warehouse']\"/>\n",
    "            <p><xsl:value-of select=\"price[@pricetype='sale'] | \n",
    "            \t\t\t     price[@pricetype='retail']\"/></p>\n",
    "            \n",
    "        </li></ul>\n",
    "    </xsl:template>\n",
    "    \n",
    "    <xsl:template match=\"inventory[@color and @location='warehouse']\">\n",
    "    \t--<xsl:value-of select=\"@color\"/><br/>\n",
    "    </xsl:template>\n",
    "\n",
    "    <xsl:template match=\"product/product_id\">\n",
    "        <xsl:value-of select=\".\"/>:\n",
    "    </xsl:template>\n",
    "    \n",
    "    <xsl:template match=\"vendor\">\n",
    "       <p><xsl:value-of select=\"vendor_name\"/></p>\n",
    "       <xsl:apply-templates select=\".//product\" />\n",
    "    </xsl:template>\n",
    "\n",
    "    \n",
    "</xsl:transform>\n"
   ]
  },
  {
   "cell_type": "code",
   "execution_count": 679,
   "metadata": {
    "hideCode": true,
    "hidePrompt": true,
    "slideshow": {
     "slide_type": "slide"
    }
   },
   "outputs": [
    {
     "name": "stdout",
     "output_type": "stream",
     "text": [
      "<html>\n",
      " <head>\n",
      "  <meta content=\"text/html; charset=utf-8\" http-equiv=\"Content-Type\"/>\n",
      "  <title>\n",
      "  </title>\n",
      " </head>\n",
      " <body>\n",
      "  <a href=\"#Conners%20Chair%20Company\">\n",
      "   <h2>\n",
      "    Conners Chair Company\n",
      "   </h2>\n",
      "  </a>\n",
      "  <a href=\"#Crazy%20Marge's%20Bed%20Emporium\">\n",
      "   <h2>\n",
      "    Crazy Marge's Bed Emporium\n",
      "   </h2>\n",
      "  </a>\n",
      "  <a href=\"#Wally's%20Wonderful%20World%20of%20Furniture\">\n",
      "   <h2>\n",
      "    Wally's Wonderful World of Furniture\n",
      "   </h2>\n",
      "  </a>\n",
      "  <p>\n",
      "   Conners Chair Company\n",
      "  </p>\n",
      "  <ul>\n",
      "   <li>\n",
      "    QA3452:\n",
      "    Queen Anne Chair\n",
      "    <br/>\n",
      "    --royal blue\n",
      "    <br/>\n",
      "    --flower print\n",
      "    <br/>\n",
      "    --seafoam green\n",
      "    <br/>\n",
      "    --teal\n",
      "    <br/>\n",
      "    --burgundy\n",
      "    <br/>\n",
      "    <p>\n",
      "     $125\n",
      "    </p>\n",
      "   </li>\n",
      "  </ul>\n",
      "  <ul>\n",
      "   <li>\n",
      "    RC2342:\n",
      "    Early American Rocking Chair\n",
      "    <br/>\n",
      "    <p>\n",
      "     $62\n",
      "    </p>\n",
      "   </li>\n",
      "  </ul>\n",
      "  <ul>\n",
      "   <li>\n",
      "    BR3452:\n",
      "    Bentwood Rocker\n",
      "    <br/>\n",
      "    <p>\n",
      "     $160\n",
      "    </p>\n",
      "   </li>\n",
      "  </ul>\n",
      "  <p>\n",
      "   Wally's Wonderful World of Furniture\n",
      "  </p>\n",
      "  <ul>\n",
      "   <li>\n",
      "    WWWdrt:\n",
      "    Dining Room Table\n",
      "    <br/>\n",
      "    <p>\n",
      "     $145\n",
      "    </p>\n",
      "   </li>\n",
      "  </ul>\n",
      "  <ul>\n",
      "   <li>\n",
      "    WWWsc:\n",
      "    Swivel Chair\n",
      "    <br/>\n",
      "    <p>\n",
      "     $45\n",
      "    </p>\n",
      "   </li>\n",
      "  </ul>\n",
      "  <ul>\n",
      "   <li>\n",
      "    WWWhch:\n",
      "    Hutch\n",
      "    <br/>\n",
      "    <p>\n",
      "     $425\n",
      "    </p>\n",
      "   </li>\n",
      "  </ul>\n",
      "  <ul>\n",
      "   <li>\n",
      "    HallBench:\n",
      "    Hall Bench\n",
      "    <br/>\n",
      "    <p>\n",
      "     $62\n",
      "    </p>\n",
      "   </li>\n",
      "  </ul>\n",
      "  <ul>\n",
      "   <li>\n",
      "    SofaLoveSeat:\n",
      "    Sofa and Love Seat\n",
      "    <br/>\n",
      "    --magnolia print\n",
      "    <br/>\n",
      "    --nautical print\n",
      "    <br/>\n",
      "    <p>\n",
      "     $175\n",
      "    </p>\n",
      "   </li>\n",
      "  </ul>\n",
      "  <p>\n",
      "   Crazy Marge's Bed Emporium\n",
      "  </p>\n",
      "  <ul>\n",
      "   <li>\n",
      "    3253435:\n",
      "    Sleepeazy Mattresses\n",
      "    <br/>\n",
      "    <p>\n",
      "     $300\n",
      "    </p>\n",
      "   </li>\n",
      "  </ul>\n",
      "  <ul>\n",
      "   <li>\n",
      "    5622345:\n",
      "    CozyComfort Mattresses\n",
      "    <br/>\n",
      "    <p>\n",
      "    </p>\n",
      "   </li>\n",
      "  </ul>\n",
      "  <ul>\n",
      "   <li>\n",
      "    39981234:\n",
      "    Floataway Waterbeds\n",
      "    <br/>\n",
      "    <p>\n",
      "    </p>\n",
      "   </li>\n",
      "  </ul>\n",
      " </body>\n",
      "</html>\n",
      "\n"
     ]
    },
    {
     "data": {
      "text/plain": [
       "1902"
      ]
     },
     "execution_count": 679,
     "metadata": {},
     "output_type": "execute_result"
    }
   ],
   "source": [
    "from bs4 import BeautifulSoup\n",
    "import lxml.etree as ET\n",
    "from IPython.core.display import display, HTML\n",
    "\n",
    "dom = ET.parse('examples/product.xml')\n",
    "xslt = ET.parse('examples/product7.xsl')\n",
    "transform = ET.XSLT(xslt)\n",
    "newdom = transform(dom)\n",
    "result = BeautifulSoup(str(newdom))\n",
    "html = result.prettify()\n",
    "print(html)\n",
    "f=open(\"examples/product7.html\",\"w+\")\n",
    "f.write(html)"
   ]
  },
  {
   "cell_type": "code",
   "execution_count": 680,
   "metadata": {
    "hideCode": true,
    "hidePrompt": true,
    "slideshow": {
     "slide_type": "slide"
    }
   },
   "outputs": [
    {
     "data": {
      "text/html": [
       "\n",
       "        <iframe\n",
       "            width=\"100%\"\n",
       "            height=\"800px\"\n",
       "            src=\"examples/product7.html\"\n",
       "            frameborder=\"0\"\n",
       "            allowfullscreen\n",
       "        ></iframe>\n",
       "        "
      ],
      "text/plain": [
       "<IPython.lib.display.IFrame at 0x109583e10>"
      ]
     },
     "execution_count": 680,
     "metadata": {},
     "output_type": "execute_result"
    }
   ],
   "source": [
    "from IPython.display import IFrame\n",
    "IFrame(src='examples/product7.html', width=\"100%\", height=\"800px\")"
   ]
  },
  {
   "cell_type": "markdown",
   "metadata": {
    "slideshow": {
     "slide_type": "slide"
    }
   },
   "source": [
    "## Conditionals: If"
   ]
  },
  {
   "cell_type": "code",
   "execution_count": 643,
   "metadata": {},
   "outputs": [
    {
     "name": "stdout",
     "output_type": "stream",
     "text": [
      "Overwriting examples/product8.xsl\n"
     ]
    }
   ],
   "source": [
    "%%writefile examples/product8.xsl\n",
    "<xsl:transform xmlns:xsl=\"http://www.w3.org/1999/XSL/Transform\" version=\"1.0\">\n",
    "\n",
    "    <xsl:template match=\"/\">\n",
    "\t<html>\n",
    "\t<head><title></title></head>\n",
    "\t<body>\n",
    "    \t<xsl:for-each select=\"//vendor_name\">\n",
    "\t\t<xsl:sort select=\".\"/>\n",
    "\t\t<xsl:if test=\"../@webvendor!='no'\">\n",
    "\t\t\t<xsl:element name=\"a\">\n",
    "    \t\t\t\t<xsl:attribute name=\"href\">\n",
    "    \t\t\t\t\t#<xsl:value-of select=\".\"/>\n",
    "    \t\t\t\t</xsl:attribute>\n",
    "    \t\t\t\t<h2><xsl:value-of select=\".\"/></h2>\n",
    "    \t\t\t</xsl:element>\n",
    "\t\t</xsl:if>\n",
    "    \t</xsl:for-each>\t\n",
    "\t<xsl:for-each select=\"//vendor\">\n",
    "\t\t<xsl:sort select=\"vendor_name\"/>\n",
    "    \t\t   <xsl:if test=\"@webvendor!='no'\">\n",
    "\t\t\t<p><xsl:value-of select=\"vendor_name\"/></p>\n",
    "    \t\t\t<xsl:apply-templates select=\".//product\"/>\n",
    "    \t   \t</xsl:if>\t\n",
    "    \t</xsl:for-each>\n",
    "\n",
    "\t</body>\n",
    "\t</html>\n",
    "    </xsl:template>\n",
    "    \n",
    "    <xsl:template match=\"product\">\n",
    "        <ul><li>\n",
    "            <xsl:apply-templates select=\"product_id\"/>\n",
    "            <xsl:value-of select=\"short_desc\"/>\n",
    "            <br/><xsl:apply-templates select=\"inventory[@color and @location='warehouse']\"/>\n",
    "            <p><xsl:value-of select=\"price[@pricetype='sale'] | \n",
    "            \t\t\t     price[@pricetype='retail']\"/></p>\n",
    "            \n",
    "        </li></ul>\n",
    "    </xsl:template>\n",
    "    \n",
    "    <xsl:template match=\"inventory[@color and @location='warehouse']\">\n",
    "    \t--<xsl:value-of select=\"@color\"/><br/>\n",
    "    </xsl:template>\n",
    "\n",
    "    <xsl:template match=\"product/product_id\">\n",
    "        <xsl:value-of select=\".\"/>:\n",
    "    </xsl:template>\n",
    "    \n",
    "</xsl:transform>"
   ]
  },
  {
   "cell_type": "code",
   "execution_count": 684,
   "metadata": {
    "hideCode": true,
    "hidePrompt": true,
    "slideshow": {
     "slide_type": "slide"
    }
   },
   "outputs": [
    {
     "name": "stdout",
     "output_type": "stream",
     "text": [
      "<html>\n",
      " <head>\n",
      "  <meta content=\"text/html; charset=utf-8\" http-equiv=\"Content-Type\"/>\n",
      "  <title>\n",
      "  </title>\n",
      " </head>\n",
      " <body>\n",
      "  <a href=\"#Conners%20Chair%20Company\">\n",
      "   <h2>\n",
      "    Conners Chair Company\n",
      "   </h2>\n",
      "  </a>\n",
      "  <a href=\"#Wally's%20Wonderful%20World%20of%20Furniture\">\n",
      "   <h2>\n",
      "    Wally's Wonderful World of Furniture\n",
      "   </h2>\n",
      "  </a>\n",
      "  <p>\n",
      "   Conners Chair Company\n",
      "  </p>\n",
      "  <ul>\n",
      "   <li>\n",
      "    QA3452:\n",
      "    Queen Anne Chair\n",
      "    <br/>\n",
      "    --royal blue\n",
      "    <br/>\n",
      "    --flower print\n",
      "    <br/>\n",
      "    --seafoam green\n",
      "    <br/>\n",
      "    --teal\n",
      "    <br/>\n",
      "    --burgundy\n",
      "    <br/>\n",
      "    <p>\n",
      "     $125\n",
      "    </p>\n",
      "   </li>\n",
      "  </ul>\n",
      "  <ul>\n",
      "   <li>\n",
      "    RC2342:\n",
      "    Early American Rocking Chair\n",
      "    <br/>\n",
      "    <p>\n",
      "     $62\n",
      "    </p>\n",
      "   </li>\n",
      "  </ul>\n",
      "  <ul>\n",
      "   <li>\n",
      "    BR3452:\n",
      "    Bentwood Rocker\n",
      "    <br/>\n",
      "    <p>\n",
      "     $160\n",
      "    </p>\n",
      "   </li>\n",
      "  </ul>\n",
      "  <p>\n",
      "   Wally's Wonderful World of Furniture\n",
      "  </p>\n",
      "  <ul>\n",
      "   <li>\n",
      "    WWWdrt:\n",
      "    Dining Room Table\n",
      "    <br/>\n",
      "    <p>\n",
      "     $145\n",
      "    </p>\n",
      "   </li>\n",
      "  </ul>\n",
      "  <ul>\n",
      "   <li>\n",
      "    WWWsc:\n",
      "    Swivel Chair\n",
      "    <br/>\n",
      "    <p>\n",
      "     $45\n",
      "    </p>\n",
      "   </li>\n",
      "  </ul>\n",
      "  <ul>\n",
      "   <li>\n",
      "    WWWhch:\n",
      "    Hutch\n",
      "    <br/>\n",
      "    <p>\n",
      "     $425\n",
      "    </p>\n",
      "   </li>\n",
      "  </ul>\n",
      "  <ul>\n",
      "   <li>\n",
      "    HallBench:\n",
      "    Hall Bench\n",
      "    <br/>\n",
      "    <p>\n",
      "     $62\n",
      "    </p>\n",
      "   </li>\n",
      "  </ul>\n",
      "  <ul>\n",
      "   <li>\n",
      "    SofaLoveSeat:\n",
      "    Sofa and Love Seat\n",
      "    <br/>\n",
      "    --magnolia print\n",
      "    <br/>\n",
      "    --nautical print\n",
      "    <br/>\n",
      "    <p>\n",
      "     $175\n",
      "    </p>\n",
      "   </li>\n",
      "  </ul>\n",
      " </body>\n",
      "</html>\n",
      "\n"
     ]
    },
    {
     "data": {
      "text/plain": [
       "1454"
      ]
     },
     "execution_count": 684,
     "metadata": {},
     "output_type": "execute_result"
    }
   ],
   "source": [
    "from bs4 import BeautifulSoup\n",
    "import lxml.etree as ET\n",
    "from IPython.core.display import display, HTML\n",
    "\n",
    "dom = ET.parse('examples/product.xml')\n",
    "xslt = ET.parse('examples/product8.xsl')\n",
    "transform = ET.XSLT(xslt)\n",
    "newdom = transform(dom)\n",
    "result = BeautifulSoup(str(newdom))\n",
    "html = result.prettify()\n",
    "print(html)\n",
    "f=open(\"examples/product8.html\",\"w+\")\n",
    "f.write(html)"
   ]
  },
  {
   "cell_type": "code",
   "execution_count": 685,
   "metadata": {
    "hideCode": true,
    "hidePrompt": true,
    "slideshow": {
     "slide_type": "slide"
    }
   },
   "outputs": [
    {
     "data": {
      "text/html": [
       "\n",
       "        <iframe\n",
       "            width=\"100%\"\n",
       "            height=\"800px\"\n",
       "            src=\"examples/product8.html\"\n",
       "            frameborder=\"0\"\n",
       "            allowfullscreen\n",
       "        ></iframe>\n",
       "        "
      ],
      "text/plain": [
       "<IPython.lib.display.IFrame at 0x108a08050>"
      ]
     },
     "execution_count": 685,
     "metadata": {},
     "output_type": "execute_result"
    }
   ],
   "source": [
    "from IPython.display import IFrame\n",
    "IFrame(src='examples/product8.html', width=\"100%\", height=\"800px\")"
   ]
  },
  {
   "cell_type": "markdown",
   "metadata": {
    "slideshow": {
     "slide_type": "slide"
    }
   },
   "source": [
    "## Conditionals: Choose"
   ]
  },
  {
   "cell_type": "code",
   "execution_count": 644,
   "metadata": {},
   "outputs": [
    {
     "name": "stdout",
     "output_type": "stream",
     "text": [
      "Overwriting examples/product9.xsl\n"
     ]
    }
   ],
   "source": [
    "%%writefile examples/product9.xsl\n",
    "<?xml version=\"1.0\" encoding=\"UTF-8\" ?>\n",
    "<xsl:transform xmlns:xsl=\"http://www.w3.org/1999/XSL/Transform\" version=\"1.0\">\n",
    "\n",
    "    <xsl:template match=\"/\">\n",
    "\t<html>\n",
    "\t<body>\n",
    "    \t<xsl:for-each select=\"//vendor_name\">\n",
    "    \t\t<xsl:sort select=\".\"/>\n",
    "    \t\t   <xsl:choose>\n",
    "    \t\t   \t<xsl:when test=\"../@webvendor!='no'\">\n",
    "    \t\t\t<xsl:element name=\"a\">\n",
    "    \t\t\t\t<xsl:attribute name=\"href\">\n",
    "    \t\t\t\t\t#<xsl:value-of select=\".\"/>\n",
    "    \t\t\t\t</xsl:attribute>\n",
    "    \t\t\t\t<h2><xsl:value-of select=\".\"/></h2>\n",
    "    \t\t\t</xsl:element>\n",
    "    \t\t   </xsl:when>\n",
    "    \t\t   <xsl:otherwise>\n",
    "    \t\t   \t<h2><xsl:value-of select=\".\"/></h2>\n",
    "    \t\t   </xsl:otherwise>\n",
    "    \t\t   </xsl:choose>\n",
    "    \t</xsl:for-each>\t\n",
    "\n",
    "\t<xsl:for-each select=\"//vendor\">\n",
    "\t\t<xsl:sort select=\"vendor_name\"/>\n",
    "    \t\t   <xsl:if test=\"@webvendor!='no'\">\n",
    "    \t\t\t<xsl:apply-templates/>\n",
    "    \t   \t</xsl:if>\t\n",
    "    \t</xsl:for-each>\n",
    "\t</body>\n",
    "\t</html>\n",
    "    </xsl:template>\n",
    "    \n",
    "    <xsl:template match=\"*\">\n",
    "        <xsl:apply-templates/>\n",
    "    </xsl:template>\n",
    "    \n",
    "    <xsl:template match=\"text()\">\n",
    "        <xsl:apply-templates/>\n",
    "    </xsl:template>\n",
    "    \n",
    "    <xsl:template match=\"product\">\n",
    "        <ul><li>\n",
    "            <xsl:apply-templates select=\"product_id\"/>\n",
    "            <xsl:value-of select=\"short_desc\"/>\n",
    "            <br/><xsl:apply-templates select=\"inventory[@color and @location='warehouse']\"/>\n",
    "            <p><xsl:value-of select=\".//price[@pricetype='sale'] | \n",
    "            \t\t\t     .//price[@pricetype='retail']\"/></p>\n",
    "            \n",
    "        </li></ul>\n",
    "    </xsl:template>\n",
    "    \n",
    "    <xsl:template match=\"inventory[@color and @location='warehouse']\">\n",
    "    \t--<xsl:value-of select=\"@color\"/><br/>\n",
    "    </xsl:template>\n",
    "\n",
    "    <xsl:template match=\"product/product_id\">\n",
    "        <xsl:value-of select=\".\"/>:\n",
    "    </xsl:template>\n",
    "    \n",
    "    <xsl:template match=\"vendor_name\">\n",
    "    \t<xsl:if test=\"../@webvendor!='no'\">\n",
    "    \t<xsl:element name=\"a\">\n",
    "    \t\t<xsl:attribute name=\"name\"><xsl:value-of select=\".\"/>\n",
    "    \t\t</xsl:attribute>\n",
    "       \t\t<p><xsl:value-of select=\".\"/></p>\n",
    "       \t</xsl:element>\n",
    "       \t</xsl:if>\n",
    "    </xsl:template>\n",
    "\n",
    "</xsl:transform>"
   ]
  },
  {
   "cell_type": "code",
   "execution_count": 688,
   "metadata": {
    "hideCode": true,
    "hidePrompt": true,
    "slideshow": {
     "slide_type": "slide"
    }
   },
   "outputs": [
    {
     "name": "stdout",
     "output_type": "stream",
     "text": [
      "<html>\n",
      " <body>\n",
      "  <a href=\"#Conners%20Chair%20Company\">\n",
      "   <h2>\n",
      "    Conners Chair Company\n",
      "   </h2>\n",
      "  </a>\n",
      "  <h2>\n",
      "   Crazy Marge's Bed Emporium\n",
      "  </h2>\n",
      "  <a href=\"#Wally's%20Wonderful%20World%20of%20Furniture\">\n",
      "   <h2>\n",
      "    Wally's Wonderful World of Furniture\n",
      "   </h2>\n",
      "  </a>\n",
      "  <a name=\"Conners%20Chair%20Company\">\n",
      "   <p>\n",
      "    Conners Chair Company\n",
      "   </p>\n",
      "  </a>\n",
      "  <ul>\n",
      "   <li>\n",
      "    QA3452:\n",
      "    Queen Anne Chair\n",
      "    <br/>\n",
      "    --royal blue\n",
      "    <br/>\n",
      "    --flower print\n",
      "    <br/>\n",
      "    --seafoam green\n",
      "    <br/>\n",
      "    --teal\n",
      "    <br/>\n",
      "    --burgundy\n",
      "    <br/>\n",
      "    <p>\n",
      "     $125\n",
      "    </p>\n",
      "   </li>\n",
      "  </ul>\n",
      "  <ul>\n",
      "   <li>\n",
      "    RC2342:\n",
      "    Early American Rocking Chair\n",
      "    <br/>\n",
      "    <p>\n",
      "     $62\n",
      "    </p>\n",
      "   </li>\n",
      "  </ul>\n",
      "  <ul>\n",
      "   <li>\n",
      "    BR3452:\n",
      "    Bentwood Rocker\n",
      "    <br/>\n",
      "    <p>\n",
      "     $160\n",
      "    </p>\n",
      "   </li>\n",
      "  </ul>\n",
      "  <a name=\"Wally's%20Wonderful%20World%20of%20Furniture\">\n",
      "   <p>\n",
      "    Wally's Wonderful World of Furniture\n",
      "   </p>\n",
      "  </a>\n",
      "  <ul>\n",
      "   <li>\n",
      "    WWWdrt:\n",
      "    Dining Room Table\n",
      "    <br/>\n",
      "    <p>\n",
      "     $145\n",
      "    </p>\n",
      "   </li>\n",
      "  </ul>\n",
      "  <ul>\n",
      "   <li>\n",
      "    WWWsc:\n",
      "    Swivel Chair\n",
      "    <br/>\n",
      "    <p>\n",
      "     $45\n",
      "    </p>\n",
      "   </li>\n",
      "  </ul>\n",
      "  <ul>\n",
      "   <li>\n",
      "    WWWhch:\n",
      "    Hutch\n",
      "    <br/>\n",
      "    <p>\n",
      "     $425\n",
      "    </p>\n",
      "   </li>\n",
      "  </ul>\n",
      "  <ul>\n",
      "   <li>\n",
      "    HallBench:\n",
      "    Hall Bench\n",
      "    <br/>\n",
      "    <p>\n",
      "     $62\n",
      "    </p>\n",
      "   </li>\n",
      "  </ul>\n",
      "  <ul>\n",
      "   <li>\n",
      "    SofaLoveSeat:\n",
      "    Sofa and Love Seat\n",
      "    <br/>\n",
      "    --magnolia print\n",
      "    <br/>\n",
      "    --nautical print\n",
      "    <br/>\n",
      "    <p>\n",
      "     $175\n",
      "    </p>\n",
      "   </li>\n",
      "  </ul>\n",
      " </body>\n",
      "</html>\n",
      "\n"
     ]
    },
    {
     "data": {
      "text/plain": [
       "1507"
      ]
     },
     "execution_count": 688,
     "metadata": {},
     "output_type": "execute_result"
    }
   ],
   "source": [
    "from bs4 import BeautifulSoup\n",
    "import lxml.etree as ET\n",
    "from IPython.core.display import display, HTML\n",
    "\n",
    "dom = ET.parse('examples/product.xml')\n",
    "xslt = ET.parse('examples/product9.xsl')\n",
    "transform = ET.XSLT(xslt)\n",
    "newdom = transform(dom)\n",
    "result = BeautifulSoup(str(newdom))\n",
    "html = result.prettify()\n",
    "print(html)\n",
    "f=open(\"examples/product9.html\",\"w+\")\n",
    "f.write(html)"
   ]
  },
  {
   "cell_type": "code",
   "execution_count": 689,
   "metadata": {
    "hideCode": true,
    "hidePrompt": true,
    "slideshow": {
     "slide_type": "slide"
    }
   },
   "outputs": [
    {
     "data": {
      "text/html": [
       "\n",
       "        <iframe\n",
       "            width=\"100%\"\n",
       "            height=\"800px\"\n",
       "            src=\"examples/product9.html\"\n",
       "            frameborder=\"0\"\n",
       "            allowfullscreen\n",
       "        ></iframe>\n",
       "        "
      ],
      "text/plain": [
       "<IPython.lib.display.IFrame at 0x108a08c10>"
      ]
     },
     "execution_count": 689,
     "metadata": {},
     "output_type": "execute_result"
    }
   ],
   "source": [
    "from IPython.display import IFrame\n",
    "IFrame(src='examples/product9.html', width=\"100%\", height=\"800px\")"
   ]
  },
  {
   "cell_type": "markdown",
   "metadata": {
    "slideshow": {
     "slide_type": "slide"
    }
   },
   "source": [
    "## Final File"
   ]
  },
  {
   "cell_type": "code",
   "execution_count": 695,
   "metadata": {
    "slideshow": {
     "slide_type": "slide"
    }
   },
   "outputs": [
    {
     "name": "stdout",
     "output_type": "stream",
     "text": [
      "Overwriting examples/product-result.xsl\n"
     ]
    }
   ],
   "source": [
    "%%writefile examples/product-result.xsl\n",
    "<?xml version=\"1.0\" encoding=\"UTF-8\" ?>\n",
    "<xsl:transform xmlns:xsl=\"http://www.w3.org/1999/XSL/Transform\" version=\"1.0\">\n",
    "\n",
    "    <xsl:template match=\"/\">\n",
    "    <html>\n",
    "    <head><title>Vendor and Product Listings</title></head>\n",
    "    <body>\n",
    "    <h1>Product Catalogue</h1>\n",
    "\tVendors:\n",
    "\t<ul>\n",
    "    \t<xsl:for-each select=\"//vendor_name\">\n",
    "    \t\t<xsl:sort select=\".\"/>\n",
    "    \t\t   <xsl:choose>\n",
    "    \t\t   \t<xsl:when test=\"../@webvendor!='no'\">\n",
    "    \t\t\t<li>\n",
    "    \t\t\t<xsl:element name=\"a\">\n",
    "    \t\t\t\t<xsl:attribute name=\"href\">\n",
    "    \t\t\t\t\t#<xsl:value-of select=\".\"/>\n",
    "    \t\t\t\t</xsl:attribute>\n",
    "    \t\t\t\t<xsl:value-of select=\".\"/>\n",
    "    \t\t\t</xsl:element>\n",
    "    \t\t\t</li>\n",
    "    \t\t   </xsl:when>\n",
    "    \t\t   <xsl:otherwise>\n",
    "    \t\t   \t<li><xsl:value-of select=\".\"/></li>\n",
    "    \t\t   </xsl:otherwise>\n",
    "    \t\t   </xsl:choose>\n",
    "    \t</xsl:for-each>\t\n",
    "\t</ul>\n",
    "\n",
    "\t<xsl:for-each select=\"//vendor\">\n",
    "\t\t<xsl:sort select=\"vendor_name\"/>\n",
    "    \t\t   <xsl:if test=\"@webvendor!='no'\">\n",
    "    \t\t\t<xsl:apply-templates/>\n",
    "    \t\t   </xsl:if>\t\n",
    "    \t</xsl:for-each>\n",
    "    </body>\n",
    "    </html>\n",
    "    </xsl:template>\n",
    "    \n",
    "    <xsl:template match=\"*\">\n",
    "        <xsl:apply-templates/>\n",
    "    </xsl:template>\n",
    "    \n",
    "    <xsl:template match=\"text()\">\n",
    "        <xsl:apply-templates/>\n",
    "    </xsl:template>\n",
    "    \n",
    "    <xsl:template match=\"product\">\n",
    "        <ul><li>\n",
    "            <xsl:value-of select=\"short_desc\"/>\n",
    "            <xsl:apply-templates select=\"product_id\"/>\n",
    "            <xsl:if test=\"inventory[@color]\">\n",
    "            \t<p>Available colours:\n",
    "            \t<br/><xsl:apply-templates select=\"inventory[@color]\"/>\n",
    "            \t</p>\n",
    "            </xsl:if>\n",
    "            <p>Price: <xsl:value-of select=\".//price[@pricetype='sale'] | \n",
    "            \t\t\t     .//price[@pricetype='retail']\"/></p>\n",
    "            \n",
    "        </li></ul>\n",
    "    </xsl:template>\n",
    "    \n",
    "    <xsl:template match=\"inventory[@color and @location='warehouse']\">\n",
    "    \t--<xsl:value-of select=\"@color\"/><br/>\n",
    "    </xsl:template>\n",
    "\n",
    "    <xsl:template match=\"product/product_id\">\n",
    "        (<xsl:value-of select=\".\"/>)\n",
    "    </xsl:template>\n",
    "    \n",
    "    <xsl:template match=\"vendor_name\">\n",
    "    \t<xsl:if test=\"../@webvendor!='no'\">\n",
    "    \t<xsl:element name=\"a\">\n",
    "    \t\t<xsl:attribute name=\"name\"><xsl:value-of select=\".\"/>\n",
    "    \t\t</xsl:attribute>\n",
    "       \t\t<h3><xsl:value-of select=\".\"/></h3>\n",
    "       \t</xsl:element>\n",
    "       \t</xsl:if>\n",
    "    </xsl:template>\n",
    "\n",
    "</xsl:transform>"
   ]
  },
  {
   "cell_type": "code",
   "execution_count": 696,
   "metadata": {
    "hideCode": true,
    "hidePrompt": true,
    "slideshow": {
     "slide_type": "slide"
    }
   },
   "outputs": [
    {
     "name": "stdout",
     "output_type": "stream",
     "text": [
      "<html>\n",
      " <head>\n",
      "  <meta content=\"text/html; charset=utf-8\" http-equiv=\"Content-Type\"/>\n",
      "  <title>\n",
      "   Vendor and Product Listings\n",
      "  </title>\n",
      " </head>\n",
      " <body>\n",
      "  <h1>\n",
      "   Product Catalogue\n",
      "  </h1>\n",
      "  Vendors:\n",
      "  <ul>\n",
      "   <li>\n",
      "    <a href=\"#Conners%20Chair%20Company\">\n",
      "     Conners Chair Company\n",
      "    </a>\n",
      "   </li>\n",
      "   <li>\n",
      "    Crazy Marge's Bed Emporium\n",
      "   </li>\n",
      "   <li>\n",
      "    <a href=\"#Wally's%20Wonderful%20World%20of%20Furniture\">\n",
      "     Wally's Wonderful World of Furniture\n",
      "    </a>\n",
      "   </li>\n",
      "  </ul>\n",
      "  <a name=\"Conners%20Chair%20Company\">\n",
      "   <h3>\n",
      "    Conners Chair Company\n",
      "   </h3>\n",
      "  </a>\n",
      "  <ul>\n",
      "   <li>\n",
      "    Queen Anne Chair\n",
      "        (QA3452)\n",
      "    <p>\n",
      "     Available colours:\n",
      "     <br/>\n",
      "     --royal blue\n",
      "     <br/>\n",
      "     --flower print\n",
      "     <br/>\n",
      "     --seafoam green\n",
      "     <br/>\n",
      "     --teal\n",
      "     <br/>\n",
      "     --burgundy\n",
      "     <br/>\n",
      "    </p>\n",
      "    <p>\n",
      "     Price: $125\n",
      "    </p>\n",
      "   </li>\n",
      "  </ul>\n",
      "  <ul>\n",
      "   <li>\n",
      "    Early American Rocking Chair\n",
      "        (RC2342)\n",
      "    <p>\n",
      "     Price: $62\n",
      "    </p>\n",
      "   </li>\n",
      "  </ul>\n",
      "  <ul>\n",
      "   <li>\n",
      "    Bentwood Rocker\n",
      "        (BR3452)\n",
      "    <p>\n",
      "     Price: $160\n",
      "    </p>\n",
      "   </li>\n",
      "  </ul>\n",
      "  <a name=\"Wally's%20Wonderful%20World%20of%20Furniture\">\n",
      "   <h3>\n",
      "    Wally's Wonderful World of Furniture\n",
      "   </h3>\n",
      "  </a>\n",
      "  <ul>\n",
      "   <li>\n",
      "    Dining Room Table\n",
      "        (WWWdrt)\n",
      "    <p>\n",
      "     Price: $145\n",
      "    </p>\n",
      "   </li>\n",
      "  </ul>\n",
      "  <ul>\n",
      "   <li>\n",
      "    Swivel Chair\n",
      "        (WWWsc)\n",
      "    <p>\n",
      "     Price: $45\n",
      "    </p>\n",
      "   </li>\n",
      "  </ul>\n",
      "  <ul>\n",
      "   <li>\n",
      "    Hutch\n",
      "        (WWWhch)\n",
      "    <p>\n",
      "     Price: $425\n",
      "    </p>\n",
      "   </li>\n",
      "  </ul>\n",
      "  <ul>\n",
      "   <li>\n",
      "    Hall Bench\n",
      "        (HallBench)\n",
      "    <p>\n",
      "     Price: $62\n",
      "    </p>\n",
      "   </li>\n",
      "  </ul>\n",
      "  <ul>\n",
      "   <li>\n",
      "    Sofa and Love Seat\n",
      "        (SofaLoveSeat)\n",
      "    <p>\n",
      "     Available colours:\n",
      "     <br/>\n",
      "     --magnolia print\n",
      "     <br/>\n",
      "     --nautical print\n",
      "     <br/>\n",
      "    </p>\n",
      "    <p>\n",
      "     Price: $175\n",
      "    </p>\n",
      "   </li>\n",
      "  </ul>\n",
      " </body>\n",
      "</html>\n",
      "\n"
     ]
    },
    {
     "data": {
      "text/plain": [
       "1860"
      ]
     },
     "execution_count": 696,
     "metadata": {},
     "output_type": "execute_result"
    }
   ],
   "source": [
    "from bs4 import BeautifulSoup\n",
    "import lxml.etree as ET\n",
    "\n",
    "dom = ET.parse('examples/product.xml')\n",
    "xslt = ET.parse('examples/product-result.xsl')\n",
    "transform = ET.XSLT(xslt)\n",
    "newdom = transform(dom)\n",
    "result = BeautifulSoup(str(newdom))\n",
    "html = result.prettify()\n",
    "print(html)\n",
    "f=open(\"examples/product.html\",\"w+\")\n",
    "f.write(html)"
   ]
  },
  {
   "cell_type": "code",
   "execution_count": 697,
   "metadata": {
    "hideCode": true,
    "hidePrompt": true,
    "scrolled": true,
    "slideshow": {
     "slide_type": "slide"
    }
   },
   "outputs": [
    {
     "data": {
      "text/html": [
       "\n",
       "        <iframe\n",
       "            width=\"100%\"\n",
       "            height=\"800px\"\n",
       "            src=\"examples/product.html\"\n",
       "            frameborder=\"0\"\n",
       "            allowfullscreen\n",
       "        ></iframe>\n",
       "        "
      ],
      "text/plain": [
       "<IPython.lib.display.IFrame at 0x10966e150>"
      ]
     },
     "execution_count": 697,
     "metadata": {},
     "output_type": "execute_result"
    }
   ],
   "source": [
    "from IPython.display import IFrame\n",
    "IFrame(src='examples/product.html', width=\"100%\", height=\"800px\")"
   ]
  },
  {
   "cell_type": "markdown",
   "metadata": {
    "slideshow": {
     "slide_type": "slide"
    }
   },
   "source": [
    "# Tutorial <img src=\"https://img.icons8.com/e-learning/80\" style=\"display:inline-block;vertical-align:middle;\">\n",
    "\n",
    "<ul>\n",
    "    <li>Open the following link <strong><a href=\"http://videlibri.sourceforge.net/cgi-bin/xidelcgi?&amp;data=%3C%3Fxml%20version%3D%221.0%22%20%3F%3E%0A%3C%3Fxml-stylesheet%20href%3D%22timetable.xsl%22%20type%3D%22text%2Fxsl%22%3F%3E%0A%3Ctimetable%3E%0A%09%3Cmodule%3E%0A%09%09%3Cname%3EWeb%20App%20Dev%3C%2Fname%3E%0A%09%09%3Cfaculty%3E%0A%09%09%09%3Clecturer%3EFS%3C%2Flecturer%3E%0A%09%09%09%3ClabAssist%20id%3D%221%22%3ESC%3C%2FlabAssist%3E%0A%09%09%09%3ClabAssist%20id%3D%222%22%3EEMcL%3C%2FlabAssist%3E%0A%09%09%3C%2Ffaculty%3E%0A%09%09%3Cclasses%3E%0A%09%09%09%3Clecture%20id%3D%221%22%3E%0A%09%09%09%09%3Cday%3EMon%3C%2Fday%3E%0A%09%09%09%09%3Ctime%3E9am-11am%3C%2Ftime%3E%0A%09%09%09%09%3Croom%20type%3D%22computerLab%22%3ESCR2%3C%2Froom%3E%0A%09%09%09%3C%2Flecture%3E%0A%09%09%09%3Clecture%20id%3D%222%22%3E%0A%09%09%09%09%3Cday%3EThurs%3C%2Fday%3E%0A%09%09%09%09%3Ctime%3E2pm%20-%204pm%3C%2Ftime%3E%0A%09%09%09%09%3Croom%20type%3D%22computerLab%22%3ESCR1%3C%2Froom%3E%0A%09%09%09%3C%2Flecture%3E%0A%09%09%09%3Clab%3E%0A%09%09%09%09%3Cday%3EFri%3C%2Fday%3E%0A%09%09%09%09%3Ctime%3E1pm%20-%203pm%3C%2Ftime%3E%0A%09%09%09%09%3Croom%20type%3D%22computerLab%22%3ESCR2%3C%2Froom%3E%0A%09%09%09%3C%2Flab%3E%0A%09%09%3C%2Fclasses%3E%0A%09%3C%2Fmodule%3E%0A%09%3Cmodule%3E%0A%09%09%3Cname%3EIntro.%20to%20DB%3C%2Fname%3E%0A%09%09%3Cfaculty%3E%0A%09%09%09%3Clecturer%3EPH%3C%2Flecturer%3E%0A%09%09%3C%2Ffaculty%3E%0A%09%09%3Cexam%2F%3E%0A%09%09%3Cclasses%3E%0A%09%09%09%3Clecture%3E%0A%09%09%09%09%3Cday%3EMon%3C%2Fday%3E%0A%09%09%09%09%3Ctime%3E11am-1pm%3C%2Ftime%3E%0A%09%09%09%09%3Croom%20type%3D%22computerLab%22%3ESCR1%3C%2Froom%3E%0A%09%09%09%3C%2Flecture%3E%0A%09%09%09%3Clab%3E%0A%09%09%09%09%3Cday%3EThurs%3C%2Fday%3E%0A%09%09%09%09%3Ctime%3E4pm%20-%205pm%3C%2Ftime%3E%0A%09%09%09%09%3Croom%20type%3D%22computerLab%22%3ESCR1%3C%2Froom%3E%0A%09%09%09%3C%2Flab%3E%0A%09%09%3C%2Fclasses%3E%0A%09%3C%2Fmodule%3E%0A%09%3Cmodule%3E%0A%09%09%3Cname%3EIT%20Proj%20Mgt%3C%2Fname%3E%0A%09%09%3Cfaculty%3E%0A%09%09%09%3Clecturer%3EEO'L%3C%2Flecturer%3E%0A%09%09%3C%2Ffaculty%3E%0A%09%09%3Cexam%2F%3E%0A%09%09%3Cclasses%3E%0A%09%09%09%3Clecture%3E%0A%09%09%09%09%3Cday%3EMon%3C%2Fday%3E%0A%09%09%09%09%3Ctime%3E3pm%20-%205pm%3C%2Ftime%3E%0A%09%09%09%09%3Croom%20type%3D%22computerLab%22%3ESCR2%3C%2Froom%3E%0A%09%09%09%3C%2Flecture%3E%0A%09%09%09%3Clab%3E%0A%09%09%09%09%3Cday%3EFri%3C%2Fday%3E%0A%09%09%09%09%3Ctime%3E11am%20-%2012pm%3C%2Ftime%3E%0A%09%09%09%09%3Croom%20type%3D%22computerLab%22%3ESCR1%3C%2Froom%3E%0A%09%09%09%3C%2Flab%3E%0A%09%09%3C%2Fclasses%3E%0A%09%3C%2Fmodule%3E%0A%09%3Cmodule%3E%0A%09%09%3Cname%3EFund%20Bus%20Anal%3C%2Fname%3E%0A%09%09%3Cfaculty%3E%0A%09%09%09%3Clecturer%3EDB%3C%2Flecturer%3E%0A%09%09%3C%2Ffaculty%3E%0A%09%09%3Cexam%2F%3E%0A%09%09%3Cclasses%3E%0A%09%09%09%3Clecture%3E%0A%09%09%09%09%3Cday%3ETues%3C%2Fday%3E%0A%09%09%09%09%3Ctime%3E1pm%20-%203pm%3C%2Ftime%3E%0A%09%09%09%09%3Croom%20type%3D%22computerLab%22%3ESCR1%3C%2Froom%3E%0A%09%09%09%3C%2Flecture%3E%0A%09%09%09%3Clab%3E%0A%09%09%09%09%3Cday%3EThurs%3C%2Fday%3E%0A%09%09%09%09%3Ctime%3E12pm%20-%201pm%3C%2Ftime%3E%0A%09%09%09%09%3Croom%20type%3D%22classroom%22%3E1.01%3C%2Froom%3E%0A%09%09%09%3C%2Flab%3E%0A%09%09%3C%2Fclasses%3E%0A%09%3C%2Fmodule%3E%0A%09%3Cmodule%3E%0A%09%09%3Cname%3ESoftware%20Apps%20for%20Bus%3C%2Fname%3E%0A%09%09%3Cfaculty%3E%0A%09%09%09%3Clecturer%3EJM%3C%2Flecturer%3E%0A%09%09%3C%2Ffaculty%3E%0A%09%09%3Cexam%2F%3E%0A%09%09%3Cclasses%3E%0A%09%09%09%3Clecture%3E%0A%09%09%09%09%3Cday%3ETues%3C%2Fday%3E%0A%09%09%09%09%3Ctime%3E3pm%20-%205pm%3C%2Ftime%3E%0A%09%09%09%09%3Croom%20type%3D%22computerLab%22%3ESCR2%3C%2Froom%3E%0A%09%09%09%3C%2Flecture%3E%0A%09%09%09%3Clab%3E%0A%09%09%09%09%3Cday%3EFri%3C%2Fday%3E%0A%09%09%09%09%3Ctime%3E9am-11am%3C%2Ftime%3E%0A%09%09%09%09%3Croom%20type%3D%22classroom%22%3E1.02%3C%2Froom%3E%0A%09%09%09%3C%2Flab%3E%0A%09%09%3C%2Fclasses%3E%0A%09%3C%2Fmodule%3E%0A%3C%2Ftimetable%3E&amp;=timetable.xsl&amp;extract=id(%22t2%22)%20%2F%20tbody%20%2F%20tr%20%2F%20td%5B1%5D%0A&amp;=&amp;input-format=auto&amp;printed-node-format=text&amp;output-format=adhoc&amp;compatibility=Enable%20all%20extensions&amp;dot-notation=unambiguous&amp;extract-kind=xpath2\">timetable.xml</a></strong></li>\n",
    "    <li>Write XPath expression to:\n",
    "        <ul>\n",
    "            <li>Print the names of all modules on the timetables</li>\n",
    "            <li>Print the names of all modules which have an exam</li>\n",
    "            <li>Print the name, day, time and room of all lab classes</li>\n",
    "            <li>Print the details of any module which has more than one lecture in a week</li>\n",
    "            <li>Print the day, time and room of all classes which take place in computer labs</li>\n",
    "            <li>Print the name of all modules which have classes on a Monday</li>\n",
    "        </ul>\n",
    "    </li>\n",
    "    <li>Create an .xsl file (<strong>timetable.xls</strong>) to display each of the items above</li>\n",
    "    <li>Test your final XSL file (<strong>timetable.xls</strong>) and your original XML file (<strong>timetable.xml</strong>) here:&nbsp;<strong><a href=\"http://www.freeformatter.com/xsl-transformer.html\">Free Online XSL Transformer</a></strong></li>\n",
    "</ul>"
   ]
  }
 ],
 "metadata": {
  "celltoolbar": "Slideshow",
  "kernelspec": {
   "display_name": "Python 3",
   "language": "python",
   "name": "python3"
  },
  "language_info": {
   "codemirror_mode": {
    "name": "ipython",
    "version": 3
   },
   "file_extension": ".py",
   "mimetype": "text/x-python",
   "name": "python",
   "nbconvert_exporter": "python",
   "pygments_lexer": "ipython3",
   "version": "3.7.4"
  },
  "rise": {
   "autolaunch": true,
   "backgroundTransition": "slide",
   "controls": true,
   "enable_chalkboard": true,
   "overlay": "<div class='line top'></div><div class='line bottom'></div><div class='line left'></div><div class='line right'></div>",
   "showSlideNumber": "speaker",
   "slideNumber": true,
   "theme": "white",
   "transition": "slide"
  }
 },
 "nbformat": 4,
 "nbformat_minor": 2
}
